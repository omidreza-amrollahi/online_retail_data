{
 "cells": [
  {
   "cell_type": "markdown",
   "id": "275dbb52",
   "metadata": {},
   "source": [
    "To solve the question: \"Make a model, which allows estimating if a given customer will buy again something from the online shop in the next quarter\", here are the general steps to follow:\n",
    "\n",
    "1. Data Loading and Exploration\n",
    "2. Data Preprocessing\n",
    "3. Feature Engineering\n",
    "4. Building and Training a Model\n",
    "5. Evaluating Model Performance\n",
    "6. Model Tuning & Optimization\n",
    "\n",
    "Now, let's get into the detail of each step with Python code using common data science and machine learning libraries (pandas, numpy, sklearn, etc.):\n",
    "\n",
    "# Data Loading and Exploration:\n",
    "Here, we first import necessary libraries such as pandas, numpy, matplotlib and datetime. The data is loaded from a CSV file and a snapshot of the data is displayed using df.head(). The data includes information about invoices, customer IDs, quantities of purchases, prices, and the countries of the customers."
   ]
  },
  {
   "cell_type": "code",
   "execution_count": 1,
   "id": "3ab6eca8",
   "metadata": {},
   "outputs": [
    {
     "data": {
      "text/html": [
       "<div>\n",
       "<style scoped>\n",
       "    .dataframe tbody tr th:only-of-type {\n",
       "        vertical-align: middle;\n",
       "    }\n",
       "\n",
       "    .dataframe tbody tr th {\n",
       "        vertical-align: top;\n",
       "    }\n",
       "\n",
       "    .dataframe thead th {\n",
       "        text-align: right;\n",
       "    }\n",
       "</style>\n",
       "<table border=\"1\" class=\"dataframe\">\n",
       "  <thead>\n",
       "    <tr style=\"text-align: right;\">\n",
       "      <th></th>\n",
       "      <th>Invoice</th>\n",
       "      <th>StockCode</th>\n",
       "      <th>Description</th>\n",
       "      <th>Quantity</th>\n",
       "      <th>InvoiceDate</th>\n",
       "      <th>Price</th>\n",
       "      <th>Customer ID</th>\n",
       "      <th>Country</th>\n",
       "    </tr>\n",
       "  </thead>\n",
       "  <tbody>\n",
       "    <tr>\n",
       "      <th>0</th>\n",
       "      <td>489434</td>\n",
       "      <td>85048</td>\n",
       "      <td>15CM CHRISTMAS GLASS BALL 20 LIGHTS</td>\n",
       "      <td>12</td>\n",
       "      <td>2009-12-01 07:45:00</td>\n",
       "      <td>6.95</td>\n",
       "      <td>13085.0</td>\n",
       "      <td>United Kingdom</td>\n",
       "    </tr>\n",
       "    <tr>\n",
       "      <th>1</th>\n",
       "      <td>489434</td>\n",
       "      <td>79323P</td>\n",
       "      <td>PINK CHERRY LIGHTS</td>\n",
       "      <td>12</td>\n",
       "      <td>2009-12-01 07:45:00</td>\n",
       "      <td>6.75</td>\n",
       "      <td>13085.0</td>\n",
       "      <td>United Kingdom</td>\n",
       "    </tr>\n",
       "    <tr>\n",
       "      <th>2</th>\n",
       "      <td>489434</td>\n",
       "      <td>79323W</td>\n",
       "      <td>WHITE CHERRY LIGHTS</td>\n",
       "      <td>12</td>\n",
       "      <td>2009-12-01 07:45:00</td>\n",
       "      <td>6.75</td>\n",
       "      <td>13085.0</td>\n",
       "      <td>United Kingdom</td>\n",
       "    </tr>\n",
       "    <tr>\n",
       "      <th>3</th>\n",
       "      <td>489434</td>\n",
       "      <td>22041</td>\n",
       "      <td>RECORD FRAME 7\" SINGLE SIZE</td>\n",
       "      <td>48</td>\n",
       "      <td>2009-12-01 07:45:00</td>\n",
       "      <td>2.10</td>\n",
       "      <td>13085.0</td>\n",
       "      <td>United Kingdom</td>\n",
       "    </tr>\n",
       "    <tr>\n",
       "      <th>4</th>\n",
       "      <td>489434</td>\n",
       "      <td>21232</td>\n",
       "      <td>STRAWBERRY CERAMIC TRINKET BOX</td>\n",
       "      <td>24</td>\n",
       "      <td>2009-12-01 07:45:00</td>\n",
       "      <td>1.25</td>\n",
       "      <td>13085.0</td>\n",
       "      <td>United Kingdom</td>\n",
       "    </tr>\n",
       "  </tbody>\n",
       "</table>\n",
       "</div>"
      ],
      "text/plain": [
       "  Invoice StockCode                          Description  Quantity  \\\n",
       "0  489434     85048  15CM CHRISTMAS GLASS BALL 20 LIGHTS        12   \n",
       "1  489434    79323P                   PINK CHERRY LIGHTS        12   \n",
       "2  489434    79323W                  WHITE CHERRY LIGHTS        12   \n",
       "3  489434     22041         RECORD FRAME 7\" SINGLE SIZE         48   \n",
       "4  489434     21232       STRAWBERRY CERAMIC TRINKET BOX        24   \n",
       "\n",
       "           InvoiceDate  Price  Customer ID         Country  \n",
       "0  2009-12-01 07:45:00   6.95      13085.0  United Kingdom  \n",
       "1  2009-12-01 07:45:00   6.75      13085.0  United Kingdom  \n",
       "2  2009-12-01 07:45:00   6.75      13085.0  United Kingdom  \n",
       "3  2009-12-01 07:45:00   2.10      13085.0  United Kingdom  \n",
       "4  2009-12-01 07:45:00   1.25      13085.0  United Kingdom  "
      ]
     },
     "execution_count": 1,
     "metadata": {},
     "output_type": "execute_result"
    }
   ],
   "source": [
    "import pandas as pd\n",
    "import numpy as np\n",
    "import matplotlib.pyplot as plt\n",
    "from datetime import datetime, timedelta\n",
    "\n",
    "# Load the data\n",
    "df = pd.read_csv('online_retail_II.csv')\n",
    "\n",
    "# Explore the data\n",
    "df.head()"
   ]
  },
  {
   "cell_type": "markdown",
   "id": "911c281a",
   "metadata": {},
   "source": [
    "From data exploration in question 1 we already know that there are customers whose Customer ID are missing, and there are negative Quantity values which we assumed to be returns"
   ]
  },
  {
   "cell_type": "markdown",
   "id": "62035d32",
   "metadata": {},
   "source": [
    "# Data Preprocessing:\n",
    "In this section, we convert the 'InvoiceDate' from object type to datetime. Any rows with missing customer IDs are dropped to ensure data integrity. The data is sorted by 'InvoiceDate' to maintain chronological order.\n",
    "\n",
    "We will consider customers who have made at least one purchase in the past.\n",
    "\n",
    "Regarding the missing Customer IDs, we can fill in missing Customer IDs based on the Invoice Number. but this approach assumes that all items within the same invoice are purchased by the same customer, which might not always be the case. So we should carefully validate this assumption by asking the stakeholfers before applying it. For now we just drop the rows with the missing Customer ID."
   ]
  },
  {
   "cell_type": "code",
   "execution_count": 2,
   "id": "2bfa6bb0",
   "metadata": {},
   "outputs": [],
   "source": [
    "# Convert InvoiceDate from object to datetime\n",
    "df['InvoiceDate'] = pd.to_datetime(df['InvoiceDate'])\n",
    "\n",
    "# Filter out rows with missing customer IDs\n",
    "df = df.dropna(subset=['Customer ID'])\n",
    "\n",
    "# Sort data based on the date\n",
    "df = df.sort_values('InvoiceDate').reset_index(drop=True)"
   ]
  },
  {
   "cell_type": "markdown",
   "id": "5a70675d",
   "metadata": {},
   "source": [
    "# Feature Engineering:\n",
    "A binary variable 'PurchasedNextQuarter' is created to indicate if a customer made a purchase in the subsequent quarter. Additionally, another binary variable 'HasReturned' is created to indicate if the customer has ever returned an item. Then, we group the data by 'Customer ID' and calculate various aggregated metrics. This results in a DataFrame where each row represents a unique customer. We'll use a 3-month (a quarter) as our threshold."
   ]
  },
  {
   "cell_type": "code",
   "execution_count": 3,
   "id": "b4037f7b",
   "metadata": {},
   "outputs": [],
   "source": [
    "# Create a binary variable for each customer representing whether they make a purchase in the subsequent quarter\n",
    "df['PurchasedNextQuarter'] = 0\n",
    "\n",
    "# Use shift to check if a customer makes a purchase in the subsequent quarter\n",
    "df['PurchasedNextQuarter'] = (df.sort_values('InvoiceDate')\n",
    "                                .groupby('Customer ID')['InvoiceDate']\n",
    "                                .shift(-1) - df['InvoiceDate'] <= pd.Timedelta(90, unit='D')).astype(int)\n",
    "\n",
    "# Create a separate feature for returns\n",
    "df['HasReturned'] = df.groupby('Customer ID')['Quantity'].apply(lambda x: (x < 0)).astype(int).values"
   ]
  },
  {
   "cell_type": "markdown",
   "id": "c661def7",
   "metadata": {},
   "source": [
    "We see that the same Customer IDs have made several purchases. Each row represents a different purchase made by the customer, so it's natural for a customer to have multiple rows if they've made multiple purchases.\n",
    "\n",
    "when we're engineering features and building a model to predict future behavior, we'll want to summarize the data at the customer level. This means each Customer ID should be unique in our modeling dataset.\n",
    "\n",
    "So for example, instead of using 'Quantity' and 'UnitPrice' as they are, we want to create aggregated features such as 'TotalQuantity', 'AverageUnitPrice', etc., for each customer:"
   ]
  },
  {
   "cell_type": "code",
   "execution_count": 4,
   "id": "edc9b807",
   "metadata": {},
   "outputs": [],
   "source": [
    "# Group by CustomerID and calculate aggregate metrics\n",
    "customer_data = df.groupby('Customer ID').agg({\n",
    "    'Quantity': 'sum',\n",
    "    'Price': 'mean',\n",
    "    'InvoiceDate': ['min', 'max'],  # The first and last purchase date can be useful\n",
    "    'PurchasedNextQuarter': 'max',  # Any purchase in next quarter counts\n",
    "    'HasReturned': 'max' # any return by a customer\n",
    "})\n",
    "\n",
    "# Flatten the column index\n",
    "customer_data.columns = ['_'.join(col).strip() for col in customer_data.columns.values]"
   ]
  },
  {
   "cell_type": "code",
   "execution_count": 5,
   "id": "999f3a53",
   "metadata": {},
   "outputs": [
    {
     "data": {
      "text/html": [
       "<div>\n",
       "<style scoped>\n",
       "    .dataframe tbody tr th:only-of-type {\n",
       "        vertical-align: middle;\n",
       "    }\n",
       "\n",
       "    .dataframe tbody tr th {\n",
       "        vertical-align: top;\n",
       "    }\n",
       "\n",
       "    .dataframe thead th {\n",
       "        text-align: right;\n",
       "    }\n",
       "</style>\n",
       "<table border=\"1\" class=\"dataframe\">\n",
       "  <thead>\n",
       "    <tr style=\"text-align: right;\">\n",
       "      <th></th>\n",
       "      <th>Quantity_sum</th>\n",
       "      <th>Price_mean</th>\n",
       "      <th>InvoiceDate_min</th>\n",
       "      <th>InvoiceDate_max</th>\n",
       "      <th>PurchasedNextQuarter_max</th>\n",
       "      <th>HasReturned_max</th>\n",
       "    </tr>\n",
       "    <tr>\n",
       "      <th>Customer ID</th>\n",
       "      <th></th>\n",
       "      <th></th>\n",
       "      <th></th>\n",
       "      <th></th>\n",
       "      <th></th>\n",
       "      <th></th>\n",
       "    </tr>\n",
       "  </thead>\n",
       "  <tbody>\n",
       "    <tr>\n",
       "      <th>12346.0</th>\n",
       "      <td>52</td>\n",
       "      <td>12.092500</td>\n",
       "      <td>2009-12-14 08:34:00</td>\n",
       "      <td>2011-01-18 10:17:00</td>\n",
       "      <td>1</td>\n",
       "      <td>1</td>\n",
       "    </tr>\n",
       "    <tr>\n",
       "      <th>12347.0</th>\n",
       "      <td>3286</td>\n",
       "      <td>2.546087</td>\n",
       "      <td>2010-10-31 14:20:00</td>\n",
       "      <td>2011-12-07 15:52:00</td>\n",
       "      <td>1</td>\n",
       "      <td>1</td>\n",
       "    </tr>\n",
       "    <tr>\n",
       "      <th>12348.0</th>\n",
       "      <td>2714</td>\n",
       "      <td>3.786275</td>\n",
       "      <td>2010-09-27 14:59:00</td>\n",
       "      <td>2011-09-25 13:13:00</td>\n",
       "      <td>1</td>\n",
       "      <td>0</td>\n",
       "    </tr>\n",
       "    <tr>\n",
       "      <th>12349.0</th>\n",
       "      <td>1619</td>\n",
       "      <td>8.358833</td>\n",
       "      <td>2009-12-04 12:49:00</td>\n",
       "      <td>2011-11-21 09:51:00</td>\n",
       "      <td>1</td>\n",
       "      <td>0</td>\n",
       "    </tr>\n",
       "    <tr>\n",
       "      <th>12350.0</th>\n",
       "      <td>197</td>\n",
       "      <td>3.841176</td>\n",
       "      <td>2011-02-02 16:01:00</td>\n",
       "      <td>2011-02-02 16:01:00</td>\n",
       "      <td>1</td>\n",
       "      <td>0</td>\n",
       "    </tr>\n",
       "    <tr>\n",
       "      <th>...</th>\n",
       "      <td>...</td>\n",
       "      <td>...</td>\n",
       "      <td>...</td>\n",
       "      <td>...</td>\n",
       "      <td>...</td>\n",
       "      <td>...</td>\n",
       "    </tr>\n",
       "    <tr>\n",
       "      <th>18283.0</th>\n",
       "      <td>1733</td>\n",
       "      <td>1.744168</td>\n",
       "      <td>2010-02-19 17:16:00</td>\n",
       "      <td>2011-12-06 12:02:00</td>\n",
       "      <td>1</td>\n",
       "      <td>1</td>\n",
       "    </tr>\n",
       "    <tr>\n",
       "      <th>18284.0</th>\n",
       "      <td>493</td>\n",
       "      <td>4.003103</td>\n",
       "      <td>2010-10-04 11:33:00</td>\n",
       "      <td>2010-10-06 12:31:00</td>\n",
       "      <td>1</td>\n",
       "      <td>0</td>\n",
       "    </tr>\n",
       "    <tr>\n",
       "      <th>18285.0</th>\n",
       "      <td>145</td>\n",
       "      <td>8.350000</td>\n",
       "      <td>2010-02-17 10:24:00</td>\n",
       "      <td>2010-02-17 10:24:00</td>\n",
       "      <td>1</td>\n",
       "      <td>0</td>\n",
       "    </tr>\n",
       "    <tr>\n",
       "      <th>18286.0</th>\n",
       "      <td>592</td>\n",
       "      <td>4.379286</td>\n",
       "      <td>2009-12-16 10:45:00</td>\n",
       "      <td>2010-08-20 11:57:00</td>\n",
       "      <td>1</td>\n",
       "      <td>0</td>\n",
       "    </tr>\n",
       "    <tr>\n",
       "      <th>18287.0</th>\n",
       "      <td>3011</td>\n",
       "      <td>2.236474</td>\n",
       "      <td>2009-12-01 14:19:00</td>\n",
       "      <td>2011-10-28 09:29:00</td>\n",
       "      <td>1</td>\n",
       "      <td>0</td>\n",
       "    </tr>\n",
       "  </tbody>\n",
       "</table>\n",
       "<p>5942 rows × 6 columns</p>\n",
       "</div>"
      ],
      "text/plain": [
       "             Quantity_sum  Price_mean     InvoiceDate_min     InvoiceDate_max  \\\n",
       "Customer ID                                                                     \n",
       "12346.0                52   12.092500 2009-12-14 08:34:00 2011-01-18 10:17:00   \n",
       "12347.0              3286    2.546087 2010-10-31 14:20:00 2011-12-07 15:52:00   \n",
       "12348.0              2714    3.786275 2010-09-27 14:59:00 2011-09-25 13:13:00   \n",
       "12349.0              1619    8.358833 2009-12-04 12:49:00 2011-11-21 09:51:00   \n",
       "12350.0               197    3.841176 2011-02-02 16:01:00 2011-02-02 16:01:00   \n",
       "...                   ...         ...                 ...                 ...   \n",
       "18283.0              1733    1.744168 2010-02-19 17:16:00 2011-12-06 12:02:00   \n",
       "18284.0               493    4.003103 2010-10-04 11:33:00 2010-10-06 12:31:00   \n",
       "18285.0               145    8.350000 2010-02-17 10:24:00 2010-02-17 10:24:00   \n",
       "18286.0               592    4.379286 2009-12-16 10:45:00 2010-08-20 11:57:00   \n",
       "18287.0              3011    2.236474 2009-12-01 14:19:00 2011-10-28 09:29:00   \n",
       "\n",
       "             PurchasedNextQuarter_max  HasReturned_max  \n",
       "Customer ID                                             \n",
       "12346.0                             1                1  \n",
       "12347.0                             1                1  \n",
       "12348.0                             1                0  \n",
       "12349.0                             1                0  \n",
       "12350.0                             1                0  \n",
       "...                               ...              ...  \n",
       "18283.0                             1                1  \n",
       "18284.0                             1                0  \n",
       "18285.0                             1                0  \n",
       "18286.0                             1                0  \n",
       "18287.0                             1                0  \n",
       "\n",
       "[5942 rows x 6 columns]"
      ]
     },
     "execution_count": 5,
     "metadata": {},
     "output_type": "execute_result"
    }
   ],
   "source": [
    "customer_data"
   ]
  },
  {
   "cell_type": "code",
   "execution_count": 6,
   "id": "61bb5190",
   "metadata": {},
   "outputs": [
    {
     "data": {
      "text/plain": [
       "PurchasedNextQuarter_max\n",
       "1    5787\n",
       "0     155\n",
       "Name: count, dtype: int64"
      ]
     },
     "execution_count": 6,
     "metadata": {},
     "output_type": "execute_result"
    }
   ],
   "source": [
    "customer_data.PurchasedNextQuarter_max.value_counts()"
   ]
  },
  {
   "cell_type": "markdown",
   "id": "1b2f075d",
   "metadata": {},
   "source": [
    "There is a big imbalance in our dataset so we will use resampling techniques in the model building section.\n",
    "\n",
    "Specifically we use oversampling in which we increase the number of samples in the minority class by duplicating examples or generating synthetic examples. One popular method for over-sampling is SMOTE (Synthetic Minority Over-sampling Technique)."
   ]
  },
  {
   "cell_type": "markdown",
   "id": "62c1671b",
   "metadata": {},
   "source": [
    "# Building and Training a Model\n",
    "Here, we have chosen a few features ('Quantity_sum', 'Price_mean', 'HasReturned_max') to train the RandomForestClassifier model. Before that, you handle class imbalance by using SMOTE (Synthetic Minority Over-sampling Technique) to oversample the minority class. The feature values are then scaled using StandardScaler. The data is split into a training set and a test set, and the RandomForestClassifier model is trained on the training data.\n",
    "\n",
    "We tried LogisticRegression, RandomForestClassifier, and GradientBoostingClassifier models and RandomForestClassifier resulted in highest ROC AUC metric out of the box, so we stick to that one."
   ]
  },
  {
   "cell_type": "code",
   "execution_count": 9,
   "id": "6befd571",
   "metadata": {},
   "outputs": [
    {
     "data": {
      "text/html": [
       "<style>#sk-container-id-2 {color: black;background-color: white;}#sk-container-id-2 pre{padding: 0;}#sk-container-id-2 div.sk-toggleable {background-color: white;}#sk-container-id-2 label.sk-toggleable__label {cursor: pointer;display: block;width: 100%;margin-bottom: 0;padding: 0.3em;box-sizing: border-box;text-align: center;}#sk-container-id-2 label.sk-toggleable__label-arrow:before {content: \"▸\";float: left;margin-right: 0.25em;color: #696969;}#sk-container-id-2 label.sk-toggleable__label-arrow:hover:before {color: black;}#sk-container-id-2 div.sk-estimator:hover label.sk-toggleable__label-arrow:before {color: black;}#sk-container-id-2 div.sk-toggleable__content {max-height: 0;max-width: 0;overflow: hidden;text-align: left;background-color: #f0f8ff;}#sk-container-id-2 div.sk-toggleable__content pre {margin: 0.2em;color: black;border-radius: 0.25em;background-color: #f0f8ff;}#sk-container-id-2 input.sk-toggleable__control:checked~div.sk-toggleable__content {max-height: 200px;max-width: 100%;overflow: auto;}#sk-container-id-2 input.sk-toggleable__control:checked~label.sk-toggleable__label-arrow:before {content: \"▾\";}#sk-container-id-2 div.sk-estimator input.sk-toggleable__control:checked~label.sk-toggleable__label {background-color: #d4ebff;}#sk-container-id-2 div.sk-label input.sk-toggleable__control:checked~label.sk-toggleable__label {background-color: #d4ebff;}#sk-container-id-2 input.sk-hidden--visually {border: 0;clip: rect(1px 1px 1px 1px);clip: rect(1px, 1px, 1px, 1px);height: 1px;margin: -1px;overflow: hidden;padding: 0;position: absolute;width: 1px;}#sk-container-id-2 div.sk-estimator {font-family: monospace;background-color: #f0f8ff;border: 1px dotted black;border-radius: 0.25em;box-sizing: border-box;margin-bottom: 0.5em;}#sk-container-id-2 div.sk-estimator:hover {background-color: #d4ebff;}#sk-container-id-2 div.sk-parallel-item::after {content: \"\";width: 100%;border-bottom: 1px solid gray;flex-grow: 1;}#sk-container-id-2 div.sk-label:hover label.sk-toggleable__label {background-color: #d4ebff;}#sk-container-id-2 div.sk-serial::before {content: \"\";position: absolute;border-left: 1px solid gray;box-sizing: border-box;top: 0;bottom: 0;left: 50%;z-index: 0;}#sk-container-id-2 div.sk-serial {display: flex;flex-direction: column;align-items: center;background-color: white;padding-right: 0.2em;padding-left: 0.2em;position: relative;}#sk-container-id-2 div.sk-item {position: relative;z-index: 1;}#sk-container-id-2 div.sk-parallel {display: flex;align-items: stretch;justify-content: center;background-color: white;position: relative;}#sk-container-id-2 div.sk-item::before, #sk-container-id-2 div.sk-parallel-item::before {content: \"\";position: absolute;border-left: 1px solid gray;box-sizing: border-box;top: 0;bottom: 0;left: 50%;z-index: -1;}#sk-container-id-2 div.sk-parallel-item {display: flex;flex-direction: column;z-index: 1;position: relative;background-color: white;}#sk-container-id-2 div.sk-parallel-item:first-child::after {align-self: flex-end;width: 50%;}#sk-container-id-2 div.sk-parallel-item:last-child::after {align-self: flex-start;width: 50%;}#sk-container-id-2 div.sk-parallel-item:only-child::after {width: 0;}#sk-container-id-2 div.sk-dashed-wrapped {border: 1px dashed gray;margin: 0 0.4em 0.5em 0.4em;box-sizing: border-box;padding-bottom: 0.4em;background-color: white;}#sk-container-id-2 div.sk-label label {font-family: monospace;font-weight: bold;display: inline-block;line-height: 1.2em;}#sk-container-id-2 div.sk-label-container {text-align: center;}#sk-container-id-2 div.sk-container {/* jupyter's `normalize.less` sets `[hidden] { display: none; }` but bootstrap.min.css set `[hidden] { display: none !important; }` so we also need the `!important` here to be able to override the default hidden behavior on the sphinx rendered scikit-learn.org. See: https://github.com/scikit-learn/scikit-learn/issues/21755 */display: inline-block !important;position: relative;}#sk-container-id-2 div.sk-text-repr-fallback {display: none;}</style><div id=\"sk-container-id-2\" class=\"sk-top-container\"><div class=\"sk-text-repr-fallback\"><pre>RandomForestClassifier()</pre><b>In a Jupyter environment, please rerun this cell to show the HTML representation or trust the notebook. <br />On GitHub, the HTML representation is unable to render, please try loading this page with nbviewer.org.</b></div><div class=\"sk-container\" hidden><div class=\"sk-item\"><div class=\"sk-estimator sk-toggleable\"><input class=\"sk-toggleable__control sk-hidden--visually\" id=\"sk-estimator-id-2\" type=\"checkbox\" checked><label for=\"sk-estimator-id-2\" class=\"sk-toggleable__label sk-toggleable__label-arrow\">RandomForestClassifier</label><div class=\"sk-toggleable__content\"><pre>RandomForestClassifier()</pre></div></div></div></div></div>"
      ],
      "text/plain": [
       "RandomForestClassifier()"
      ]
     },
     "execution_count": 9,
     "metadata": {},
     "output_type": "execute_result"
    }
   ],
   "source": [
    "from sklearn.model_selection import train_test_split\n",
    "from sklearn.ensemble import RandomForestClassifier\n",
    "from sklearn.preprocessing import StandardScaler\n",
    "from imblearn.over_sampling import SMOTE\n",
    "\n",
    "# Assume customer_data is your DataFrame after aggregation\n",
    "features = ['Quantity_sum', 'Price_mean', 'HasReturned_max']\n",
    "target = 'PurchasedNextQuarter_max'\n",
    "\n",
    "X = customer_data[features]\n",
    "y = customer_data[target]\n",
    "\n",
    "# Oversample the minority class using SMOTE\n",
    "smote = SMOTE(random_state=42)\n",
    "X_res, y_res = smote.fit_resample(X, y)\n",
    "\n",
    "# Scaling the feature values\n",
    "scaler = StandardScaler()\n",
    "X_res = scaler.fit_transform(X_res)\n",
    "\n",
    "# Split the data into training set and test set\n",
    "X_train, X_test, y_train, y_test = train_test_split(X_res, y_res, test_size=0.2, random_state=42)\n",
    "\n",
    "# Initialize and train a logistic regression model\n",
    "model = RandomForestClassifier()\n",
    "model.fit(X_train, y_train)"
   ]
  },
  {
   "cell_type": "markdown",
   "id": "864df573",
   "metadata": {},
   "source": [
    "# Evaluating Model Performance:\n",
    "The performance of the model is evaluated by using various metrics such as accuracy, precision, recall, and ROC AUC. These metrics help in understanding how well the model performs in predicting the correct classes."
   ]
  },
  {
   "cell_type": "code",
   "execution_count": 11,
   "id": "c9ee7bd3",
   "metadata": {},
   "outputs": [
    {
     "name": "stdout",
     "output_type": "stream",
     "text": [
      "Accuracy: 0.9481641468682506\n",
      "Precision: 0.9533721898417985\n",
      "Recall: 0.9470636889991728\n",
      "ROC AUC: 0.9482153888033839\n"
     ]
    }
   ],
   "source": [
    "from sklearn.metrics import accuracy_score, precision_score, recall_score, roc_auc_score\n",
    "\n",
    "# Make predictions\n",
    "y_pred = model.predict(X_test)\n",
    "\n",
    "# Calculate metrics\n",
    "accuracy = accuracy_score(y_test, y_pred)\n",
    "precision = precision_score(y_test, y_pred)\n",
    "recall = recall_score(y_test, y_pred)\n",
    "roc_auc = roc_auc_score(y_test, y_pred)\n",
    "\n",
    "print(f'Accuracy: {accuracy}')\n",
    "print(f'Precision: {precision}')\n",
    "print(f'Recall: {recall}')\n",
    "print(f'ROC AUC: {roc_auc}')"
   ]
  },
  {
   "cell_type": "markdown",
   "id": "ddd8ea8f",
   "metadata": {},
   "source": [
    "# Model Tuning & Optimization:\n",
    "For RandomForestClassifier, we use optuna package for hyper parameter optimization. In this section, we use Optuna, a hyperparameter optimization framework, to find the optimal parameters for the RandomForestClassifier model. You then retrain the model with these optimal parameters and recalculate the performance metrics."
   ]
  },
  {
   "cell_type": "code",
   "execution_count": 14,
   "id": "7545f91e",
   "metadata": {},
   "outputs": [],
   "source": [
    "import optuna\n",
    "from sklearn.model_selection import cross_val_score\n",
    "\n",
    "def objective(trial):\n",
    "    n_estimators = trial.suggest_int('n_estimators', 50, 500)\n",
    "    max_depth = trial.suggest_int('max_depth', 10, 50)\n",
    "    min_samples_split = trial.suggest_int('min_samples_split', 2, 15)\n",
    "    min_samples_leaf = trial.suggest_int('min_samples_leaf', 1, 10)\n",
    "\n",
    "    clf = RandomForestClassifier(\n",
    "        n_estimators=n_estimators, \n",
    "        max_depth=max_depth, \n",
    "        min_samples_split=min_samples_split, \n",
    "        min_samples_leaf=min_samples_leaf,\n",
    "        random_state=42\n",
    "    )\n",
    "    return cross_val_score(clf, X_train, y_train, cv=5, scoring='roc_auc').mean()"
   ]
  },
  {
   "cell_type": "code",
   "execution_count": null,
   "id": "0f227c36",
   "metadata": {},
   "outputs": [],
   "source": [
    "study = optuna.create_study(direction='maximize')\n",
    "study.optimize(objective, n_trials=100)"
   ]
  },
  {
   "cell_type": "code",
   "execution_count": 16,
   "id": "aa1e4afc",
   "metadata": {},
   "outputs": [
    {
     "name": "stdout",
     "output_type": "stream",
     "text": [
      "{'n_estimators': 469, 'max_depth': 22, 'min_samples_split': 3, 'min_samples_leaf': 2}\n"
     ]
    }
   ],
   "source": [
    "best_params = study.best_params\n",
    "print(best_params)"
   ]
  },
  {
   "cell_type": "code",
   "execution_count": 17,
   "id": "2f50867d",
   "metadata": {},
   "outputs": [
    {
     "data": {
      "text/html": [
       "<style>#sk-container-id-3 {color: black;background-color: white;}#sk-container-id-3 pre{padding: 0;}#sk-container-id-3 div.sk-toggleable {background-color: white;}#sk-container-id-3 label.sk-toggleable__label {cursor: pointer;display: block;width: 100%;margin-bottom: 0;padding: 0.3em;box-sizing: border-box;text-align: center;}#sk-container-id-3 label.sk-toggleable__label-arrow:before {content: \"▸\";float: left;margin-right: 0.25em;color: #696969;}#sk-container-id-3 label.sk-toggleable__label-arrow:hover:before {color: black;}#sk-container-id-3 div.sk-estimator:hover label.sk-toggleable__label-arrow:before {color: black;}#sk-container-id-3 div.sk-toggleable__content {max-height: 0;max-width: 0;overflow: hidden;text-align: left;background-color: #f0f8ff;}#sk-container-id-3 div.sk-toggleable__content pre {margin: 0.2em;color: black;border-radius: 0.25em;background-color: #f0f8ff;}#sk-container-id-3 input.sk-toggleable__control:checked~div.sk-toggleable__content {max-height: 200px;max-width: 100%;overflow: auto;}#sk-container-id-3 input.sk-toggleable__control:checked~label.sk-toggleable__label-arrow:before {content: \"▾\";}#sk-container-id-3 div.sk-estimator input.sk-toggleable__control:checked~label.sk-toggleable__label {background-color: #d4ebff;}#sk-container-id-3 div.sk-label input.sk-toggleable__control:checked~label.sk-toggleable__label {background-color: #d4ebff;}#sk-container-id-3 input.sk-hidden--visually {border: 0;clip: rect(1px 1px 1px 1px);clip: rect(1px, 1px, 1px, 1px);height: 1px;margin: -1px;overflow: hidden;padding: 0;position: absolute;width: 1px;}#sk-container-id-3 div.sk-estimator {font-family: monospace;background-color: #f0f8ff;border: 1px dotted black;border-radius: 0.25em;box-sizing: border-box;margin-bottom: 0.5em;}#sk-container-id-3 div.sk-estimator:hover {background-color: #d4ebff;}#sk-container-id-3 div.sk-parallel-item::after {content: \"\";width: 100%;border-bottom: 1px solid gray;flex-grow: 1;}#sk-container-id-3 div.sk-label:hover label.sk-toggleable__label {background-color: #d4ebff;}#sk-container-id-3 div.sk-serial::before {content: \"\";position: absolute;border-left: 1px solid gray;box-sizing: border-box;top: 0;bottom: 0;left: 50%;z-index: 0;}#sk-container-id-3 div.sk-serial {display: flex;flex-direction: column;align-items: center;background-color: white;padding-right: 0.2em;padding-left: 0.2em;position: relative;}#sk-container-id-3 div.sk-item {position: relative;z-index: 1;}#sk-container-id-3 div.sk-parallel {display: flex;align-items: stretch;justify-content: center;background-color: white;position: relative;}#sk-container-id-3 div.sk-item::before, #sk-container-id-3 div.sk-parallel-item::before {content: \"\";position: absolute;border-left: 1px solid gray;box-sizing: border-box;top: 0;bottom: 0;left: 50%;z-index: -1;}#sk-container-id-3 div.sk-parallel-item {display: flex;flex-direction: column;z-index: 1;position: relative;background-color: white;}#sk-container-id-3 div.sk-parallel-item:first-child::after {align-self: flex-end;width: 50%;}#sk-container-id-3 div.sk-parallel-item:last-child::after {align-self: flex-start;width: 50%;}#sk-container-id-3 div.sk-parallel-item:only-child::after {width: 0;}#sk-container-id-3 div.sk-dashed-wrapped {border: 1px dashed gray;margin: 0 0.4em 0.5em 0.4em;box-sizing: border-box;padding-bottom: 0.4em;background-color: white;}#sk-container-id-3 div.sk-label label {font-family: monospace;font-weight: bold;display: inline-block;line-height: 1.2em;}#sk-container-id-3 div.sk-label-container {text-align: center;}#sk-container-id-3 div.sk-container {/* jupyter's `normalize.less` sets `[hidden] { display: none; }` but bootstrap.min.css set `[hidden] { display: none !important; }` so we also need the `!important` here to be able to override the default hidden behavior on the sphinx rendered scikit-learn.org. See: https://github.com/scikit-learn/scikit-learn/issues/21755 */display: inline-block !important;position: relative;}#sk-container-id-3 div.sk-text-repr-fallback {display: none;}</style><div id=\"sk-container-id-3\" class=\"sk-top-container\"><div class=\"sk-text-repr-fallback\"><pre>RandomForestClassifier(max_depth=22, min_samples_leaf=2, min_samples_split=3,\n",
       "                       n_estimators=469)</pre><b>In a Jupyter environment, please rerun this cell to show the HTML representation or trust the notebook. <br />On GitHub, the HTML representation is unable to render, please try loading this page with nbviewer.org.</b></div><div class=\"sk-container\" hidden><div class=\"sk-item\"><div class=\"sk-estimator sk-toggleable\"><input class=\"sk-toggleable__control sk-hidden--visually\" id=\"sk-estimator-id-3\" type=\"checkbox\" checked><label for=\"sk-estimator-id-3\" class=\"sk-toggleable__label sk-toggleable__label-arrow\">RandomForestClassifier</label><div class=\"sk-toggleable__content\"><pre>RandomForestClassifier(max_depth=22, min_samples_leaf=2, min_samples_split=3,\n",
       "                       n_estimators=469)</pre></div></div></div></div></div>"
      ],
      "text/plain": [
       "RandomForestClassifier(max_depth=22, min_samples_leaf=2, min_samples_split=3,\n",
       "                       n_estimators=469)"
      ]
     },
     "execution_count": 17,
     "metadata": {},
     "output_type": "execute_result"
    }
   ],
   "source": [
    "rf_model_opt = RandomForestClassifier(**best_params)\n",
    "rf_model_opt.fit(X_train, y_train)"
   ]
  },
  {
   "cell_type": "code",
   "execution_count": 19,
   "id": "74cf93d0",
   "metadata": {},
   "outputs": [
    {
     "name": "stdout",
     "output_type": "stream",
     "text": [
      "Accuracy: 0.9498920086393089\n",
      "Precision: 0.9596299411269975\n",
      "Recall: 0.9437551695616212\n",
      "ROC AUC: 0.950177765612637\n"
     ]
    }
   ],
   "source": [
    "# Make predictions\n",
    "y_pred = rf_model_opt.predict(X_test)\n",
    "\n",
    "# Calculate metrics\n",
    "accuracy = accuracy_score(y_test, y_pred)\n",
    "precision = precision_score(y_test, y_pred)\n",
    "recall = recall_score(y_test, y_pred)\n",
    "roc_auc = roc_auc_score(y_test, y_pred)\n",
    "\n",
    "print(f'Accuracy: {accuracy}')\n",
    "print(f'Precision: {precision}')\n",
    "print(f'Recall: {recall}')\n",
    "print(f'ROC AUC: {roc_auc}')"
   ]
  },
  {
   "cell_type": "markdown",
   "id": "710fe751",
   "metadata": {},
   "source": [
    "We can see a small improvement in our metrics using the hyperparameter optimizatin"
   ]
  },
  {
   "cell_type": "markdown",
   "id": "8fa15231",
   "metadata": {},
   "source": [
    "# Feature Importances \n",
    "Lastly, we plot a bar graph to show the importances of each feature in the trained RandomForestClassifier model. This plot gives insights into which features are most informative in the prediction task."
   ]
  },
  {
   "cell_type": "code",
   "execution_count": 34,
   "id": "fe6efad4",
   "metadata": {},
   "outputs": [
    {
     "data": {
      "image/png": "[encoded data removed]",
      "text/plain": [
       "<Figure size 640x480 with 1 Axes>"
      ]
     },
     "metadata": {},
     "output_type": "display_data"
    }
   ],
   "source": [
    "# Get feature importances\n",
    "importances = rf_model_opt.feature_importances_\n",
    "\n",
    "# Sort the feature importances in descending order\n",
    "sorted_indices = np.argsort(importances)[::-1]\n",
    "\n",
    "plt.figure()\n",
    "# Create a bar plot\n",
    "plt.barh(range(X_train.shape[1]), importances, align='center')\n",
    "plt.yticks(range(X_train.shape[1]), features)\n",
    "plt.xlabel('Relative Importance')\n",
    "plt.title('Feature Importances')\n",
    "\n",
    "# Display the plot\n",
    "plt.gca().invert_yaxis()\n",
    "plt.show()"
   ]
  },
  {
   "cell_type": "markdown",
   "id": "ab2a7cee",
   "metadata": {},
   "source": [
    "We see that the sum of quantity of the products bought plays the most important role in indicating if a customer will make a new purchase in the next quarter."
   ]
  },
  {
   "cell_type": "code",
   "execution_count": null,
   "id": "15db9a39",
   "metadata": {},
   "outputs": [],
   "source": []
  }
 ],
 "metadata": {
  "kernelspec": {
   "display_name": "Python 3 (ipykernel)",
   "language": "python",
   "name": "python3"
  },
  "language_info": {
   "codemirror_mode": {
    "name": "ipython",
    "version": 3
   },
   "file_extension": ".py",
   "mimetype": "text/x-python",
   "name": "python",
   "nbconvert_exporter": "python",
   "pygments_lexer": "ipython3",
   "version": "3.11.3"
  }
 },
 "nbformat": 4,
 "nbformat_minor": 5
}
