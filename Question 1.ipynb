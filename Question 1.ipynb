{
 "cells": [
  {
   "cell_type": "markdown",
   "id": "50742a21",
   "metadata": {},
   "source": [
    "Here we would like to Predict the weekly aggregated sales for four weeks in advance.\n",
    "\n",
    "We start by Importing necessary libraries for data manipulation, visualization and forecasting"
   ]
  },
  {
   "cell_type": "code",
   "execution_count": 1,
   "id": "401e997e",
   "metadata": {},
   "outputs": [
    {
     "data": {
      "text/html": [
       "        <script type=\"text/javascript\">\n",
       "        window.PlotlyConfig = {MathJaxConfig: 'local'};\n",
       "        if (window.MathJax && window.MathJax.Hub && window.MathJax.Hub.Config) {window.MathJax.Hub.Config({SVG: {font: \"STIX-Web\"}});}\n",
       "        if (typeof require !== 'undefined') {\n",
       "        require.undef(\"plotly\");\n",
       "        requirejs.config({\n",
       "            paths: {\n",
       "                'plotly': ['https://cdn.plot.ly/plotly-2.12.1.min']\n",
       "            }\n",
       "        });\n",
       "        require(['plotly'], function(Plotly) {\n",
       "            window._Plotly = Plotly;\n",
       "        });\n",
       "        }\n",
       "        </script>\n",
       "        "
      ]
     },
     "metadata": {},
     "output_type": "display_data"
    }
   ],
   "source": [
    "import pandas as pd\n",
    "import numpy as np\n",
    "import matplotlib.pyplot as plt\n",
    "import plotly.offline as py\n",
    "py.init_notebook_mode(connected=True)"
   ]
  },
  {
   "cell_type": "code",
   "execution_count": 2,
   "id": "e16ffa63",
   "metadata": {},
   "outputs": [
    {
     "data": {
      "text/html": [
       "<div>\n",
       "<style scoped>\n",
       "    .dataframe tbody tr th:only-of-type {\n",
       "        vertical-align: middle;\n",
       "    }\n",
       "\n",
       "    .dataframe tbody tr th {\n",
       "        vertical-align: top;\n",
       "    }\n",
       "\n",
       "    .dataframe thead th {\n",
       "        text-align: right;\n",
       "    }\n",
       "</style>\n",
       "<table border=\"1\" class=\"dataframe\">\n",
       "  <thead>\n",
       "    <tr style=\"text-align: right;\">\n",
       "      <th></th>\n",
       "      <th>Invoice</th>\n",
       "      <th>StockCode</th>\n",
       "      <th>Description</th>\n",
       "      <th>Quantity</th>\n",
       "      <th>InvoiceDate</th>\n",
       "      <th>Price</th>\n",
       "      <th>Customer ID</th>\n",
       "      <th>Country</th>\n",
       "    </tr>\n",
       "  </thead>\n",
       "  <tbody>\n",
       "    <tr>\n",
       "      <th>0</th>\n",
       "      <td>489434</td>\n",
       "      <td>85048</td>\n",
       "      <td>15CM CHRISTMAS GLASS BALL 20 LIGHTS</td>\n",
       "      <td>12</td>\n",
       "      <td>2009-12-01 07:45:00</td>\n",
       "      <td>6.95</td>\n",
       "      <td>13085.0</td>\n",
       "      <td>United Kingdom</td>\n",
       "    </tr>\n",
       "    <tr>\n",
       "      <th>1</th>\n",
       "      <td>489434</td>\n",
       "      <td>79323P</td>\n",
       "      <td>PINK CHERRY LIGHTS</td>\n",
       "      <td>12</td>\n",
       "      <td>2009-12-01 07:45:00</td>\n",
       "      <td>6.75</td>\n",
       "      <td>13085.0</td>\n",
       "      <td>United Kingdom</td>\n",
       "    </tr>\n",
       "    <tr>\n",
       "      <th>2</th>\n",
       "      <td>489434</td>\n",
       "      <td>79323W</td>\n",
       "      <td>WHITE CHERRY LIGHTS</td>\n",
       "      <td>12</td>\n",
       "      <td>2009-12-01 07:45:00</td>\n",
       "      <td>6.75</td>\n",
       "      <td>13085.0</td>\n",
       "      <td>United Kingdom</td>\n",
       "    </tr>\n",
       "    <tr>\n",
       "      <th>3</th>\n",
       "      <td>489434</td>\n",
       "      <td>22041</td>\n",
       "      <td>RECORD FRAME 7\" SINGLE SIZE</td>\n",
       "      <td>48</td>\n",
       "      <td>2009-12-01 07:45:00</td>\n",
       "      <td>2.10</td>\n",
       "      <td>13085.0</td>\n",
       "      <td>United Kingdom</td>\n",
       "    </tr>\n",
       "    <tr>\n",
       "      <th>4</th>\n",
       "      <td>489434</td>\n",
       "      <td>21232</td>\n",
       "      <td>STRAWBERRY CERAMIC TRINKET BOX</td>\n",
       "      <td>24</td>\n",
       "      <td>2009-12-01 07:45:00</td>\n",
       "      <td>1.25</td>\n",
       "      <td>13085.0</td>\n",
       "      <td>United Kingdom</td>\n",
       "    </tr>\n",
       "  </tbody>\n",
       "</table>\n",
       "</div>"
      ],
      "text/plain": [
       "  Invoice StockCode                          Description  Quantity  \\\n",
       "0  489434     85048  15CM CHRISTMAS GLASS BALL 20 LIGHTS        12   \n",
       "1  489434    79323P                   PINK CHERRY LIGHTS        12   \n",
       "2  489434    79323W                  WHITE CHERRY LIGHTS        12   \n",
       "3  489434     22041         RECORD FRAME 7\" SINGLE SIZE         48   \n",
       "4  489434     21232       STRAWBERRY CERAMIC TRINKET BOX        24   \n",
       "\n",
       "           InvoiceDate  Price  Customer ID         Country  \n",
       "0  2009-12-01 07:45:00   6.95      13085.0  United Kingdom  \n",
       "1  2009-12-01 07:45:00   6.75      13085.0  United Kingdom  \n",
       "2  2009-12-01 07:45:00   6.75      13085.0  United Kingdom  \n",
       "3  2009-12-01 07:45:00   2.10      13085.0  United Kingdom  \n",
       "4  2009-12-01 07:45:00   1.25      13085.0  United Kingdom  "
      ]
     },
     "execution_count": 2,
     "metadata": {},
     "output_type": "execute_result"
    }
   ],
   "source": [
    "df = pd.read_csv('online_retail_II.csv')\n",
    "df.head()"
   ]
  },
  {
   "cell_type": "markdown",
   "id": "8a0f32a4",
   "metadata": {},
   "source": [
    "Getting a quick description of the data, including the total number of entries, whether they are null or not, and the type of each column."
   ]
  },
  {
   "cell_type": "code",
   "execution_count": 3,
   "id": "803c9b00",
   "metadata": {},
   "outputs": [
    {
     "name": "stdout",
     "output_type": "stream",
     "text": [
      "<class 'pandas.core.frame.DataFrame'>\n",
      "RangeIndex: 1067371 entries, 0 to 1067370\n",
      "Data columns (total 8 columns):\n",
      " #   Column       Non-Null Count    Dtype  \n",
      "---  ------       --------------    -----  \n",
      " 0   Invoice      1067371 non-null  object \n",
      " 1   StockCode    1067371 non-null  object \n",
      " 2   Description  1062989 non-null  object \n",
      " 3   Quantity     1067371 non-null  int64  \n",
      " 4   InvoiceDate  1067371 non-null  object \n",
      " 5   Price        1067371 non-null  float64\n",
      " 6   Customer ID  824364 non-null   float64\n",
      " 7   Country      1067371 non-null  object \n",
      "dtypes: float64(2), int64(1), object(5)\n",
      "memory usage: 65.1+ MB\n"
     ]
    }
   ],
   "source": [
    "df.info()"
   ]
  },
  {
   "cell_type": "markdown",
   "id": "24cd1482",
   "metadata": {},
   "source": [
    "We see that the \"Description\" and \"Customer ID\" for some of the records are missing"
   ]
  },
  {
   "cell_type": "markdown",
   "id": "7f7c86cf",
   "metadata": {},
   "source": [
    "We provide a statistical summary of the dataframe, helpful in understanding the central tendency, dispersion and shape of the distribution of the dataset. "
   ]
  },
  {
   "cell_type": "code",
   "execution_count": 4,
   "id": "2d0fec84",
   "metadata": {},
   "outputs": [
    {
     "data": {
      "text/html": [
       "<div>\n",
       "<style scoped>\n",
       "    .dataframe tbody tr th:only-of-type {\n",
       "        vertical-align: middle;\n",
       "    }\n",
       "\n",
       "    .dataframe tbody tr th {\n",
       "        vertical-align: top;\n",
       "    }\n",
       "\n",
       "    .dataframe thead th {\n",
       "        text-align: right;\n",
       "    }\n",
       "</style>\n",
       "<table border=\"1\" class=\"dataframe\">\n",
       "  <thead>\n",
       "    <tr style=\"text-align: right;\">\n",
       "      <th></th>\n",
       "      <th>Quantity</th>\n",
       "      <th>Price</th>\n",
       "      <th>Customer ID</th>\n",
       "    </tr>\n",
       "  </thead>\n",
       "  <tbody>\n",
       "    <tr>\n",
       "      <th>count</th>\n",
       "      <td>1.067371e+06</td>\n",
       "      <td>1.067371e+06</td>\n",
       "      <td>824364.000000</td>\n",
       "    </tr>\n",
       "    <tr>\n",
       "      <th>mean</th>\n",
       "      <td>9.938898e+00</td>\n",
       "      <td>4.649388e+00</td>\n",
       "      <td>15324.638504</td>\n",
       "    </tr>\n",
       "    <tr>\n",
       "      <th>std</th>\n",
       "      <td>1.727058e+02</td>\n",
       "      <td>1.235531e+02</td>\n",
       "      <td>1697.464450</td>\n",
       "    </tr>\n",
       "    <tr>\n",
       "      <th>min</th>\n",
       "      <td>-8.099500e+04</td>\n",
       "      <td>-5.359436e+04</td>\n",
       "      <td>12346.000000</td>\n",
       "    </tr>\n",
       "    <tr>\n",
       "      <th>25%</th>\n",
       "      <td>1.000000e+00</td>\n",
       "      <td>1.250000e+00</td>\n",
       "      <td>13975.000000</td>\n",
       "    </tr>\n",
       "    <tr>\n",
       "      <th>50%</th>\n",
       "      <td>3.000000e+00</td>\n",
       "      <td>2.100000e+00</td>\n",
       "      <td>15255.000000</td>\n",
       "    </tr>\n",
       "    <tr>\n",
       "      <th>75%</th>\n",
       "      <td>1.000000e+01</td>\n",
       "      <td>4.150000e+00</td>\n",
       "      <td>16797.000000</td>\n",
       "    </tr>\n",
       "    <tr>\n",
       "      <th>max</th>\n",
       "      <td>8.099500e+04</td>\n",
       "      <td>3.897000e+04</td>\n",
       "      <td>18287.000000</td>\n",
       "    </tr>\n",
       "  </tbody>\n",
       "</table>\n",
       "</div>"
      ],
      "text/plain": [
       "           Quantity         Price    Customer ID\n",
       "count  1.067371e+06  1.067371e+06  824364.000000\n",
       "mean   9.938898e+00  4.649388e+00   15324.638504\n",
       "std    1.727058e+02  1.235531e+02    1697.464450\n",
       "min   -8.099500e+04 -5.359436e+04   12346.000000\n",
       "25%    1.000000e+00  1.250000e+00   13975.000000\n",
       "50%    3.000000e+00  2.100000e+00   15255.000000\n",
       "75%    1.000000e+01  4.150000e+00   16797.000000\n",
       "max    8.099500e+04  3.897000e+04   18287.000000"
      ]
     },
     "execution_count": 4,
     "metadata": {},
     "output_type": "execute_result"
    }
   ],
   "source": [
    "df.describe()"
   ]
  },
  {
   "cell_type": "markdown",
   "id": "94b4de74",
   "metadata": {},
   "source": [
    "We see that there are negative values in the Quantity column. When predicting future sales as in question 1, negative quantities could still provide valuable information.\n",
    "\n",
    "These negative quantities likely represent returns or cancelled orders. Including them in the total sales will give us a more accurate picture of the net sales, which is often more relevant for business operations than the gross sales.\n",
    "\n",
    "For instance, if a company sells 100 units of an item one week, but 50 of these are returned the following week, the net sales for the first week would be 50 units, not 100. So including the returns (i.e., negative quantities) in our weekly aggregated sales calculation would give us a better estimate of the true sales figure.\n",
    "\n",
    "However, this approach needs to be verified with the stakeholders (if possible) to ensure you're accurately capturing the business process. If for example, the negative quantities aren't representative of usual business operations (e.g., due to data errors or unusual events), we might want to treat them differently.\n",
    "\n",
    "so we convert 'InvoiceDate' column to datetime format and setting it as the dataframe index for facilitating time-series analysis."
   ]
  },
  {
   "cell_type": "code",
   "execution_count": 5,
   "id": "2fee8a0c",
   "metadata": {},
   "outputs": [
    {
     "data": {
      "text/html": [
       "<div>\n",
       "<style scoped>\n",
       "    .dataframe tbody tr th:only-of-type {\n",
       "        vertical-align: middle;\n",
       "    }\n",
       "\n",
       "    .dataframe tbody tr th {\n",
       "        vertical-align: top;\n",
       "    }\n",
       "\n",
       "    .dataframe thead th {\n",
       "        text-align: right;\n",
       "    }\n",
       "</style>\n",
       "<table border=\"1\" class=\"dataframe\">\n",
       "  <thead>\n",
       "    <tr style=\"text-align: right;\">\n",
       "      <th></th>\n",
       "      <th>Invoice</th>\n",
       "      <th>StockCode</th>\n",
       "      <th>Description</th>\n",
       "      <th>Quantity</th>\n",
       "      <th>Price</th>\n",
       "      <th>Customer ID</th>\n",
       "      <th>Country</th>\n",
       "    </tr>\n",
       "    <tr>\n",
       "      <th>InvoiceDate</th>\n",
       "      <th></th>\n",
       "      <th></th>\n",
       "      <th></th>\n",
       "      <th></th>\n",
       "      <th></th>\n",
       "      <th></th>\n",
       "      <th></th>\n",
       "    </tr>\n",
       "  </thead>\n",
       "  <tbody>\n",
       "    <tr>\n",
       "      <th>2009-12-01 07:45:00</th>\n",
       "      <td>489434</td>\n",
       "      <td>85048</td>\n",
       "      <td>15CM CHRISTMAS GLASS BALL 20 LIGHTS</td>\n",
       "      <td>12</td>\n",
       "      <td>6.95</td>\n",
       "      <td>13085.0</td>\n",
       "      <td>United Kingdom</td>\n",
       "    </tr>\n",
       "    <tr>\n",
       "      <th>2009-12-01 07:45:00</th>\n",
       "      <td>489434</td>\n",
       "      <td>79323P</td>\n",
       "      <td>PINK CHERRY LIGHTS</td>\n",
       "      <td>12</td>\n",
       "      <td>6.75</td>\n",
       "      <td>13085.0</td>\n",
       "      <td>United Kingdom</td>\n",
       "    </tr>\n",
       "    <tr>\n",
       "      <th>2009-12-01 07:45:00</th>\n",
       "      <td>489434</td>\n",
       "      <td>79323W</td>\n",
       "      <td>WHITE CHERRY LIGHTS</td>\n",
       "      <td>12</td>\n",
       "      <td>6.75</td>\n",
       "      <td>13085.0</td>\n",
       "      <td>United Kingdom</td>\n",
       "    </tr>\n",
       "    <tr>\n",
       "      <th>2009-12-01 07:45:00</th>\n",
       "      <td>489434</td>\n",
       "      <td>22041</td>\n",
       "      <td>RECORD FRAME 7\" SINGLE SIZE</td>\n",
       "      <td>48</td>\n",
       "      <td>2.10</td>\n",
       "      <td>13085.0</td>\n",
       "      <td>United Kingdom</td>\n",
       "    </tr>\n",
       "    <tr>\n",
       "      <th>2009-12-01 07:45:00</th>\n",
       "      <td>489434</td>\n",
       "      <td>21232</td>\n",
       "      <td>STRAWBERRY CERAMIC TRINKET BOX</td>\n",
       "      <td>24</td>\n",
       "      <td>1.25</td>\n",
       "      <td>13085.0</td>\n",
       "      <td>United Kingdom</td>\n",
       "    </tr>\n",
       "    <tr>\n",
       "      <th>...</th>\n",
       "      <td>...</td>\n",
       "      <td>...</td>\n",
       "      <td>...</td>\n",
       "      <td>...</td>\n",
       "      <td>...</td>\n",
       "      <td>...</td>\n",
       "      <td>...</td>\n",
       "    </tr>\n",
       "    <tr>\n",
       "      <th>2011-12-09 12:50:00</th>\n",
       "      <td>581587</td>\n",
       "      <td>22899</td>\n",
       "      <td>CHILDREN'S APRON DOLLY GIRL</td>\n",
       "      <td>6</td>\n",
       "      <td>2.10</td>\n",
       "      <td>12680.0</td>\n",
       "      <td>France</td>\n",
       "    </tr>\n",
       "    <tr>\n",
       "      <th>2011-12-09 12:50:00</th>\n",
       "      <td>581587</td>\n",
       "      <td>23254</td>\n",
       "      <td>CHILDRENS CUTLERY DOLLY GIRL</td>\n",
       "      <td>4</td>\n",
       "      <td>4.15</td>\n",
       "      <td>12680.0</td>\n",
       "      <td>France</td>\n",
       "    </tr>\n",
       "    <tr>\n",
       "      <th>2011-12-09 12:50:00</th>\n",
       "      <td>581587</td>\n",
       "      <td>23255</td>\n",
       "      <td>CHILDRENS CUTLERY CIRCUS PARADE</td>\n",
       "      <td>4</td>\n",
       "      <td>4.15</td>\n",
       "      <td>12680.0</td>\n",
       "      <td>France</td>\n",
       "    </tr>\n",
       "    <tr>\n",
       "      <th>2011-12-09 12:50:00</th>\n",
       "      <td>581587</td>\n",
       "      <td>22138</td>\n",
       "      <td>BAKING SET 9 PIECE RETROSPOT</td>\n",
       "      <td>3</td>\n",
       "      <td>4.95</td>\n",
       "      <td>12680.0</td>\n",
       "      <td>France</td>\n",
       "    </tr>\n",
       "    <tr>\n",
       "      <th>2011-12-09 12:50:00</th>\n",
       "      <td>581587</td>\n",
       "      <td>POST</td>\n",
       "      <td>POSTAGE</td>\n",
       "      <td>1</td>\n",
       "      <td>18.00</td>\n",
       "      <td>12680.0</td>\n",
       "      <td>France</td>\n",
       "    </tr>\n",
       "  </tbody>\n",
       "</table>\n",
       "<p>1067371 rows × 7 columns</p>\n",
       "</div>"
      ],
      "text/plain": [
       "                    Invoice StockCode                          Description  \\\n",
       "InvoiceDate                                                                  \n",
       "2009-12-01 07:45:00  489434     85048  15CM CHRISTMAS GLASS BALL 20 LIGHTS   \n",
       "2009-12-01 07:45:00  489434    79323P                   PINK CHERRY LIGHTS   \n",
       "2009-12-01 07:45:00  489434    79323W                  WHITE CHERRY LIGHTS   \n",
       "2009-12-01 07:45:00  489434     22041         RECORD FRAME 7\" SINGLE SIZE    \n",
       "2009-12-01 07:45:00  489434     21232       STRAWBERRY CERAMIC TRINKET BOX   \n",
       "...                     ...       ...                                  ...   \n",
       "2011-12-09 12:50:00  581587     22899         CHILDREN'S APRON DOLLY GIRL    \n",
       "2011-12-09 12:50:00  581587     23254        CHILDRENS CUTLERY DOLLY GIRL    \n",
       "2011-12-09 12:50:00  581587     23255      CHILDRENS CUTLERY CIRCUS PARADE   \n",
       "2011-12-09 12:50:00  581587     22138        BAKING SET 9 PIECE RETROSPOT    \n",
       "2011-12-09 12:50:00  581587      POST                              POSTAGE   \n",
       "\n",
       "                     Quantity  Price  Customer ID         Country  \n",
       "InvoiceDate                                                        \n",
       "2009-12-01 07:45:00        12   6.95      13085.0  United Kingdom  \n",
       "2009-12-01 07:45:00        12   6.75      13085.0  United Kingdom  \n",
       "2009-12-01 07:45:00        12   6.75      13085.0  United Kingdom  \n",
       "2009-12-01 07:45:00        48   2.10      13085.0  United Kingdom  \n",
       "2009-12-01 07:45:00        24   1.25      13085.0  United Kingdom  \n",
       "...                       ...    ...          ...             ...  \n",
       "2011-12-09 12:50:00         6   2.10      12680.0          France  \n",
       "2011-12-09 12:50:00         4   4.15      12680.0          France  \n",
       "2011-12-09 12:50:00         4   4.15      12680.0          France  \n",
       "2011-12-09 12:50:00         3   4.95      12680.0          France  \n",
       "2011-12-09 12:50:00         1  18.00      12680.0          France  \n",
       "\n",
       "[1067371 rows x 7 columns]"
      ]
     },
     "execution_count": 5,
     "metadata": {},
     "output_type": "execute_result"
    }
   ],
   "source": [
    "df['InvoiceDate'] = pd.to_datetime(df['InvoiceDate'])\n",
    "df.set_index('InvoiceDate', inplace=True)\n",
    "df"
   ]
  },
  {
   "cell_type": "markdown",
   "id": "d072d53c",
   "metadata": {},
   "source": [
    "## Compute weekly sales.\n",
    "Sum the sales for each week. Sales can be computed by multiplying Quantity and UnitPrice."
   ]
  },
  {
   "cell_type": "code",
   "execution_count": 6,
   "id": "5f0edb2d",
   "metadata": {},
   "outputs": [],
   "source": [
    "df['Sales'] = df['Quantity'] * df['Price']\n",
    "weekly_sales = df['Sales'].resample('W').sum()"
   ]
  },
  {
   "cell_type": "code",
   "execution_count": 7,
   "id": "c0ac2f99",
   "metadata": {},
   "outputs": [
    {
     "data": {
      "text/plain": [
       "InvoiceDate\n",
       "2009-12-06    258496.32\n",
       "2009-12-13    232310.10\n",
       "2009-12-20    256240.20\n",
       "2009-12-27     52800.49\n",
       "2010-01-03         0.00\n",
       "                ...    \n",
       "2011-11-13    346560.14\n",
       "2011-11-20    380407.57\n",
       "2011-11-27    308185.02\n",
       "2011-12-04    319874.99\n",
       "2011-12-11    300623.22\n",
       "Freq: W-SUN, Name: Sales, Length: 106, dtype: float64"
      ]
     },
     "execution_count": 7,
     "metadata": {},
     "output_type": "execute_result"
    }
   ],
   "source": [
    "weekly_sales"
   ]
  },
  {
   "cell_type": "code",
   "execution_count": 8,
   "id": "bc5081df",
   "metadata": {},
   "outputs": [
    {
     "data": {
      "text/plain": [
       "<Axes: xlabel='InvoiceDate'>"
      ]
     },
     "execution_count": 8,
     "metadata": {},
     "output_type": "execute_result"
    },
    {
     "data": {
      "image/png": "[encoded data removed]",
      "text/plain": [
       "<Figure size 640x480 with 1 Axes>"
      ]
     },
     "metadata": {},
     "output_type": "display_data"
    }
   ],
   "source": [
    "weekly_sales.plot()"
   ]
  },
  {
   "cell_type": "markdown",
   "id": "8fa9e720",
   "metadata": {},
   "source": [
    "we see in the data that the sales usually follow a base line during the year but close to the end of the year there is a rapid increase in sales just before new year's eve where the sales go to zero. and then the sales goes back to the baseline in the new year\n",
    "\n",
    "We then transform the weekly_sales dataframe into a format suitable for Prophet, which requires a dataframe with two columns: 'ds' and 'y'. 'ds' is the datetime index and 'y' is the target variable (weekly sales in this case)."
   ]
  },
  {
   "cell_type": "code",
   "execution_count": 9,
   "id": "eccd62cc",
   "metadata": {},
   "outputs": [
    {
     "data": {
      "text/html": [
       "<div>\n",
       "<style scoped>\n",
       "    .dataframe tbody tr th:only-of-type {\n",
       "        vertical-align: middle;\n",
       "    }\n",
       "\n",
       "    .dataframe tbody tr th {\n",
       "        vertical-align: top;\n",
       "    }\n",
       "\n",
       "    .dataframe thead th {\n",
       "        text-align: right;\n",
       "    }\n",
       "</style>\n",
       "<table border=\"1\" class=\"dataframe\">\n",
       "  <thead>\n",
       "    <tr style=\"text-align: right;\">\n",
       "      <th></th>\n",
       "      <th>ds</th>\n",
       "      <th>y</th>\n",
       "    </tr>\n",
       "  </thead>\n",
       "  <tbody>\n",
       "    <tr>\n",
       "      <th>0</th>\n",
       "      <td>2009-12-06</td>\n",
       "      <td>258496.32</td>\n",
       "    </tr>\n",
       "    <tr>\n",
       "      <th>1</th>\n",
       "      <td>2009-12-13</td>\n",
       "      <td>232310.10</td>\n",
       "    </tr>\n",
       "    <tr>\n",
       "      <th>2</th>\n",
       "      <td>2009-12-20</td>\n",
       "      <td>256240.20</td>\n",
       "    </tr>\n",
       "    <tr>\n",
       "      <th>3</th>\n",
       "      <td>2009-12-27</td>\n",
       "      <td>52800.49</td>\n",
       "    </tr>\n",
       "    <tr>\n",
       "      <th>4</th>\n",
       "      <td>2010-01-03</td>\n",
       "      <td>0.00</td>\n",
       "    </tr>\n",
       "    <tr>\n",
       "      <th>...</th>\n",
       "      <td>...</td>\n",
       "      <td>...</td>\n",
       "    </tr>\n",
       "    <tr>\n",
       "      <th>101</th>\n",
       "      <td>2011-11-13</td>\n",
       "      <td>346560.14</td>\n",
       "    </tr>\n",
       "    <tr>\n",
       "      <th>102</th>\n",
       "      <td>2011-11-20</td>\n",
       "      <td>380407.57</td>\n",
       "    </tr>\n",
       "    <tr>\n",
       "      <th>103</th>\n",
       "      <td>2011-11-27</td>\n",
       "      <td>308185.02</td>\n",
       "    </tr>\n",
       "    <tr>\n",
       "      <th>104</th>\n",
       "      <td>2011-12-04</td>\n",
       "      <td>319874.99</td>\n",
       "    </tr>\n",
       "    <tr>\n",
       "      <th>105</th>\n",
       "      <td>2011-12-11</td>\n",
       "      <td>300623.22</td>\n",
       "    </tr>\n",
       "  </tbody>\n",
       "</table>\n",
       "<p>106 rows × 2 columns</p>\n",
       "</div>"
      ],
      "text/plain": [
       "            ds          y\n",
       "0   2009-12-06  258496.32\n",
       "1   2009-12-13  232310.10\n",
       "2   2009-12-20  256240.20\n",
       "3   2009-12-27   52800.49\n",
       "4   2010-01-03       0.00\n",
       "..         ...        ...\n",
       "101 2011-11-13  346560.14\n",
       "102 2011-11-20  380407.57\n",
       "103 2011-11-27  308185.02\n",
       "104 2011-12-04  319874.99\n",
       "105 2011-12-11  300623.22\n",
       "\n",
       "[106 rows x 2 columns]"
      ]
     },
     "execution_count": 9,
     "metadata": {},
     "output_type": "execute_result"
    }
   ],
   "source": [
    "prophet_df = weekly_sales.reset_index()\n",
    "prophet_df.columns = ['ds', 'y']\n",
    "prophet_df"
   ]
  },
  {
   "cell_type": "markdown",
   "id": "daaff8ee",
   "metadata": {},
   "source": [
    "Here we use Facebook's Prophet which is a powerful, flexible, and easy-to-use library for forecasting time series data. It's designed for making forecasts for business metrics such as CPU usage, website traffic, and sales, which often exhibit strong patterns based on time, such as seasonality and trends.\n",
    "\n",
    "Prophet works by decomposing a time series into three main components:\n",
    "\n",
    "Trend: The overall direction of the data—whether it is increasing, decreasing, or stagnant over time.\n",
    "\n",
    "Seasonality: Periodic patterns in the data. This can include daily, weekly, or annual cycles.\n",
    "\n",
    "Holidays/Events: Irregularities in the time series which are not due to the trend or the seasonal variation. For instance, sales promotions or holidays like Christmas might cause spikes in sales data that aren't accounted for by trend or seasonality.\n",
    "\n",
    "Prophet uses an additive model for time series forecasting, where the time series value is expressed as a sum of these components:\n",
    "\n",
    "y(t) = Trend(t) + Seasonality(t) + Holiday(t) + error\n",
    "\n",
    "By default, Prophet uses a piecewise linear model for its trend. It automatically detects change points in the trend and allows the trend to adapt at these points. This makes Prophet powerful in forecasting data with non-linear trends.\n",
    "\n",
    "Seasonality in Prophet is modeled using Fourier series. The number of Fourier terms determines how quickly the seasonality can change. More terms allow more flexibility in the model, enabling it to fit faster changing cycles.\n",
    "\n",
    "Holidays and events are modeled using a regression model. You provide Prophet with a schedule of past and future events, and it uses this to fit these additional regressors.\n",
    "\n",
    "Prophet also includes a parameter for uncertainty estimation. It uses a technique called Bayesian sampling to generate possible future scenarios and quantify uncertainty.\n",
    "\n",
    "The strengths of Prophet come from its flexibility and the fact that it requires minimal input and tuning from the user. Its automatic feature engineering and model selection save time and effort, while still providing robust, interpretable results."
   ]
  },
  {
   "cell_type": "code",
   "execution_count": 10,
   "id": "c3099d46",
   "metadata": {},
   "outputs": [],
   "source": [
    "from prophet import Prophet\n",
    "m = Prophet()"
   ]
  },
  {
   "cell_type": "code",
   "execution_count": 11,
   "id": "afad0779",
   "metadata": {},
   "outputs": [
    {
     "name": "stderr",
     "output_type": "stream",
     "text": [
      "11:48:51 - cmdstanpy - INFO - Chain [1] start processing\n",
      "11:48:51 - cmdstanpy - INFO - Chain [1] done processing\n"
     ]
    },
    {
     "data": {
      "text/plain": [
       "<prophet.forecaster.Prophet at 0x22a049bcad0>"
      ]
     },
     "execution_count": 11,
     "metadata": {},
     "output_type": "execute_result"
    }
   ],
   "source": [
    "m.fit(prophet_df)"
   ]
  },
  {
   "cell_type": "code",
   "execution_count": 12,
   "id": "ee301c34",
   "metadata": {},
   "outputs": [
    {
     "data": {
      "text/html": [
       "<div>\n",
       "<style scoped>\n",
       "    .dataframe tbody tr th:only-of-type {\n",
       "        vertical-align: middle;\n",
       "    }\n",
       "\n",
       "    .dataframe tbody tr th {\n",
       "        vertical-align: top;\n",
       "    }\n",
       "\n",
       "    .dataframe thead th {\n",
       "        text-align: right;\n",
       "    }\n",
       "</style>\n",
       "<table border=\"1\" class=\"dataframe\">\n",
       "  <thead>\n",
       "    <tr style=\"text-align: right;\">\n",
       "      <th></th>\n",
       "      <th>ds</th>\n",
       "    </tr>\n",
       "  </thead>\n",
       "  <tbody>\n",
       "    <tr>\n",
       "      <th>171</th>\n",
       "      <td>2012-02-15</td>\n",
       "    </tr>\n",
       "    <tr>\n",
       "      <th>172</th>\n",
       "      <td>2012-02-16</td>\n",
       "    </tr>\n",
       "    <tr>\n",
       "      <th>173</th>\n",
       "      <td>2012-02-17</td>\n",
       "    </tr>\n",
       "    <tr>\n",
       "      <th>174</th>\n",
       "      <td>2012-02-18</td>\n",
       "    </tr>\n",
       "    <tr>\n",
       "      <th>175</th>\n",
       "      <td>2012-02-19</td>\n",
       "    </tr>\n",
       "  </tbody>\n",
       "</table>\n",
       "</div>"
      ],
      "text/plain": [
       "            ds\n",
       "171 2012-02-15\n",
       "172 2012-02-16\n",
       "173 2012-02-17\n",
       "174 2012-02-18\n",
       "175 2012-02-19"
      ]
     },
     "execution_count": 12,
     "metadata": {},
     "output_type": "execute_result"
    }
   ],
   "source": [
    "future = m.make_future_dataframe(periods=10*7)\n",
    "future.tail()"
   ]
  },
  {
   "cell_type": "markdown",
   "id": "7d309eed",
   "metadata": {},
   "source": [
    "Using the trained model to make forecasts for the future dates in the new dataframe. \n",
    "Displaying the last five rows of the forecast, including the forecasted value ('yhat') and its lower and upper bounds."
   ]
  },
  {
   "cell_type": "code",
   "execution_count": 13,
   "id": "11407336",
   "metadata": {},
   "outputs": [
    {
     "data": {
      "text/html": [
       "<div>\n",
       "<style scoped>\n",
       "    .dataframe tbody tr th:only-of-type {\n",
       "        vertical-align: middle;\n",
       "    }\n",
       "\n",
       "    .dataframe tbody tr th {\n",
       "        vertical-align: top;\n",
       "    }\n",
       "\n",
       "    .dataframe thead th {\n",
       "        text-align: right;\n",
       "    }\n",
       "</style>\n",
       "<table border=\"1\" class=\"dataframe\">\n",
       "  <thead>\n",
       "    <tr style=\"text-align: right;\">\n",
       "      <th></th>\n",
       "      <th>ds</th>\n",
       "      <th>yhat</th>\n",
       "      <th>yhat_lower</th>\n",
       "      <th>yhat_upper</th>\n",
       "    </tr>\n",
       "  </thead>\n",
       "  <tbody>\n",
       "    <tr>\n",
       "      <th>171</th>\n",
       "      <td>2012-02-15</td>\n",
       "      <td>115330.347505</td>\n",
       "      <td>66769.892285</td>\n",
       "      <td>164834.128673</td>\n",
       "    </tr>\n",
       "    <tr>\n",
       "      <th>172</th>\n",
       "      <td>2012-02-16</td>\n",
       "      <td>118816.714550</td>\n",
       "      <td>69527.311767</td>\n",
       "      <td>168640.547958</td>\n",
       "    </tr>\n",
       "    <tr>\n",
       "      <th>173</th>\n",
       "      <td>2012-02-17</td>\n",
       "      <td>122847.915703</td>\n",
       "      <td>69912.418080</td>\n",
       "      <td>170295.982351</td>\n",
       "    </tr>\n",
       "    <tr>\n",
       "      <th>174</th>\n",
       "      <td>2012-02-18</td>\n",
       "      <td>127300.663794</td>\n",
       "      <td>79607.620912</td>\n",
       "      <td>178040.970242</td>\n",
       "    </tr>\n",
       "    <tr>\n",
       "      <th>175</th>\n",
       "      <td>2012-02-19</td>\n",
       "      <td>132043.715607</td>\n",
       "      <td>83608.931518</td>\n",
       "      <td>178803.127813</td>\n",
       "    </tr>\n",
       "  </tbody>\n",
       "</table>\n",
       "</div>"
      ],
      "text/plain": [
       "            ds           yhat    yhat_lower     yhat_upper\n",
       "171 2012-02-15  115330.347505  66769.892285  164834.128673\n",
       "172 2012-02-16  118816.714550  69527.311767  168640.547958\n",
       "173 2012-02-17  122847.915703  69912.418080  170295.982351\n",
       "174 2012-02-18  127300.663794  79607.620912  178040.970242\n",
       "175 2012-02-19  132043.715607  83608.931518  178803.127813"
      ]
     },
     "execution_count": 13,
     "metadata": {},
     "output_type": "execute_result"
    }
   ],
   "source": [
    "forecast = m.predict(future)\n",
    "forecast[['ds', 'yhat', 'yhat_lower', 'yhat_upper']].tail()"
   ]
  },
  {
   "cell_type": "markdown",
   "id": "177fb09b",
   "metadata": {},
   "source": [
    "Plotting the forecasted sales and their confidence intervals."
   ]
  },
  {
   "cell_type": "code",
   "execution_count": 14,
   "id": "15973b70",
   "metadata": {},
   "outputs": [
    {
     "data": {
      "application/vnd.plotly.v1+json": {
       "config": {
        "plotlyServerURL": "https://plot.ly"
       },
       "data": [
        {
         "marker": {
          "color": "black",
          "size": 4
         },
         "mode": "markers",
         "name": "Actual",
         "type": "scatter",
         "x": [
          "2009-12-06T00:00:00",
          "2009-12-13T00:00:00",
          "2009-12-20T00:00:00",
          "2009-12-27T00:00:00",
          "2010-01-03T00:00:00",
          "2010-01-10T00:00:00",
          "2010-01-17T00:00:00",
          "2010-01-24T00:00:00",
          "2010-01-31T00:00:00",
          "2010-02-07T00:00:00",
          "2010-02-14T00:00:00",
          "2010-02-21T00:00:00",
          "2010-02-28T00:00:00",
          "2010-03-07T00:00:00",
          "2010-03-14T00:00:00",
          "2010-03-21T00:00:00",
          "2010-03-28T00:00:00",
          "2010-04-04T00:00:00",
          "2010-04-11T00:00:00",
          "2010-04-18T00:00:00",
          "2010-04-25T00:00:00",
          "2010-05-02T00:00:00",
          "2010-05-09T00:00:00",
          "2010-05-16T00:00:00",
          "2010-05-23T00:00:00",
          "2010-05-30T00:00:00",
          "2010-06-06T00:00:00",
          "2010-06-13T00:00:00",
          "2010-06-20T00:00:00",
          "2010-06-27T00:00:00",
          "2010-07-04T00:00:00",
          "2010-07-11T00:00:00",
          "2010-07-18T00:00:00",
          "2010-07-25T00:00:00",
          "2010-08-01T00:00:00",
          "2010-08-08T00:00:00",
          "2010-08-15T00:00:00",
          "2010-08-22T00:00:00",
          "2010-08-29T00:00:00",
          "2010-09-05T00:00:00",
          "2010-09-12T00:00:00",
          "2010-09-19T00:00:00",
          "2010-09-26T00:00:00",
          "2010-10-03T00:00:00",
          "2010-10-10T00:00:00",
          "2010-10-17T00:00:00",
          "2010-10-24T00:00:00",
          "2010-10-31T00:00:00",
          "2010-11-07T00:00:00",
          "2010-11-14T00:00:00",
          "2010-11-21T00:00:00",
          "2010-11-28T00:00:00",
          "2010-12-05T00:00:00",
          "2010-12-12T00:00:00",
          "2010-12-19T00:00:00",
          "2010-12-26T00:00:00",
          "2011-01-02T00:00:00",
          "2011-01-09T00:00:00",
          "2011-01-16T00:00:00",
          "2011-01-23T00:00:00",
          "2011-01-30T00:00:00",
          "2011-02-06T00:00:00",
          "2011-02-13T00:00:00",
          "2011-02-20T00:00:00",
          "2011-02-27T00:00:00",
          "2011-03-06T00:00:00",
          "2011-03-13T00:00:00",
          "2011-03-20T00:00:00",
          "2011-03-27T00:00:00",
          "2011-04-03T00:00:00",
          "2011-04-10T00:00:00",
          "2011-04-17T00:00:00",
          "2011-04-24T00:00:00",
          "2011-05-01T00:00:00",
          "2011-05-08T00:00:00",
          "2011-05-15T00:00:00",
          "2011-05-22T00:00:00",
          "2011-05-29T00:00:00",
          "2011-06-05T00:00:00",
          "2011-06-12T00:00:00",
          "2011-06-19T00:00:00",
          "2011-06-26T00:00:00",
          "2011-07-03T00:00:00",
          "2011-07-10T00:00:00",
          "2011-07-17T00:00:00",
          "2011-07-24T00:00:00",
          "2011-07-31T00:00:00",
          "2011-08-07T00:00:00",
          "2011-08-14T00:00:00",
          "2011-08-21T00:00:00",
          "2011-08-28T00:00:00",
          "2011-09-04T00:00:00",
          "2011-09-11T00:00:00",
          "2011-09-18T00:00:00",
          "2011-09-25T00:00:00",
          "2011-10-02T00:00:00",
          "2011-10-09T00:00:00",
          "2011-10-16T00:00:00",
          "2011-10-23T00:00:00",
          "2011-10-30T00:00:00",
          "2011-11-06T00:00:00",
          "2011-11-13T00:00:00",
          "2011-11-20T00:00:00",
          "2011-11-27T00:00:00",
          "2011-12-04T00:00:00",
          "2011-12-11T00:00:00"
         ],
         "y": [
          258496.32,
          232310.1,
          256240.2,
          52800.49,
          0,
          166393.59,
          156990.91,
          148777.541,
          151870.851,
          121861.342,
          88736.98,
          165420.432,
          157072.672,
          164064.29,
          138325.73,
          165942.921,
          171343.29,
          156420.07,
          137360.23,
          138322.801,
          164428.6,
          132255.141,
          158629.13,
          148891.42,
          144621.5,
          151146.9,
          105543.28,
          204892.33,
          134026.88,
          124024.91,
          168380.11,
          146010.43,
          148730.48,
          100920.97,
          152918.08,
          127134.27,
          172582.52,
          168315.72,
          124716.09,
          140037.36,
          129651.52,
          163820.581,
          238385.53,
          291652.13,
          257386.97,
          309080.93,
          195850.02,
          206556.98,
          279382.87,
          362717.611,
          351931.091,
          294028.02,
          498289.55,
          465928.23,
          207052.17,
          89770.57,
          0,
          93720.93000000001,
          190994.96,
          133782.91,
          119136.81,
          123642.18,
          102296.93,
          139664.58,
          133069.93,
          130435.56,
          129180.96,
          145262.61000000002,
          147909.8,
          183501.71,
          121598.22,
          147459.771,
          115461.25,
          84382.66,
          130354.31,
          205445.23,
          198031.53,
          160569.82,
          116932.52,
          177916.87,
          184016.5,
          117086.71,
          136287.44,
          174659.17,
          124163.17,
          182513.96,
          180814.851,
          153176.2,
          161417.02,
          170724.89,
          149603.5,
          143819.06,
          190513.47,
          211722.62,
          326156.721,
          206858.231,
          302466.59,
          205734.64,
          263762.22,
          238642.19,
          288266.77,
          346560.14,
          380407.57,
          308185.02,
          319874.99,
          300623.22
         ]
        },
        {
         "hoverinfo": "skip",
         "line": {
          "width": 0
         },
         "mode": "lines",
         "type": "scatter",
         "x": [
          "2009-12-06T00:00:00",
          "2009-12-13T00:00:00",
          "2009-12-20T00:00:00",
          "2009-12-27T00:00:00",
          "2010-01-03T00:00:00",
          "2010-01-10T00:00:00",
          "2010-01-17T00:00:00",
          "2010-01-24T00:00:00",
          "2010-01-31T00:00:00",
          "2010-02-07T00:00:00",
          "2010-02-14T00:00:00",
          "2010-02-21T00:00:00",
          "2010-02-28T00:00:00",
          "2010-03-07T00:00:00",
          "2010-03-14T00:00:00",
          "2010-03-21T00:00:00",
          "2010-03-28T00:00:00",
          "2010-04-04T00:00:00",
          "2010-04-11T00:00:00",
          "2010-04-18T00:00:00",
          "2010-04-25T00:00:00",
          "2010-05-02T00:00:00",
          "2010-05-09T00:00:00",
          "2010-05-16T00:00:00",
          "2010-05-23T00:00:00",
          "2010-05-30T00:00:00",
          "2010-06-06T00:00:00",
          "2010-06-13T00:00:00",
          "2010-06-20T00:00:00",
          "2010-06-27T00:00:00",
          "2010-07-04T00:00:00",
          "2010-07-11T00:00:00",
          "2010-07-18T00:00:00",
          "2010-07-25T00:00:00",
          "2010-08-01T00:00:00",
          "2010-08-08T00:00:00",
          "2010-08-15T00:00:00",
          "2010-08-22T00:00:00",
          "2010-08-29T00:00:00",
          "2010-09-05T00:00:00",
          "2010-09-12T00:00:00",
          "2010-09-19T00:00:00",
          "2010-09-26T00:00:00",
          "2010-10-03T00:00:00",
          "2010-10-10T00:00:00",
          "2010-10-17T00:00:00",
          "2010-10-24T00:00:00",
          "2010-10-31T00:00:00",
          "2010-11-07T00:00:00",
          "2010-11-14T00:00:00",
          "2010-11-21T00:00:00",
          "2010-11-28T00:00:00",
          "2010-12-05T00:00:00",
          "2010-12-12T00:00:00",
          "2010-12-19T00:00:00",
          "2010-12-26T00:00:00",
          "2011-01-02T00:00:00",
          "2011-01-09T00:00:00",
          "2011-01-16T00:00:00",
          "2011-01-23T00:00:00",
          "2011-01-30T00:00:00",
          "2011-02-06T00:00:00",
          "2011-02-13T00:00:00",
          "2011-02-20T00:00:00",
          "2011-02-27T00:00:00",
          "2011-03-06T00:00:00",
          "2011-03-13T00:00:00",
          "2011-03-20T00:00:00",
          "2011-03-27T00:00:00",
          "2011-04-03T00:00:00",
          "2011-04-10T00:00:00",
          "2011-04-17T00:00:00",
          "2011-04-24T00:00:00",
          "2011-05-01T00:00:00",
          "2011-05-08T00:00:00",
          "2011-05-15T00:00:00",
          "2011-05-22T00:00:00",
          "2011-05-29T00:00:00",
          "2011-06-05T00:00:00",
          "2011-06-12T00:00:00",
          "2011-06-19T00:00:00",
          "2011-06-26T00:00:00",
          "2011-07-03T00:00:00",
          "2011-07-10T00:00:00",
          "2011-07-17T00:00:00",
          "2011-07-24T00:00:00",
          "2011-07-31T00:00:00",
          "2011-08-07T00:00:00",
          "2011-08-14T00:00:00",
          "2011-08-21T00:00:00",
          "2011-08-28T00:00:00",
          "2011-09-04T00:00:00",
          "2011-09-11T00:00:00",
          "2011-09-18T00:00:00",
          "2011-09-25T00:00:00",
          "2011-10-02T00:00:00",
          "2011-10-09T00:00:00",
          "2011-10-16T00:00:00",
          "2011-10-23T00:00:00",
          "2011-10-30T00:00:00",
          "2011-11-06T00:00:00",
          "2011-11-13T00:00:00",
          "2011-11-20T00:00:00",
          "2011-11-27T00:00:00",
          "2011-12-04T00:00:00",
          "2011-12-11T00:00:00",
          "2011-12-12T00:00:00",
          "2011-12-13T00:00:00",
          "2011-12-14T00:00:00",
          "2011-12-15T00:00:00",
          "2011-12-16T00:00:00",
          "2011-12-17T00:00:00",
          "2011-12-18T00:00:00",
          "2011-12-19T00:00:00",
          "2011-12-20T00:00:00",
          "2011-12-21T00:00:00",
          "2011-12-22T00:00:00",
          "2011-12-23T00:00:00",
          "2011-12-24T00:00:00",
          "2011-12-25T00:00:00",
          "2011-12-26T00:00:00",
          "2011-12-27T00:00:00",
          "2011-12-28T00:00:00",
          "2011-12-29T00:00:00",
          "2011-12-30T00:00:00",
          "2011-12-31T00:00:00",
          "2012-01-01T00:00:00",
          "2012-01-02T00:00:00",
          "2012-01-03T00:00:00",
          "2012-01-04T00:00:00",
          "2012-01-05T00:00:00",
          "2012-01-06T00:00:00",
          "2012-01-07T00:00:00",
          "2012-01-08T00:00:00",
          "2012-01-09T00:00:00",
          "2012-01-10T00:00:00",
          "2012-01-11T00:00:00",
          "2012-01-12T00:00:00",
          "2012-01-13T00:00:00",
          "2012-01-14T00:00:00",
          "2012-01-15T00:00:00",
          "2012-01-16T00:00:00",
          "2012-01-17T00:00:00",
          "2012-01-18T00:00:00",
          "2012-01-19T00:00:00",
          "2012-01-20T00:00:00",
          "2012-01-21T00:00:00",
          "2012-01-22T00:00:00",
          "2012-01-23T00:00:00",
          "2012-01-24T00:00:00",
          "2012-01-25T00:00:00",
          "2012-01-26T00:00:00",
          "2012-01-27T00:00:00",
          "2012-01-28T00:00:00",
          "2012-01-29T00:00:00",
          "2012-01-30T00:00:00",
          "2012-01-31T00:00:00",
          "2012-02-01T00:00:00",
          "2012-02-02T00:00:00",
          "2012-02-03T00:00:00",
          "2012-02-04T00:00:00",
          "2012-02-05T00:00:00",
          "2012-02-06T00:00:00",
          "2012-02-07T00:00:00",
          "2012-02-08T00:00:00",
          "2012-02-09T00:00:00",
          "2012-02-10T00:00:00",
          "2012-02-11T00:00:00",
          "2012-02-12T00:00:00",
          "2012-02-13T00:00:00",
          "2012-02-14T00:00:00",
          "2012-02-15T00:00:00",
          "2012-02-16T00:00:00",
          "2012-02-17T00:00:00",
          "2012-02-18T00:00:00",
          "2012-02-19T00:00:00"
         ],
         "y": [
          304195.84736343444,
          243551.6753594935,
          134952.8139767896,
          33501.175969083124,
          -414.63602950890595,
          39245.08004254449,
          99712.60132508582,
          121879.62392435879,
          91725.59636406884,
          53485.89802646115,
          56608.87667533512,
          83229.76745397958,
          107676.34903003537,
          105450.56903539933,
          85326.15823907942,
          91729.80377220002,
          109774.50708826908,
          116199.33067853325,
          96910.74745468373,
          74409.99514826653,
          62078.38396906001,
          81219.32589282018,
          110860.98414670683,
          117495.27002879429,
          101080.83024421941,
          96113.82632727212,
          97435.45927922819,
          103153.57652411879,
          103948.42139875617,
          91502.0251513151,
          87647.03979232468,
          89142.66446362095,
          103382.07276172024,
          102366.71625127735,
          94955.96777726136,
          98463.42485835147,
          105472.05575971694,
          112060.86323763132,
          102014.43615554972,
          87794.91539689247,
          99140.06884947613,
          154960.8935527388,
          210173.1487863992,
          233419.94551575027,
          212679.9424660866,
          184916.71512213346,
          179312.3610255812,
          206349.22563735305,
          246325.58603408062,
          271348.13442452275,
          286196.3199922504,
          309675.02113549394,
          313319.51278709027,
          266146.9434652083,
          162994.28743072602,
          54781.43719369251,
          6529.61676088867,
          36323.439865814566,
          98741.45089855696,
          125482.4611836418,
          103517.07858097051,
          65120.29949020917,
          53865.69039750121,
          84006.4880987485,
          108396.19675561506,
          112759.66896487547,
          95098.06611569223,
          92464.06645807449,
          108724.46494428358,
          125352.52507057415,
          110926.01549410804,
          83795.05800755054,
          67730.20034126476,
          78254.23919752512,
          111088.26089797064,
          120964.18988676614,
          117416.188021472,
          100661.02165016292,
          100717.28549314008,
          112023.54611631311,
          115083.28075746854,
          102980.36397829349,
          90402.94049420457,
          98875.90273139374,
          105798.49227329281,
          106496.99163006377,
          103933.12202372518,
          104274.11709682865,
          113766.80987951711,
          119449.9457622013,
          108883.44393822693,
          96118.89807931076,
          99370.01036747472,
          148476.29225400474,
          205566.61667353497,
          239377.5712571299,
          223095.08721266195,
          192306.0091168616,
          182882.75680899833,
          203080.02594216485,
          243048.6658621498,
          269934.90107261034,
          294920.2139960018,
          312520.25386081234,
          323302.1375679708,
          287832.3881415888,
          278141.3129843757,
          267665.43246325647,
          253893.70423904847,
          236025.4221243921,
          222411.41725802232,
          206017.05331241814,
          189145.96395380588,
          174271.47543598854,
          162908.0679302541,
          144232.62276958697,
          127688.47769686871,
          108257.7855444857,
          93303.9814967143,
          80026.18967211367,
          63492.232576879025,
          51697.1731038679,
          41004.96005226849,
          30804.418178044372,
          22739.036859333315,
          17230.49196199218,
          14955.727157733767,
          8424.425210316811,
          10622.112465659018,
          11020.191043291225,
          10833.718785071022,
          20181.368822941313,
          25455.534411968667,
          32791.94924669862,
          37553.41583157546,
          49068.93674819556,
          58305.99759081175,
          67561.77202970964,
          70460.89705593472,
          87045.69989204344,
          94068.19904662322,
          103475.17329208604,
          110064.00987279414,
          118448.48546913471,
          122917.76531986737,
          125298.72233309872,
          133175.03920320937,
          133672.0149687034,
          134360.22630508678,
          131689.8631048796,
          135448.9324532515,
          127406.25846338423,
          124938.11902135206,
          120982.87710254984,
          117274.4450869972,
          109833.48705834216,
          105866.69927723936,
          98674.26145487091,
          92258.58500412051,
          87799.95750632572,
          82681.22786149927,
          76626.87669296064,
          70622.88829816294,
          67212.95934315877,
          65071.90223316431,
          59142.641087836,
          64113.788953733834,
          60774.337118065705,
          60523.33428740172,
          60875.42910210019,
          63655.74421296299,
          66769.89228530096,
          69527.31176730766,
          69912.41807987566,
          79607.62091158393,
          83608.93151799048
         ]
        },
        {
         "fill": "tonexty",
         "fillcolor": "rgba(0, 114, 178, 0.2)",
         "line": {
          "color": "#0072B2",
          "width": 2
         },
         "mode": "lines",
         "name": "Predicted",
         "type": "scatter",
         "x": [
          "2009-12-06T00:00:00",
          "2009-12-13T00:00:00",
          "2009-12-20T00:00:00",
          "2009-12-27T00:00:00",
          "2010-01-03T00:00:00",
          "2010-01-10T00:00:00",
          "2010-01-17T00:00:00",
          "2010-01-24T00:00:00",
          "2010-01-31T00:00:00",
          "2010-02-07T00:00:00",
          "2010-02-14T00:00:00",
          "2010-02-21T00:00:00",
          "2010-02-28T00:00:00",
          "2010-03-07T00:00:00",
          "2010-03-14T00:00:00",
          "2010-03-21T00:00:00",
          "2010-03-28T00:00:00",
          "2010-04-04T00:00:00",
          "2010-04-11T00:00:00",
          "2010-04-18T00:00:00",
          "2010-04-25T00:00:00",
          "2010-05-02T00:00:00",
          "2010-05-09T00:00:00",
          "2010-05-16T00:00:00",
          "2010-05-23T00:00:00",
          "2010-05-30T00:00:00",
          "2010-06-06T00:00:00",
          "2010-06-13T00:00:00",
          "2010-06-20T00:00:00",
          "2010-06-27T00:00:00",
          "2010-07-04T00:00:00",
          "2010-07-11T00:00:00",
          "2010-07-18T00:00:00",
          "2010-07-25T00:00:00",
          "2010-08-01T00:00:00",
          "2010-08-08T00:00:00",
          "2010-08-15T00:00:00",
          "2010-08-22T00:00:00",
          "2010-08-29T00:00:00",
          "2010-09-05T00:00:00",
          "2010-09-12T00:00:00",
          "2010-09-19T00:00:00",
          "2010-09-26T00:00:00",
          "2010-10-03T00:00:00",
          "2010-10-10T00:00:00",
          "2010-10-17T00:00:00",
          "2010-10-24T00:00:00",
          "2010-10-31T00:00:00",
          "2010-11-07T00:00:00",
          "2010-11-14T00:00:00",
          "2010-11-21T00:00:00",
          "2010-11-28T00:00:00",
          "2010-12-05T00:00:00",
          "2010-12-12T00:00:00",
          "2010-12-19T00:00:00",
          "2010-12-26T00:00:00",
          "2011-01-02T00:00:00",
          "2011-01-09T00:00:00",
          "2011-01-16T00:00:00",
          "2011-01-23T00:00:00",
          "2011-01-30T00:00:00",
          "2011-02-06T00:00:00",
          "2011-02-13T00:00:00",
          "2011-02-20T00:00:00",
          "2011-02-27T00:00:00",
          "2011-03-06T00:00:00",
          "2011-03-13T00:00:00",
          "2011-03-20T00:00:00",
          "2011-03-27T00:00:00",
          "2011-04-03T00:00:00",
          "2011-04-10T00:00:00",
          "2011-04-17T00:00:00",
          "2011-04-24T00:00:00",
          "2011-05-01T00:00:00",
          "2011-05-08T00:00:00",
          "2011-05-15T00:00:00",
          "2011-05-22T00:00:00",
          "2011-05-29T00:00:00",
          "2011-06-05T00:00:00",
          "2011-06-12T00:00:00",
          "2011-06-19T00:00:00",
          "2011-06-26T00:00:00",
          "2011-07-03T00:00:00",
          "2011-07-10T00:00:00",
          "2011-07-17T00:00:00",
          "2011-07-24T00:00:00",
          "2011-07-31T00:00:00",
          "2011-08-07T00:00:00",
          "2011-08-14T00:00:00",
          "2011-08-21T00:00:00",
          "2011-08-28T00:00:00",
          "2011-09-04T00:00:00",
          "2011-09-11T00:00:00",
          "2011-09-18T00:00:00",
          "2011-09-25T00:00:00",
          "2011-10-02T00:00:00",
          "2011-10-09T00:00:00",
          "2011-10-16T00:00:00",
          "2011-10-23T00:00:00",
          "2011-10-30T00:00:00",
          "2011-11-06T00:00:00",
          "2011-11-13T00:00:00",
          "2011-11-20T00:00:00",
          "2011-11-27T00:00:00",
          "2011-12-04T00:00:00",
          "2011-12-11T00:00:00",
          "2011-12-12T00:00:00",
          "2011-12-13T00:00:00",
          "2011-12-14T00:00:00",
          "2011-12-15T00:00:00",
          "2011-12-16T00:00:00",
          "2011-12-17T00:00:00",
          "2011-12-18T00:00:00",
          "2011-12-19T00:00:00",
          "2011-12-20T00:00:00",
          "2011-12-21T00:00:00",
          "2011-12-22T00:00:00",
          "2011-12-23T00:00:00",
          "2011-12-24T00:00:00",
          "2011-12-25T00:00:00",
          "2011-12-26T00:00:00",
          "2011-12-27T00:00:00",
          "2011-12-28T00:00:00",
          "2011-12-29T00:00:00",
          "2011-12-30T00:00:00",
          "2011-12-31T00:00:00",
          "2012-01-01T00:00:00",
          "2012-01-02T00:00:00",
          "2012-01-03T00:00:00",
          "2012-01-04T00:00:00",
          "2012-01-05T00:00:00",
          "2012-01-06T00:00:00",
          "2012-01-07T00:00:00",
          "2012-01-08T00:00:00",
          "2012-01-09T00:00:00",
          "2012-01-10T00:00:00",
          "2012-01-11T00:00:00",
          "2012-01-12T00:00:00",
          "2012-01-13T00:00:00",
          "2012-01-14T00:00:00",
          "2012-01-15T00:00:00",
          "2012-01-16T00:00:00",
          "2012-01-17T00:00:00",
          "2012-01-18T00:00:00",
          "2012-01-19T00:00:00",
          "2012-01-20T00:00:00",
          "2012-01-21T00:00:00",
          "2012-01-22T00:00:00",
          "2012-01-23T00:00:00",
          "2012-01-24T00:00:00",
          "2012-01-25T00:00:00",
          "2012-01-26T00:00:00",
          "2012-01-27T00:00:00",
          "2012-01-28T00:00:00",
          "2012-01-29T00:00:00",
          "2012-01-30T00:00:00",
          "2012-01-31T00:00:00",
          "2012-02-01T00:00:00",
          "2012-02-02T00:00:00",
          "2012-02-03T00:00:00",
          "2012-02-04T00:00:00",
          "2012-02-05T00:00:00",
          "2012-02-06T00:00:00",
          "2012-02-07T00:00:00",
          "2012-02-08T00:00:00",
          "2012-02-09T00:00:00",
          "2012-02-10T00:00:00",
          "2012-02-11T00:00:00",
          "2012-02-12T00:00:00",
          "2012-02-13T00:00:00",
          "2012-02-14T00:00:00",
          "2012-02-15T00:00:00",
          "2012-02-16T00:00:00",
          "2012-02-17T00:00:00",
          "2012-02-18T00:00:00",
          "2012-02-19T00:00:00"
         ],
         "y": [
          352239.46673265146,
          295402.6419837669,
          187009.34753400725,
          82872.58848088846,
          46516.46174089883,
          87027.16233484441,
          149165.3679834212,
          169710.83269350082,
          139080.8860271512,
          101910.17105222428,
          100950.17625353656,
          131408.2233754033,
          155037.02671809864,
          150107.95113080286,
          134316.642479125,
          136431.2423375164,
          156894.31800340512,
          167853.37529603057,
          150435.80291545158,
          120386.70504896477,
          109926.75533470343,
          129588.68635628335,
          157373.16060087123,
          166463.2882053186,
          155249.80323275906,
          143943.54985773336,
          146285.62429686115,
          154289.32611180493,
          153063.7467179743,
          142489.79893452415,
          136206.41326867748,
          141499.8041773174,
          149513.31451379182,
          149183.13569158083,
          144015.7109103553,
          146567.1121656946,
          157742.88206258425,
          161869.02280763866,
          148671.2373580786,
          134276.3922382799,
          149042.9608367166,
          201063.3001540793,
          259452.66774972872,
          282449.4341561382,
          261380.05723667354,
          229646.26882328885,
          225991.01218572212,
          255519.37192494445,
          292866.56966828275,
          318239.1203225532,
          336907.2529582165,
          357522.1028026149,
          362309.11680163094,
          316640.73538994783,
          214599.55536924707,
          104343.28095757266,
          53074.852463263785,
          82512.32903545635,
          146203.3338226782,
          176879.99481391266,
          153123.36469176077,
          113064.07121780592,
          104432.1355036457,
          131739.6911877199,
          159264.89481600953,
          159150.27939649287,
          142882.6931606243,
          140647.01537429256,
          159441.95397293643,
          174291.65544522877,
          161800.57377010537,
          131595.0993006319,
          115839.54031876817,
          130998.5423850556,
          159675.31181854036,
          173135.08061370483,
          164370.20479094834,
          151512.4660211963,
          151420.95819113156,
          159654.59019288112,
          160670.21004988503,
          150937.30524437458,
          142902.42783910208,
          146380.71030766534,
          154950.86472502426,
          156359.34598634625,
          151133.82699485132,
          151669.50416772784,
          162145.90171212188,
          168835.71216339924,
          158381.36668458118,
          141943.05182831938,
          149807.80099941423,
          196441.90710776253,
          257078.10089656216,
          288409.9592372108,
          273683.2260442201,
          240505.2725970975,
          230237.17931699322,
          255224.3459939098,
          293273.6646173718,
          321046.5933551935,
          339874.9053667698,
          360505.20329911367,
          370679.6775836445,
          335908.3550566979,
          325803.09101316176,
          314425.68427827617,
          301846.607499199,
          288163.77656237176,
          273501.55962987035,
          258009.07427757632,
          241857.80051619073,
          225238.55674299406,
          208357.90388102815,
          191434.05959852095,
          174692.4190793941,
          158360.79091305513,
          142664.46592784737,
          127821.24292322036,
          114036.53807070221,
          101498.70414231252,
          90374.68168145476,
          80806.09684173882,
          72905.91006258038,
          66755.70629791233,
          62403.701515003195,
          59863.52206112529,
          59113.79373770511,
          60098.55655913436,
          62728.49976983928,
          66882.99033051424,
          72412.84734485587,
          79143.79534844031,
          86880.5115574606,
          95411.16656471774,
          104512.3450051355,
          113954.22274649466,
          123505.87047131949,
          132940.5502853172,
          142040.87230730534,
          150603.68205686656,
          158444.55675332007,
          165401.79917430383,
          171339.8312030047,
          176151.90525218868,
          179762.06994951318,
          182126.3463022898,
          183233.09149010852,
          183102.54888673386,
          181785.60430360414,
          179361.78919431407,
          175936.59109998113,
          171638.14942085158,
          166613.43019257204,
          161023.9865112699,
          155041.42124674545,
          148842.67545361805,
          142605.26926487542,
          136502.62196264698,
          130699.57438707098,
          125348.22998887741,
          120584.2208635371,
          116523.49232110496,
          113259.68432049628,
          110862.17086773313,
          109374.79973661997,
          108815.35514988955,
          109175.74591324797,
          110422.90148788512,
          112500.33917550374,
          115330.34750519125,
          118816.71454995766,
          122847.91570335734,
          127300.66379355417,
          132043.71560687013
         ]
        },
        {
         "fill": "tonexty",
         "fillcolor": "rgba(0, 114, 178, 0.2)",
         "hoverinfo": "skip",
         "line": {
          "width": 0
         },
         "mode": "lines",
         "type": "scatter",
         "x": [
          "2009-12-06T00:00:00",
          "2009-12-13T00:00:00",
          "2009-12-20T00:00:00",
          "2009-12-27T00:00:00",
          "2010-01-03T00:00:00",
          "2010-01-10T00:00:00",
          "2010-01-17T00:00:00",
          "2010-01-24T00:00:00",
          "2010-01-31T00:00:00",
          "2010-02-07T00:00:00",
          "2010-02-14T00:00:00",
          "2010-02-21T00:00:00",
          "2010-02-28T00:00:00",
          "2010-03-07T00:00:00",
          "2010-03-14T00:00:00",
          "2010-03-21T00:00:00",
          "2010-03-28T00:00:00",
          "2010-04-04T00:00:00",
          "2010-04-11T00:00:00",
          "2010-04-18T00:00:00",
          "2010-04-25T00:00:00",
          "2010-05-02T00:00:00",
          "2010-05-09T00:00:00",
          "2010-05-16T00:00:00",
          "2010-05-23T00:00:00",
          "2010-05-30T00:00:00",
          "2010-06-06T00:00:00",
          "2010-06-13T00:00:00",
          "2010-06-20T00:00:00",
          "2010-06-27T00:00:00",
          "2010-07-04T00:00:00",
          "2010-07-11T00:00:00",
          "2010-07-18T00:00:00",
          "2010-07-25T00:00:00",
          "2010-08-01T00:00:00",
          "2010-08-08T00:00:00",
          "2010-08-15T00:00:00",
          "2010-08-22T00:00:00",
          "2010-08-29T00:00:00",
          "2010-09-05T00:00:00",
          "2010-09-12T00:00:00",
          "2010-09-19T00:00:00",
          "2010-09-26T00:00:00",
          "2010-10-03T00:00:00",
          "2010-10-10T00:00:00",
          "2010-10-17T00:00:00",
          "2010-10-24T00:00:00",
          "2010-10-31T00:00:00",
          "2010-11-07T00:00:00",
          "2010-11-14T00:00:00",
          "2010-11-21T00:00:00",
          "2010-11-28T00:00:00",
          "2010-12-05T00:00:00",
          "2010-12-12T00:00:00",
          "2010-12-19T00:00:00",
          "2010-12-26T00:00:00",
          "2011-01-02T00:00:00",
          "2011-01-09T00:00:00",
          "2011-01-16T00:00:00",
          "2011-01-23T00:00:00",
          "2011-01-30T00:00:00",
          "2011-02-06T00:00:00",
          "2011-02-13T00:00:00",
          "2011-02-20T00:00:00",
          "2011-02-27T00:00:00",
          "2011-03-06T00:00:00",
          "2011-03-13T00:00:00",
          "2011-03-20T00:00:00",
          "2011-03-27T00:00:00",
          "2011-04-03T00:00:00",
          "2011-04-10T00:00:00",
          "2011-04-17T00:00:00",
          "2011-04-24T00:00:00",
          "2011-05-01T00:00:00",
          "2011-05-08T00:00:00",
          "2011-05-15T00:00:00",
          "2011-05-22T00:00:00",
          "2011-05-29T00:00:00",
          "2011-06-05T00:00:00",
          "2011-06-12T00:00:00",
          "2011-06-19T00:00:00",
          "2011-06-26T00:00:00",
          "2011-07-03T00:00:00",
          "2011-07-10T00:00:00",
          "2011-07-17T00:00:00",
          "2011-07-24T00:00:00",
          "2011-07-31T00:00:00",
          "2011-08-07T00:00:00",
          "2011-08-14T00:00:00",
          "2011-08-21T00:00:00",
          "2011-08-28T00:00:00",
          "2011-09-04T00:00:00",
          "2011-09-11T00:00:00",
          "2011-09-18T00:00:00",
          "2011-09-25T00:00:00",
          "2011-10-02T00:00:00",
          "2011-10-09T00:00:00",
          "2011-10-16T00:00:00",
          "2011-10-23T00:00:00",
          "2011-10-30T00:00:00",
          "2011-11-06T00:00:00",
          "2011-11-13T00:00:00",
          "2011-11-20T00:00:00",
          "2011-11-27T00:00:00",
          "2011-12-04T00:00:00",
          "2011-12-11T00:00:00",
          "2011-12-12T00:00:00",
          "2011-12-13T00:00:00",
          "2011-12-14T00:00:00",
          "2011-12-15T00:00:00",
          "2011-12-16T00:00:00",
          "2011-12-17T00:00:00",
          "2011-12-18T00:00:00",
          "2011-12-19T00:00:00",
          "2011-12-20T00:00:00",
          "2011-12-21T00:00:00",
          "2011-12-22T00:00:00",
          "2011-12-23T00:00:00",
          "2011-12-24T00:00:00",
          "2011-12-25T00:00:00",
          "2011-12-26T00:00:00",
          "2011-12-27T00:00:00",
          "2011-12-28T00:00:00",
          "2011-12-29T00:00:00",
          "2011-12-30T00:00:00",
          "2011-12-31T00:00:00",
          "2012-01-01T00:00:00",
          "2012-01-02T00:00:00",
          "2012-01-03T00:00:00",
          "2012-01-04T00:00:00",
          "2012-01-05T00:00:00",
          "2012-01-06T00:00:00",
          "2012-01-07T00:00:00",
          "2012-01-08T00:00:00",
          "2012-01-09T00:00:00",
          "2012-01-10T00:00:00",
          "2012-01-11T00:00:00",
          "2012-01-12T00:00:00",
          "2012-01-13T00:00:00",
          "2012-01-14T00:00:00",
          "2012-01-15T00:00:00",
          "2012-01-16T00:00:00",
          "2012-01-17T00:00:00",
          "2012-01-18T00:00:00",
          "2012-01-19T00:00:00",
          "2012-01-20T00:00:00",
          "2012-01-21T00:00:00",
          "2012-01-22T00:00:00",
          "2012-01-23T00:00:00",
          "2012-01-24T00:00:00",
          "2012-01-25T00:00:00",
          "2012-01-26T00:00:00",
          "2012-01-27T00:00:00",
          "2012-01-28T00:00:00",
          "2012-01-29T00:00:00",
          "2012-01-30T00:00:00",
          "2012-01-31T00:00:00",
          "2012-02-01T00:00:00",
          "2012-02-02T00:00:00",
          "2012-02-03T00:00:00",
          "2012-02-04T00:00:00",
          "2012-02-05T00:00:00",
          "2012-02-06T00:00:00",
          "2012-02-07T00:00:00",
          "2012-02-08T00:00:00",
          "2012-02-09T00:00:00",
          "2012-02-10T00:00:00",
          "2012-02-11T00:00:00",
          "2012-02-12T00:00:00",
          "2012-02-13T00:00:00",
          "2012-02-14T00:00:00",
          "2012-02-15T00:00:00",
          "2012-02-16T00:00:00",
          "2012-02-17T00:00:00",
          "2012-02-18T00:00:00",
          "2012-02-19T00:00:00"
         ],
         "y": [
          398886.8620647979,
          343524.8289505601,
          233671.38830746224,
          134708.10913278593,
          94125.70353345874,
          135340.71166739715,
          197892.1063079241,
          220979.64137658975,
          186027.5091814562,
          152549.1297898735,
          153515.49181985672,
          181553.5692771431,
          203524.2671491601,
          199319.3309311518,
          183562.26943232637,
          179311.77407010386,
          208552.08471026507,
          216335.7177250948,
          197355.49689613536,
          168688.16084262752,
          156201.77752674618,
          176197.01757957877,
          204644.2715602153,
          212044.39644322157,
          200696.92173554204,
          190827.55988749408,
          195324.8893208078,
          200866.6729763914,
          202153.11751933402,
          192023.91175867952,
          184890.75889635435,
          188222.0622859081,
          199700.86810574625,
          196954.36486004692,
          189384.14971630758,
          192944.65561099144,
          207735.92628167427,
          207200.08296356973,
          195083.13546138338,
          183381.71522074266,
          199970.04973084282,
          250201.8061047488,
          310630.22426353215,
          329178.4673353504,
          309855.28136735753,
          285177.52695483045,
          277119.76513383613,
          304552.15296136733,
          343887.6645095513,
          364900.41008209856,
          384785.55318772094,
          405107.9390948215,
          412129.015523495,
          365395.57117991557,
          262688.9672280117,
          150243.99936845433,
          97738.48961198646,
          134015.73295790525,
          197213.12673686806,
          224188.76084235203,
          205460.8766979994,
          162335.9752069163,
          152382.2961586698,
          179542.2364325732,
          206486.48875853032,
          208429.77652080613,
          191170.6546555875,
          190502.5508866134,
          207620.78065997222,
          226640.98236118784,
          211692.283118018,
          179628.81129727355,
          167827.43902720214,
          178751.54932822654,
          209092.85759694374,
          219794.6608305655,
          209772.6626804351,
          199425.76780549568,
          198504.06544379186,
          209447.78140045042,
          209482.28716607622,
          196515.10226280396,
          188869.67738077624,
          192085.71846300678,
          203032.0798771427,
          206235.98259982018,
          197355.6589690303,
          198955.44486213182,
          209310.5671597707,
          219943.0042607848,
          206387.75782882082,
          188741.37735301018,
          200046.7623906183,
          243587.29857187183,
          306006.9398821124,
          339330.8974603234,
          325449.99637836736,
          290723.832247157,
          277970.1227135007,
          304317.210124893,
          341771.23522409686,
          370971.1364232904,
          390970.89515213587,
          415114.87599661486,
          419912.6881148714,
          384996.4347129069,
          371757.8193123415,
          364502.65858170885,
          351138.5150416817,
          336553.47921229067,
          322258.87517437147,
          308381.3824943994,
          293786.1029056517,
          273287.545383679,
          255923.81843201607,
          240099.09392748092,
          221938.37283825755,
          207254.85485517883,
          193097.367803253,
          175976.4107134714,
          166051.9405898692,
          144863.59250500455,
          139637.29827728533,
          124672.4125063683,
          121591.28298767944,
          117171.76104813306,
          111671.2522060042,
          108736.59112828792,
          110015.7309430262,
          111585.11514033926,
          106002.88495553458,
          115586.26237380976,
          123319.6117409041,
          129156.47392843921,
          136127.5054639504,
          145817.75515379405,
          154094.9930692592,
          159039.43944412074,
          175016.19237754884,
          179684.2206824569,
          190049.23207517047,
          201319.13766460778,
          208535.31950813954,
          213359.62836678038,
          220241.81879052494,
          225247.11019144606,
          228046.10209210354,
          233281.21765938352,
          230442.80064429136,
          233424.8465079693,
          231060.2720073771,
          227068.22227489215,
          221758.57495173096,
          220120.1030190478,
          211985.84675965222,
          208205.2756865772,
          201858.56279119677,
          198102.1693723176,
          190291.68761621762,
          183753.75133207947,
          182524.18176949126,
          174242.9659378911,
          167110.7300576087,
          163452.255734154,
          161413.32689071452,
          157087.21656005547,
          161076.74250619323,
          158244.583827284,
          157639.40941787156,
          159935.84700428147,
          161623.54008700832,
          164834.12867302363,
          168640.5479581682,
          170295.98235136154,
          178040.97024189617,
          178803.12781306362
         ]
        }
       ],
       "layout": {
        "height": 600,
        "showlegend": false,
        "template": {
         "data": {
          "bar": [
           {
            "error_x": {
             "color": "#2a3f5f"
            },
            "error_y": {
             "color": "#2a3f5f"
            },
            "marker": {
             "line": {
              "color": "#E5ECF6",
              "width": 0.5
             },
             "pattern": {
              "fillmode": "overlay",
              "size": 10,
              "solidity": 0.2
             }
            },
            "type": "bar"
           }
          ],
          "barpolar": [
           {
            "marker": {
             "line": {
              "color": "#E5ECF6",
              "width": 0.5
             },
             "pattern": {
              "fillmode": "overlay",
              "size": 10,
              "solidity": 0.2
             }
            },
            "type": "barpolar"
           }
          ],
          "carpet": [
           {
            "aaxis": {
             "endlinecolor": "#2a3f5f",
             "gridcolor": "white",
             "linecolor": "white",
             "minorgridcolor": "white",
             "startlinecolor": "#2a3f5f"
            },
            "baxis": {
             "endlinecolor": "#2a3f5f",
             "gridcolor": "white",
             "linecolor": "white",
             "minorgridcolor": "white",
             "startlinecolor": "#2a3f5f"
            },
            "type": "carpet"
           }
          ],
          "choropleth": [
           {
            "colorbar": {
             "outlinewidth": 0,
             "ticks": ""
            },
            "type": "choropleth"
           }
          ],
          "contour": [
           {
            "colorbar": {
             "outlinewidth": 0,
             "ticks": ""
            },
            "colorscale": [
             [
              0,
              "#0d0887"
             ],
             [
              0.1111111111111111,
              "#46039f"
             ],
             [
              0.2222222222222222,
              "#7201a8"
             ],
             [
              0.3333333333333333,
              "#9c179e"
             ],
             [
              0.4444444444444444,
              "#bd3786"
             ],
             [
              0.5555555555555556,
              "#d8576b"
             ],
             [
              0.6666666666666666,
              "#ed7953"
             ],
             [
              0.7777777777777778,
              "#fb9f3a"
             ],
             [
              0.8888888888888888,
              "#fdca26"
             ],
             [
              1,
              "#f0f921"
             ]
            ],
            "type": "contour"
           }
          ],
          "contourcarpet": [
           {
            "colorbar": {
             "outlinewidth": 0,
             "ticks": ""
            },
            "type": "contourcarpet"
           }
          ],
          "heatmap": [
           {
            "colorbar": {
             "outlinewidth": 0,
             "ticks": ""
            },
            "colorscale": [
             [
              0,
              "#0d0887"
             ],
             [
              0.1111111111111111,
              "#46039f"
             ],
             [
              0.2222222222222222,
              "#7201a8"
             ],
             [
              0.3333333333333333,
              "#9c179e"
             ],
             [
              0.4444444444444444,
              "#bd3786"
             ],
             [
              0.5555555555555556,
              "#d8576b"
             ],
             [
              0.6666666666666666,
              "#ed7953"
             ],
             [
              0.7777777777777778,
              "#fb9f3a"
             ],
             [
              0.8888888888888888,
              "#fdca26"
             ],
             [
              1,
              "#f0f921"
             ]
            ],
            "type": "heatmap"
           }
          ],
          "heatmapgl": [
           {
            "colorbar": {
             "outlinewidth": 0,
             "ticks": ""
            },
            "colorscale": [
             [
              0,
              "#0d0887"
             ],
             [
              0.1111111111111111,
              "#46039f"
             ],
             [
              0.2222222222222222,
              "#7201a8"
             ],
             [
              0.3333333333333333,
              "#9c179e"
             ],
             [
              0.4444444444444444,
              "#bd3786"
             ],
             [
              0.5555555555555556,
              "#d8576b"
             ],
             [
              0.6666666666666666,
              "#ed7953"
             ],
             [
              0.7777777777777778,
              "#fb9f3a"
             ],
             [
              0.8888888888888888,
              "#fdca26"
             ],
             [
              1,
              "#f0f921"
             ]
            ],
            "type": "heatmapgl"
           }
          ],
          "histogram": [
           {
            "marker": {
             "pattern": {
              "fillmode": "overlay",
              "size": 10,
              "solidity": 0.2
             }
            },
            "type": "histogram"
           }
          ],
          "histogram2d": [
           {
            "colorbar": {
             "outlinewidth": 0,
             "ticks": ""
            },
            "colorscale": [
             [
              0,
              "#0d0887"
             ],
             [
              0.1111111111111111,
              "#46039f"
             ],
             [
              0.2222222222222222,
              "#7201a8"
             ],
             [
              0.3333333333333333,
              "#9c179e"
             ],
             [
              0.4444444444444444,
              "#bd3786"
             ],
             [
              0.5555555555555556,
              "#d8576b"
             ],
             [
              0.6666666666666666,
              "#ed7953"
             ],
             [
              0.7777777777777778,
              "#fb9f3a"
             ],
             [
              0.8888888888888888,
              "#fdca26"
             ],
             [
              1,
              "#f0f921"
             ]
            ],
            "type": "histogram2d"
           }
          ],
          "histogram2dcontour": [
           {
            "colorbar": {
             "outlinewidth": 0,
             "ticks": ""
            },
            "colorscale": [
             [
              0,
              "#0d0887"
             ],
             [
              0.1111111111111111,
              "#46039f"
             ],
             [
              0.2222222222222222,
              "#7201a8"
             ],
             [
              0.3333333333333333,
              "#9c179e"
             ],
             [
              0.4444444444444444,
              "#bd3786"
             ],
             [
              0.5555555555555556,
              "#d8576b"
             ],
             [
              0.6666666666666666,
              "#ed7953"
             ],
             [
              0.7777777777777778,
              "#fb9f3a"
             ],
             [
              0.8888888888888888,
              "#fdca26"
             ],
             [
              1,
              "#f0f921"
             ]
            ],
            "type": "histogram2dcontour"
           }
          ],
          "mesh3d": [
           {
            "colorbar": {
             "outlinewidth": 0,
             "ticks": ""
            },
            "type": "mesh3d"
           }
          ],
          "parcoords": [
           {
            "line": {
             "colorbar": {
              "outlinewidth": 0,
              "ticks": ""
             }
            },
            "type": "parcoords"
           }
          ],
          "pie": [
           {
            "automargin": true,
            "type": "pie"
           }
          ],
          "scatter": [
           {
            "fillpattern": {
             "fillmode": "overlay",
             "size": 10,
             "solidity": 0.2
            },
            "type": "scatter"
           }
          ],
          "scatter3d": [
           {
            "line": {
             "colorbar": {
              "outlinewidth": 0,
              "ticks": ""
             }
            },
            "marker": {
             "colorbar": {
              "outlinewidth": 0,
              "ticks": ""
             }
            },
            "type": "scatter3d"
           }
          ],
          "scattercarpet": [
           {
            "marker": {
             "colorbar": {
              "outlinewidth": 0,
              "ticks": ""
             }
            },
            "type": "scattercarpet"
           }
          ],
          "scattergeo": [
           {
            "marker": {
             "colorbar": {
              "outlinewidth": 0,
              "ticks": ""
             }
            },
            "type": "scattergeo"
           }
          ],
          "scattergl": [
           {
            "marker": {
             "colorbar": {
              "outlinewidth": 0,
              "ticks": ""
             }
            },
            "type": "scattergl"
           }
          ],
          "scattermapbox": [
           {
            "marker": {
             "colorbar": {
              "outlinewidth": 0,
              "ticks": ""
             }
            },
            "type": "scattermapbox"
           }
          ],
          "scatterpolar": [
           {
            "marker": {
             "colorbar": {
              "outlinewidth": 0,
              "ticks": ""
             }
            },
            "type": "scatterpolar"
           }
          ],
          "scatterpolargl": [
           {
            "marker": {
             "colorbar": {
              "outlinewidth": 0,
              "ticks": ""
             }
            },
            "type": "scatterpolargl"
           }
          ],
          "scatterternary": [
           {
            "marker": {
             "colorbar": {
              "outlinewidth": 0,
              "ticks": ""
             }
            },
            "type": "scatterternary"
           }
          ],
          "surface": [
           {
            "colorbar": {
             "outlinewidth": 0,
             "ticks": ""
            },
            "colorscale": [
             [
              0,
              "#0d0887"
             ],
             [
              0.1111111111111111,
              "#46039f"
             ],
             [
              0.2222222222222222,
              "#7201a8"
             ],
             [
              0.3333333333333333,
              "#9c179e"
             ],
             [
              0.4444444444444444,
              "#bd3786"
             ],
             [
              0.5555555555555556,
              "#d8576b"
             ],
             [
              0.6666666666666666,
              "#ed7953"
             ],
             [
              0.7777777777777778,
              "#fb9f3a"
             ],
             [
              0.8888888888888888,
              "#fdca26"
             ],
             [
              1,
              "#f0f921"
             ]
            ],
            "type": "surface"
           }
          ],
          "table": [
           {
            "cells": {
             "fill": {
              "color": "#EBF0F8"
             },
             "line": {
              "color": "white"
             }
            },
            "header": {
             "fill": {
              "color": "#C8D4E3"
             },
             "line": {
              "color": "white"
             }
            },
            "type": "table"
           }
          ]
         },
         "layout": {
          "annotationdefaults": {
           "arrowcolor": "#2a3f5f",
           "arrowhead": 0,
           "arrowwidth": 1
          },
          "autotypenumbers": "strict",
          "coloraxis": {
           "colorbar": {
            "outlinewidth": 0,
            "ticks": ""
           }
          },
          "colorscale": {
           "diverging": [
            [
             0,
             "#8e0152"
            ],
            [
             0.1,
             "#c51b7d"
            ],
            [
             0.2,
             "#de77ae"
            ],
            [
             0.3,
             "#f1b6da"
            ],
            [
             0.4,
             "#fde0ef"
            ],
            [
             0.5,
             "#f7f7f7"
            ],
            [
             0.6,
             "#e6f5d0"
            ],
            [
             0.7,
             "#b8e186"
            ],
            [
             0.8,
             "#7fbc41"
            ],
            [
             0.9,
             "#4d9221"
            ],
            [
             1,
             "#276419"
            ]
           ],
           "sequential": [
            [
             0,
             "#0d0887"
            ],
            [
             0.1111111111111111,
             "#46039f"
            ],
            [
             0.2222222222222222,
             "#7201a8"
            ],
            [
             0.3333333333333333,
             "#9c179e"
            ],
            [
             0.4444444444444444,
             "#bd3786"
            ],
            [
             0.5555555555555556,
             "#d8576b"
            ],
            [
             0.6666666666666666,
             "#ed7953"
            ],
            [
             0.7777777777777778,
             "#fb9f3a"
            ],
            [
             0.8888888888888888,
             "#fdca26"
            ],
            [
             1,
             "#f0f921"
            ]
           ],
           "sequentialminus": [
            [
             0,
             "#0d0887"
            ],
            [
             0.1111111111111111,
             "#46039f"
            ],
            [
             0.2222222222222222,
             "#7201a8"
            ],
            [
             0.3333333333333333,
             "#9c179e"
            ],
            [
             0.4444444444444444,
             "#bd3786"
            ],
            [
             0.5555555555555556,
             "#d8576b"
            ],
            [
             0.6666666666666666,
             "#ed7953"
            ],
            [
             0.7777777777777778,
             "#fb9f3a"
            ],
            [
             0.8888888888888888,
             "#fdca26"
            ],
            [
             1,
             "#f0f921"
            ]
           ]
          },
          "colorway": [
           "#636efa",
           "#EF553B",
           "#00cc96",
           "#ab63fa",
           "#FFA15A",
           "#19d3f3",
           "#FF6692",
           "#B6E880",
           "#FF97FF",
           "#FECB52"
          ],
          "font": {
           "color": "#2a3f5f"
          },
          "geo": {
           "bgcolor": "white",
           "lakecolor": "white",
           "landcolor": "#E5ECF6",
           "showlakes": true,
           "showland": true,
           "subunitcolor": "white"
          },
          "hoverlabel": {
           "align": "left"
          },
          "hovermode": "closest",
          "mapbox": {
           "style": "light"
          },
          "paper_bgcolor": "white",
          "plot_bgcolor": "#E5ECF6",
          "polar": {
           "angularaxis": {
            "gridcolor": "white",
            "linecolor": "white",
            "ticks": ""
           },
           "bgcolor": "#E5ECF6",
           "radialaxis": {
            "gridcolor": "white",
            "linecolor": "white",
            "ticks": ""
           }
          },
          "scene": {
           "xaxis": {
            "backgroundcolor": "#E5ECF6",
            "gridcolor": "white",
            "gridwidth": 2,
            "linecolor": "white",
            "showbackground": true,
            "ticks": "",
            "zerolinecolor": "white"
           },
           "yaxis": {
            "backgroundcolor": "#E5ECF6",
            "gridcolor": "white",
            "gridwidth": 2,
            "linecolor": "white",
            "showbackground": true,
            "ticks": "",
            "zerolinecolor": "white"
           },
           "zaxis": {
            "backgroundcolor": "#E5ECF6",
            "gridcolor": "white",
            "gridwidth": 2,
            "linecolor": "white",
            "showbackground": true,
            "ticks": "",
            "zerolinecolor": "white"
           }
          },
          "shapedefaults": {
           "line": {
            "color": "#2a3f5f"
           }
          },
          "ternary": {
           "aaxis": {
            "gridcolor": "white",
            "linecolor": "white",
            "ticks": ""
           },
           "baxis": {
            "gridcolor": "white",
            "linecolor": "white",
            "ticks": ""
           },
           "bgcolor": "#E5ECF6",
           "caxis": {
            "gridcolor": "white",
            "linecolor": "white",
            "ticks": ""
           }
          },
          "title": {
           "x": 0.05
          },
          "xaxis": {
           "automargin": true,
           "gridcolor": "white",
           "linecolor": "white",
           "ticks": "",
           "title": {
            "standoff": 15
           },
           "zerolinecolor": "white",
           "zerolinewidth": 2
          },
          "yaxis": {
           "automargin": true,
           "gridcolor": "white",
           "linecolor": "white",
           "ticks": "",
           "title": {
            "standoff": 15
           },
           "zerolinecolor": "white",
           "zerolinewidth": 2
          }
         }
        },
        "width": 900,
        "xaxis": {
         "rangeselector": {
          "buttons": [
           {
            "count": 7,
            "label": "1w",
            "step": "day",
            "stepmode": "backward"
           },
           {
            "count": 1,
            "label": "1m",
            "step": "month",
            "stepmode": "backward"
           },
           {
            "count": 6,
            "label": "6m",
            "step": "month",
            "stepmode": "backward"
           },
           {
            "count": 1,
            "label": "1y",
            "step": "year",
            "stepmode": "backward"
           },
           {
            "step": "all"
           }
          ]
         },
         "rangeslider": {
          "visible": true
         },
         "title": {
          "text": "ds"
         },
         "type": "date"
        },
        "yaxis": {
         "title": {
          "text": "y"
         }
        }
       }
      },
      "text/html": [
       "<div>                            <div id=\"2c04812b-4557-413b-a616-f04f5c9e8579\" class=\"plotly-graph-div\" style=\"height:600px; width:900px;\"></div>            <script type=\"text/javascript\">                require([\"plotly\"], function(Plotly) {                    window.PLOTLYENV=window.PLOTLYENV || {};                                    if (document.getElementById(\"2c04812b-4557-413b-a616-f04f5c9e8579\")) {                    Plotly.newPlot(                        \"2c04812b-4557-413b-a616-f04f5c9e8579\",                        [{\"marker\":{\"color\":\"black\",\"size\":4},\"mode\":\"markers\",\"name\":\"Actual\",\"x\":[\"2009-12-06T00:00:00\",\"2009-12-13T00:00:00\",\"2009-12-20T00:00:00\",\"2009-12-27T00:00:00\",\"2010-01-03T00:00:00\",\"2010-01-10T00:00:00\",\"2010-01-17T00:00:00\",\"2010-01-24T00:00:00\",\"2010-01-31T00:00:00\",\"2010-02-07T00:00:00\",\"2010-02-14T00:00:00\",\"2010-02-21T00:00:00\",\"2010-02-28T00:00:00\",\"2010-03-07T00:00:00\",\"2010-03-14T00:00:00\",\"2010-03-21T00:00:00\",\"2010-03-28T00:00:00\",\"2010-04-04T00:00:00\",\"2010-04-11T00:00:00\",\"2010-04-18T00:00:00\",\"2010-04-25T00:00:00\",\"2010-05-02T00:00:00\",\"2010-05-09T00:00:00\",\"2010-05-16T00:00:00\",\"2010-05-23T00:00:00\",\"2010-05-30T00:00:00\",\"2010-06-06T00:00:00\",\"2010-06-13T00:00:00\",\"2010-06-20T00:00:00\",\"2010-06-27T00:00:00\",\"2010-07-04T00:00:00\",\"2010-07-11T00:00:00\",\"2010-07-18T00:00:00\",\"2010-07-25T00:00:00\",\"2010-08-01T00:00:00\",\"2010-08-08T00:00:00\",\"2010-08-15T00:00:00\",\"2010-08-22T00:00:00\",\"2010-08-29T00:00:00\",\"2010-09-05T00:00:00\",\"2010-09-12T00:00:00\",\"2010-09-19T00:00:00\",\"2010-09-26T00:00:00\",\"2010-10-03T00:00:00\",\"2010-10-10T00:00:00\",\"2010-10-17T00:00:00\",\"2010-10-24T00:00:00\",\"2010-10-31T00:00:00\",\"2010-11-07T00:00:00\",\"2010-11-14T00:00:00\",\"2010-11-21T00:00:00\",\"2010-11-28T00:00:00\",\"2010-12-05T00:00:00\",\"2010-12-12T00:00:00\",\"2010-12-19T00:00:00\",\"2010-12-26T00:00:00\",\"2011-01-02T00:00:00\",\"2011-01-09T00:00:00\",\"2011-01-16T00:00:00\",\"2011-01-23T00:00:00\",\"2011-01-30T00:00:00\",\"2011-02-06T00:00:00\",\"2011-02-13T00:00:00\",\"2011-02-20T00:00:00\",\"2011-02-27T00:00:00\",\"2011-03-06T00:00:00\",\"2011-03-13T00:00:00\",\"2011-03-20T00:00:00\",\"2011-03-27T00:00:00\",\"2011-04-03T00:00:00\",\"2011-04-10T00:00:00\",\"2011-04-17T00:00:00\",\"2011-04-24T00:00:00\",\"2011-05-01T00:00:00\",\"2011-05-08T00:00:00\",\"2011-05-15T00:00:00\",\"2011-05-22T00:00:00\",\"2011-05-29T00:00:00\",\"2011-06-05T00:00:00\",\"2011-06-12T00:00:00\",\"2011-06-19T00:00:00\",\"2011-06-26T00:00:00\",\"2011-07-03T00:00:00\",\"2011-07-10T00:00:00\",\"2011-07-17T00:00:00\",\"2011-07-24T00:00:00\",\"2011-07-31T00:00:00\",\"2011-08-07T00:00:00\",\"2011-08-14T00:00:00\",\"2011-08-21T00:00:00\",\"2011-08-28T00:00:00\",\"2011-09-04T00:00:00\",\"2011-09-11T00:00:00\",\"2011-09-18T00:00:00\",\"2011-09-25T00:00:00\",\"2011-10-02T00:00:00\",\"2011-10-09T00:00:00\",\"2011-10-16T00:00:00\",\"2011-10-23T00:00:00\",\"2011-10-30T00:00:00\",\"2011-11-06T00:00:00\",\"2011-11-13T00:00:00\",\"2011-11-20T00:00:00\",\"2011-11-27T00:00:00\",\"2011-12-04T00:00:00\",\"2011-12-11T00:00:00\"],\"y\":[258496.32,232310.1,256240.2,52800.49,0.0,166393.59,156990.91,148777.541,151870.851,121861.342,88736.98,165420.432,157072.672,164064.29,138325.73,165942.921,171343.29,156420.07,137360.23,138322.801,164428.6,132255.141,158629.13,148891.42,144621.5,151146.9,105543.28,204892.33,134026.88,124024.91,168380.11,146010.43,148730.48,100920.97,152918.08,127134.27,172582.52,168315.72,124716.09,140037.36,129651.52,163820.581,238385.53,291652.13,257386.97,309080.93,195850.02,206556.98,279382.87,362717.611,351931.091,294028.02,498289.55,465928.23,207052.17,89770.57,0.0,93720.93000000001,190994.96,133782.91,119136.81,123642.18,102296.93,139664.58,133069.93,130435.56,129180.96,145262.61000000002,147909.8,183501.71,121598.22,147459.771,115461.25,84382.66,130354.31,205445.23,198031.53,160569.82,116932.52,177916.87,184016.5,117086.71,136287.44,174659.17,124163.17,182513.96,180814.851,153176.2,161417.02,170724.89,149603.5,143819.06,190513.47,211722.62,326156.721,206858.231,302466.59,205734.64,263762.22,238642.19,288266.77,346560.14,380407.57,308185.02,319874.99,300623.22],\"type\":\"scatter\"},{\"hoverinfo\":\"skip\",\"line\":{\"width\":0},\"mode\":\"lines\",\"x\":[\"2009-12-06T00:00:00\",\"2009-12-13T00:00:00\",\"2009-12-20T00:00:00\",\"2009-12-27T00:00:00\",\"2010-01-03T00:00:00\",\"2010-01-10T00:00:00\",\"2010-01-17T00:00:00\",\"2010-01-24T00:00:00\",\"2010-01-31T00:00:00\",\"2010-02-07T00:00:00\",\"2010-02-14T00:00:00\",\"2010-02-21T00:00:00\",\"2010-02-28T00:00:00\",\"2010-03-07T00:00:00\",\"2010-03-14T00:00:00\",\"2010-03-21T00:00:00\",\"2010-03-28T00:00:00\",\"2010-04-04T00:00:00\",\"2010-04-11T00:00:00\",\"2010-04-18T00:00:00\",\"2010-04-25T00:00:00\",\"2010-05-02T00:00:00\",\"2010-05-09T00:00:00\",\"2010-05-16T00:00:00\",\"2010-05-23T00:00:00\",\"2010-05-30T00:00:00\",\"2010-06-06T00:00:00\",\"2010-06-13T00:00:00\",\"2010-06-20T00:00:00\",\"2010-06-27T00:00:00\",\"2010-07-04T00:00:00\",\"2010-07-11T00:00:00\",\"2010-07-18T00:00:00\",\"2010-07-25T00:00:00\",\"2010-08-01T00:00:00\",\"2010-08-08T00:00:00\",\"2010-08-15T00:00:00\",\"2010-08-22T00:00:00\",\"2010-08-29T00:00:00\",\"2010-09-05T00:00:00\",\"2010-09-12T00:00:00\",\"2010-09-19T00:00:00\",\"2010-09-26T00:00:00\",\"2010-10-03T00:00:00\",\"2010-10-10T00:00:00\",\"2010-10-17T00:00:00\",\"2010-10-24T00:00:00\",\"2010-10-31T00:00:00\",\"2010-11-07T00:00:00\",\"2010-11-14T00:00:00\",\"2010-11-21T00:00:00\",\"2010-11-28T00:00:00\",\"2010-12-05T00:00:00\",\"2010-12-12T00:00:00\",\"2010-12-19T00:00:00\",\"2010-12-26T00:00:00\",\"2011-01-02T00:00:00\",\"2011-01-09T00:00:00\",\"2011-01-16T00:00:00\",\"2011-01-23T00:00:00\",\"2011-01-30T00:00:00\",\"2011-02-06T00:00:00\",\"2011-02-13T00:00:00\",\"2011-02-20T00:00:00\",\"2011-02-27T00:00:00\",\"2011-03-06T00:00:00\",\"2011-03-13T00:00:00\",\"2011-03-20T00:00:00\",\"2011-03-27T00:00:00\",\"2011-04-03T00:00:00\",\"2011-04-10T00:00:00\",\"2011-04-17T00:00:00\",\"2011-04-24T00:00:00\",\"2011-05-01T00:00:00\",\"2011-05-08T00:00:00\",\"2011-05-15T00:00:00\",\"2011-05-22T00:00:00\",\"2011-05-29T00:00:00\",\"2011-06-05T00:00:00\",\"2011-06-12T00:00:00\",\"2011-06-19T00:00:00\",\"2011-06-26T00:00:00\",\"2011-07-03T00:00:00\",\"2011-07-10T00:00:00\",\"2011-07-17T00:00:00\",\"2011-07-24T00:00:00\",\"2011-07-31T00:00:00\",\"2011-08-07T00:00:00\",\"2011-08-14T00:00:00\",\"2011-08-21T00:00:00\",\"2011-08-28T00:00:00\",\"2011-09-04T00:00:00\",\"2011-09-11T00:00:00\",\"2011-09-18T00:00:00\",\"2011-09-25T00:00:00\",\"2011-10-02T00:00:00\",\"2011-10-09T00:00:00\",\"2011-10-16T00:00:00\",\"2011-10-23T00:00:00\",\"2011-10-30T00:00:00\",\"2011-11-06T00:00:00\",\"2011-11-13T00:00:00\",\"2011-11-20T00:00:00\",\"2011-11-27T00:00:00\",\"2011-12-04T00:00:00\",\"2011-12-11T00:00:00\",\"2011-12-12T00:00:00\",\"2011-12-13T00:00:00\",\"2011-12-14T00:00:00\",\"2011-12-15T00:00:00\",\"2011-12-16T00:00:00\",\"2011-12-17T00:00:00\",\"2011-12-18T00:00:00\",\"2011-12-19T00:00:00\",\"2011-12-20T00:00:00\",\"2011-12-21T00:00:00\",\"2011-12-22T00:00:00\",\"2011-12-23T00:00:00\",\"2011-12-24T00:00:00\",\"2011-12-25T00:00:00\",\"2011-12-26T00:00:00\",\"2011-12-27T00:00:00\",\"2011-12-28T00:00:00\",\"2011-12-29T00:00:00\",\"2011-12-30T00:00:00\",\"2011-12-31T00:00:00\",\"2012-01-01T00:00:00\",\"2012-01-02T00:00:00\",\"2012-01-03T00:00:00\",\"2012-01-04T00:00:00\",\"2012-01-05T00:00:00\",\"2012-01-06T00:00:00\",\"2012-01-07T00:00:00\",\"2012-01-08T00:00:00\",\"2012-01-09T00:00:00\",\"2012-01-10T00:00:00\",\"2012-01-11T00:00:00\",\"2012-01-12T00:00:00\",\"2012-01-13T00:00:00\",\"2012-01-14T00:00:00\",\"2012-01-15T00:00:00\",\"2012-01-16T00:00:00\",\"2012-01-17T00:00:00\",\"2012-01-18T00:00:00\",\"2012-01-19T00:00:00\",\"2012-01-20T00:00:00\",\"2012-01-21T00:00:00\",\"2012-01-22T00:00:00\",\"2012-01-23T00:00:00\",\"2012-01-24T00:00:00\",\"2012-01-25T00:00:00\",\"2012-01-26T00:00:00\",\"2012-01-27T00:00:00\",\"2012-01-28T00:00:00\",\"2012-01-29T00:00:00\",\"2012-01-30T00:00:00\",\"2012-01-31T00:00:00\",\"2012-02-01T00:00:00\",\"2012-02-02T00:00:00\",\"2012-02-03T00:00:00\",\"2012-02-04T00:00:00\",\"2012-02-05T00:00:00\",\"2012-02-06T00:00:00\",\"2012-02-07T00:00:00\",\"2012-02-08T00:00:00\",\"2012-02-09T00:00:00\",\"2012-02-10T00:00:00\",\"2012-02-11T00:00:00\",\"2012-02-12T00:00:00\",\"2012-02-13T00:00:00\",\"2012-02-14T00:00:00\",\"2012-02-15T00:00:00\",\"2012-02-16T00:00:00\",\"2012-02-17T00:00:00\",\"2012-02-18T00:00:00\",\"2012-02-19T00:00:00\"],\"y\":[304195.84736343444,243551.6753594935,134952.8139767896,33501.175969083124,-414.63602950890595,39245.08004254449,99712.60132508582,121879.62392435879,91725.59636406884,53485.89802646115,56608.87667533512,83229.76745397958,107676.34903003537,105450.56903539933,85326.15823907942,91729.80377220002,109774.50708826908,116199.33067853325,96910.74745468373,74409.99514826653,62078.38396906001,81219.32589282018,110860.98414670683,117495.27002879429,101080.83024421941,96113.82632727212,97435.45927922819,103153.57652411879,103948.42139875617,91502.0251513151,87647.03979232468,89142.66446362095,103382.07276172024,102366.71625127735,94955.96777726136,98463.42485835147,105472.05575971694,112060.86323763132,102014.43615554972,87794.91539689247,99140.06884947613,154960.8935527388,210173.1487863992,233419.94551575027,212679.9424660866,184916.71512213346,179312.3610255812,206349.22563735305,246325.58603408062,271348.13442452275,286196.3199922504,309675.02113549394,313319.51278709027,266146.9434652083,162994.28743072602,54781.43719369251,6529.61676088867,36323.439865814566,98741.45089855696,125482.4611836418,103517.07858097051,65120.29949020917,53865.69039750121,84006.4880987485,108396.19675561506,112759.66896487547,95098.06611569223,92464.06645807449,108724.46494428358,125352.52507057415,110926.01549410804,83795.05800755054,67730.20034126476,78254.23919752512,111088.26089797064,120964.18988676614,117416.188021472,100661.02165016292,100717.28549314008,112023.54611631311,115083.28075746854,102980.36397829349,90402.94049420457,98875.90273139374,105798.49227329281,106496.99163006377,103933.12202372518,104274.11709682865,113766.80987951711,119449.9457622013,108883.44393822693,96118.89807931076,99370.01036747472,148476.29225400474,205566.61667353497,239377.5712571299,223095.08721266195,192306.0091168616,182882.75680899833,203080.02594216485,243048.6658621498,269934.90107261034,294920.2139960018,312520.25386081234,323302.1375679708,287832.3881415888,278141.3129843757,267665.43246325647,253893.70423904847,236025.4221243921,222411.41725802232,206017.05331241814,189145.96395380588,174271.47543598854,162908.0679302541,144232.62276958697,127688.47769686871,108257.7855444857,93303.9814967143,80026.18967211367,63492.232576879025,51697.1731038679,41004.96005226849,30804.418178044372,22739.036859333315,17230.49196199218,14955.727157733767,8424.425210316811,10622.112465659018,11020.191043291225,10833.718785071022,20181.368822941313,25455.534411968667,32791.94924669862,37553.41583157546,49068.93674819556,58305.99759081175,67561.77202970964,70460.89705593472,87045.69989204344,94068.19904662322,103475.17329208604,110064.00987279414,118448.48546913471,122917.76531986737,125298.72233309872,133175.03920320937,133672.0149687034,134360.22630508678,131689.8631048796,135448.9324532515,127406.25846338423,124938.11902135206,120982.87710254984,117274.4450869972,109833.48705834216,105866.69927723936,98674.26145487091,92258.58500412051,87799.95750632572,82681.22786149927,76626.87669296064,70622.88829816294,67212.95934315877,65071.90223316431,59142.641087836,64113.788953733834,60774.337118065705,60523.33428740172,60875.42910210019,63655.74421296299,66769.89228530096,69527.31176730766,69912.41807987566,79607.62091158393,83608.93151799048],\"type\":\"scatter\"},{\"fill\":\"tonexty\",\"fillcolor\":\"rgba(0, 114, 178, 0.2)\",\"line\":{\"color\":\"#0072B2\",\"width\":2},\"mode\":\"lines\",\"name\":\"Predicted\",\"x\":[\"2009-12-06T00:00:00\",\"2009-12-13T00:00:00\",\"2009-12-20T00:00:00\",\"2009-12-27T00:00:00\",\"2010-01-03T00:00:00\",\"2010-01-10T00:00:00\",\"2010-01-17T00:00:00\",\"2010-01-24T00:00:00\",\"2010-01-31T00:00:00\",\"2010-02-07T00:00:00\",\"2010-02-14T00:00:00\",\"2010-02-21T00:00:00\",\"2010-02-28T00:00:00\",\"2010-03-07T00:00:00\",\"2010-03-14T00:00:00\",\"2010-03-21T00:00:00\",\"2010-03-28T00:00:00\",\"2010-04-04T00:00:00\",\"2010-04-11T00:00:00\",\"2010-04-18T00:00:00\",\"2010-04-25T00:00:00\",\"2010-05-02T00:00:00\",\"2010-05-09T00:00:00\",\"2010-05-16T00:00:00\",\"2010-05-23T00:00:00\",\"2010-05-30T00:00:00\",\"2010-06-06T00:00:00\",\"2010-06-13T00:00:00\",\"2010-06-20T00:00:00\",\"2010-06-27T00:00:00\",\"2010-07-04T00:00:00\",\"2010-07-11T00:00:00\",\"2010-07-18T00:00:00\",\"2010-07-25T00:00:00\",\"2010-08-01T00:00:00\",\"2010-08-08T00:00:00\",\"2010-08-15T00:00:00\",\"2010-08-22T00:00:00\",\"2010-08-29T00:00:00\",\"2010-09-05T00:00:00\",\"2010-09-12T00:00:00\",\"2010-09-19T00:00:00\",\"2010-09-26T00:00:00\",\"2010-10-03T00:00:00\",\"2010-10-10T00:00:00\",\"2010-10-17T00:00:00\",\"2010-10-24T00:00:00\",\"2010-10-31T00:00:00\",\"2010-11-07T00:00:00\",\"2010-11-14T00:00:00\",\"2010-11-21T00:00:00\",\"2010-11-28T00:00:00\",\"2010-12-05T00:00:00\",\"2010-12-12T00:00:00\",\"2010-12-19T00:00:00\",\"2010-12-26T00:00:00\",\"2011-01-02T00:00:00\",\"2011-01-09T00:00:00\",\"2011-01-16T00:00:00\",\"2011-01-23T00:00:00\",\"2011-01-30T00:00:00\",\"2011-02-06T00:00:00\",\"2011-02-13T00:00:00\",\"2011-02-20T00:00:00\",\"2011-02-27T00:00:00\",\"2011-03-06T00:00:00\",\"2011-03-13T00:00:00\",\"2011-03-20T00:00:00\",\"2011-03-27T00:00:00\",\"2011-04-03T00:00:00\",\"2011-04-10T00:00:00\",\"2011-04-17T00:00:00\",\"2011-04-24T00:00:00\",\"2011-05-01T00:00:00\",\"2011-05-08T00:00:00\",\"2011-05-15T00:00:00\",\"2011-05-22T00:00:00\",\"2011-05-29T00:00:00\",\"2011-06-05T00:00:00\",\"2011-06-12T00:00:00\",\"2011-06-19T00:00:00\",\"2011-06-26T00:00:00\",\"2011-07-03T00:00:00\",\"2011-07-10T00:00:00\",\"2011-07-17T00:00:00\",\"2011-07-24T00:00:00\",\"2011-07-31T00:00:00\",\"2011-08-07T00:00:00\",\"2011-08-14T00:00:00\",\"2011-08-21T00:00:00\",\"2011-08-28T00:00:00\",\"2011-09-04T00:00:00\",\"2011-09-11T00:00:00\",\"2011-09-18T00:00:00\",\"2011-09-25T00:00:00\",\"2011-10-02T00:00:00\",\"2011-10-09T00:00:00\",\"2011-10-16T00:00:00\",\"2011-10-23T00:00:00\",\"2011-10-30T00:00:00\",\"2011-11-06T00:00:00\",\"2011-11-13T00:00:00\",\"2011-11-20T00:00:00\",\"2011-11-27T00:00:00\",\"2011-12-04T00:00:00\",\"2011-12-11T00:00:00\",\"2011-12-12T00:00:00\",\"2011-12-13T00:00:00\",\"2011-12-14T00:00:00\",\"2011-12-15T00:00:00\",\"2011-12-16T00:00:00\",\"2011-12-17T00:00:00\",\"2011-12-18T00:00:00\",\"2011-12-19T00:00:00\",\"2011-12-20T00:00:00\",\"2011-12-21T00:00:00\",\"2011-12-22T00:00:00\",\"2011-12-23T00:00:00\",\"2011-12-24T00:00:00\",\"2011-12-25T00:00:00\",\"2011-12-26T00:00:00\",\"2011-12-27T00:00:00\",\"2011-12-28T00:00:00\",\"2011-12-29T00:00:00\",\"2011-12-30T00:00:00\",\"2011-12-31T00:00:00\",\"2012-01-01T00:00:00\",\"2012-01-02T00:00:00\",\"2012-01-03T00:00:00\",\"2012-01-04T00:00:00\",\"2012-01-05T00:00:00\",\"2012-01-06T00:00:00\",\"2012-01-07T00:00:00\",\"2012-01-08T00:00:00\",\"2012-01-09T00:00:00\",\"2012-01-10T00:00:00\",\"2012-01-11T00:00:00\",\"2012-01-12T00:00:00\",\"2012-01-13T00:00:00\",\"2012-01-14T00:00:00\",\"2012-01-15T00:00:00\",\"2012-01-16T00:00:00\",\"2012-01-17T00:00:00\",\"2012-01-18T00:00:00\",\"2012-01-19T00:00:00\",\"2012-01-20T00:00:00\",\"2012-01-21T00:00:00\",\"2012-01-22T00:00:00\",\"2012-01-23T00:00:00\",\"2012-01-24T00:00:00\",\"2012-01-25T00:00:00\",\"2012-01-26T00:00:00\",\"2012-01-27T00:00:00\",\"2012-01-28T00:00:00\",\"2012-01-29T00:00:00\",\"2012-01-30T00:00:00\",\"2012-01-31T00:00:00\",\"2012-02-01T00:00:00\",\"2012-02-02T00:00:00\",\"2012-02-03T00:00:00\",\"2012-02-04T00:00:00\",\"2012-02-05T00:00:00\",\"2012-02-06T00:00:00\",\"2012-02-07T00:00:00\",\"2012-02-08T00:00:00\",\"2012-02-09T00:00:00\",\"2012-02-10T00:00:00\",\"2012-02-11T00:00:00\",\"2012-02-12T00:00:00\",\"2012-02-13T00:00:00\",\"2012-02-14T00:00:00\",\"2012-02-15T00:00:00\",\"2012-02-16T00:00:00\",\"2012-02-17T00:00:00\",\"2012-02-18T00:00:00\",\"2012-02-19T00:00:00\"],\"y\":[352239.46673265146,295402.6419837669,187009.34753400725,82872.58848088846,46516.46174089883,87027.16233484441,149165.3679834212,169710.83269350082,139080.8860271512,101910.17105222428,100950.17625353656,131408.2233754033,155037.02671809864,150107.95113080286,134316.642479125,136431.2423375164,156894.31800340512,167853.37529603057,150435.80291545158,120386.70504896477,109926.75533470343,129588.68635628335,157373.16060087123,166463.2882053186,155249.80323275906,143943.54985773336,146285.62429686115,154289.32611180493,153063.7467179743,142489.79893452415,136206.41326867748,141499.8041773174,149513.31451379182,149183.13569158083,144015.7109103553,146567.1121656946,157742.88206258425,161869.02280763866,148671.2373580786,134276.3922382799,149042.9608367166,201063.3001540793,259452.66774972872,282449.4341561382,261380.05723667354,229646.26882328885,225991.01218572212,255519.37192494445,292866.56966828275,318239.1203225532,336907.2529582165,357522.1028026149,362309.11680163094,316640.73538994783,214599.55536924707,104343.28095757266,53074.852463263785,82512.32903545635,146203.3338226782,176879.99481391266,153123.36469176077,113064.07121780592,104432.1355036457,131739.6911877199,159264.89481600953,159150.27939649287,142882.6931606243,140647.01537429256,159441.95397293643,174291.65544522877,161800.57377010537,131595.0993006319,115839.54031876817,130998.5423850556,159675.31181854036,173135.08061370483,164370.20479094834,151512.4660211963,151420.95819113156,159654.59019288112,160670.21004988503,150937.30524437458,142902.42783910208,146380.71030766534,154950.86472502426,156359.34598634625,151133.82699485132,151669.50416772784,162145.90171212188,168835.71216339924,158381.36668458118,141943.05182831938,149807.80099941423,196441.90710776253,257078.10089656216,288409.9592372108,273683.2260442201,240505.2725970975,230237.17931699322,255224.3459939098,293273.6646173718,321046.5933551935,339874.9053667698,360505.20329911367,370679.6775836445,335908.3550566979,325803.09101316176,314425.68427827617,301846.607499199,288163.77656237176,273501.55962987035,258009.07427757632,241857.80051619073,225238.55674299406,208357.90388102815,191434.05959852095,174692.4190793941,158360.79091305513,142664.46592784737,127821.24292322036,114036.53807070221,101498.70414231252,90374.68168145476,80806.09684173882,72905.91006258038,66755.70629791233,62403.701515003195,59863.52206112529,59113.79373770511,60098.55655913436,62728.49976983928,66882.99033051424,72412.84734485587,79143.79534844031,86880.5115574606,95411.16656471774,104512.3450051355,113954.22274649466,123505.87047131949,132940.5502853172,142040.87230730534,150603.68205686656,158444.55675332007,165401.79917430383,171339.8312030047,176151.90525218868,179762.06994951318,182126.3463022898,183233.09149010852,183102.54888673386,181785.60430360414,179361.78919431407,175936.59109998113,171638.14942085158,166613.43019257204,161023.9865112699,155041.42124674545,148842.67545361805,142605.26926487542,136502.62196264698,130699.57438707098,125348.22998887741,120584.2208635371,116523.49232110496,113259.68432049628,110862.17086773313,109374.79973661997,108815.35514988955,109175.74591324797,110422.90148788512,112500.33917550374,115330.34750519125,118816.71454995766,122847.91570335734,127300.66379355417,132043.71560687013],\"type\":\"scatter\"},{\"fill\":\"tonexty\",\"fillcolor\":\"rgba(0, 114, 178, 0.2)\",\"hoverinfo\":\"skip\",\"line\":{\"width\":0},\"mode\":\"lines\",\"x\":[\"2009-12-06T00:00:00\",\"2009-12-13T00:00:00\",\"2009-12-20T00:00:00\",\"2009-12-27T00:00:00\",\"2010-01-03T00:00:00\",\"2010-01-10T00:00:00\",\"2010-01-17T00:00:00\",\"2010-01-24T00:00:00\",\"2010-01-31T00:00:00\",\"2010-02-07T00:00:00\",\"2010-02-14T00:00:00\",\"2010-02-21T00:00:00\",\"2010-02-28T00:00:00\",\"2010-03-07T00:00:00\",\"2010-03-14T00:00:00\",\"2010-03-21T00:00:00\",\"2010-03-28T00:00:00\",\"2010-04-04T00:00:00\",\"2010-04-11T00:00:00\",\"2010-04-18T00:00:00\",\"2010-04-25T00:00:00\",\"2010-05-02T00:00:00\",\"2010-05-09T00:00:00\",\"2010-05-16T00:00:00\",\"2010-05-23T00:00:00\",\"2010-05-30T00:00:00\",\"2010-06-06T00:00:00\",\"2010-06-13T00:00:00\",\"2010-06-20T00:00:00\",\"2010-06-27T00:00:00\",\"2010-07-04T00:00:00\",\"2010-07-11T00:00:00\",\"2010-07-18T00:00:00\",\"2010-07-25T00:00:00\",\"2010-08-01T00:00:00\",\"2010-08-08T00:00:00\",\"2010-08-15T00:00:00\",\"2010-08-22T00:00:00\",\"2010-08-29T00:00:00\",\"2010-09-05T00:00:00\",\"2010-09-12T00:00:00\",\"2010-09-19T00:00:00\",\"2010-09-26T00:00:00\",\"2010-10-03T00:00:00\",\"2010-10-10T00:00:00\",\"2010-10-17T00:00:00\",\"2010-10-24T00:00:00\",\"2010-10-31T00:00:00\",\"2010-11-07T00:00:00\",\"2010-11-14T00:00:00\",\"2010-11-21T00:00:00\",\"2010-11-28T00:00:00\",\"2010-12-05T00:00:00\",\"2010-12-12T00:00:00\",\"2010-12-19T00:00:00\",\"2010-12-26T00:00:00\",\"2011-01-02T00:00:00\",\"2011-01-09T00:00:00\",\"2011-01-16T00:00:00\",\"2011-01-23T00:00:00\",\"2011-01-30T00:00:00\",\"2011-02-06T00:00:00\",\"2011-02-13T00:00:00\",\"2011-02-20T00:00:00\",\"2011-02-27T00:00:00\",\"2011-03-06T00:00:00\",\"2011-03-13T00:00:00\",\"2011-03-20T00:00:00\",\"2011-03-27T00:00:00\",\"2011-04-03T00:00:00\",\"2011-04-10T00:00:00\",\"2011-04-17T00:00:00\",\"2011-04-24T00:00:00\",\"2011-05-01T00:00:00\",\"2011-05-08T00:00:00\",\"2011-05-15T00:00:00\",\"2011-05-22T00:00:00\",\"2011-05-29T00:00:00\",\"2011-06-05T00:00:00\",\"2011-06-12T00:00:00\",\"2011-06-19T00:00:00\",\"2011-06-26T00:00:00\",\"2011-07-03T00:00:00\",\"2011-07-10T00:00:00\",\"2011-07-17T00:00:00\",\"2011-07-24T00:00:00\",\"2011-07-31T00:00:00\",\"2011-08-07T00:00:00\",\"2011-08-14T00:00:00\",\"2011-08-21T00:00:00\",\"2011-08-28T00:00:00\",\"2011-09-04T00:00:00\",\"2011-09-11T00:00:00\",\"2011-09-18T00:00:00\",\"2011-09-25T00:00:00\",\"2011-10-02T00:00:00\",\"2011-10-09T00:00:00\",\"2011-10-16T00:00:00\",\"2011-10-23T00:00:00\",\"2011-10-30T00:00:00\",\"2011-11-06T00:00:00\",\"2011-11-13T00:00:00\",\"2011-11-20T00:00:00\",\"2011-11-27T00:00:00\",\"2011-12-04T00:00:00\",\"2011-12-11T00:00:00\",\"2011-12-12T00:00:00\",\"2011-12-13T00:00:00\",\"2011-12-14T00:00:00\",\"2011-12-15T00:00:00\",\"2011-12-16T00:00:00\",\"2011-12-17T00:00:00\",\"2011-12-18T00:00:00\",\"2011-12-19T00:00:00\",\"2011-12-20T00:00:00\",\"2011-12-21T00:00:00\",\"2011-12-22T00:00:00\",\"2011-12-23T00:00:00\",\"2011-12-24T00:00:00\",\"2011-12-25T00:00:00\",\"2011-12-26T00:00:00\",\"2011-12-27T00:00:00\",\"2011-12-28T00:00:00\",\"2011-12-29T00:00:00\",\"2011-12-30T00:00:00\",\"2011-12-31T00:00:00\",\"2012-01-01T00:00:00\",\"2012-01-02T00:00:00\",\"2012-01-03T00:00:00\",\"2012-01-04T00:00:00\",\"2012-01-05T00:00:00\",\"2012-01-06T00:00:00\",\"2012-01-07T00:00:00\",\"2012-01-08T00:00:00\",\"2012-01-09T00:00:00\",\"2012-01-10T00:00:00\",\"2012-01-11T00:00:00\",\"2012-01-12T00:00:00\",\"2012-01-13T00:00:00\",\"2012-01-14T00:00:00\",\"2012-01-15T00:00:00\",\"2012-01-16T00:00:00\",\"2012-01-17T00:00:00\",\"2012-01-18T00:00:00\",\"2012-01-19T00:00:00\",\"2012-01-20T00:00:00\",\"2012-01-21T00:00:00\",\"2012-01-22T00:00:00\",\"2012-01-23T00:00:00\",\"2012-01-24T00:00:00\",\"2012-01-25T00:00:00\",\"2012-01-26T00:00:00\",\"2012-01-27T00:00:00\",\"2012-01-28T00:00:00\",\"2012-01-29T00:00:00\",\"2012-01-30T00:00:00\",\"2012-01-31T00:00:00\",\"2012-02-01T00:00:00\",\"2012-02-02T00:00:00\",\"2012-02-03T00:00:00\",\"2012-02-04T00:00:00\",\"2012-02-05T00:00:00\",\"2012-02-06T00:00:00\",\"2012-02-07T00:00:00\",\"2012-02-08T00:00:00\",\"2012-02-09T00:00:00\",\"2012-02-10T00:00:00\",\"2012-02-11T00:00:00\",\"2012-02-12T00:00:00\",\"2012-02-13T00:00:00\",\"2012-02-14T00:00:00\",\"2012-02-15T00:00:00\",\"2012-02-16T00:00:00\",\"2012-02-17T00:00:00\",\"2012-02-18T00:00:00\",\"2012-02-19T00:00:00\"],\"y\":[398886.8620647979,343524.8289505601,233671.38830746224,134708.10913278593,94125.70353345874,135340.71166739715,197892.1063079241,220979.64137658975,186027.5091814562,152549.1297898735,153515.49181985672,181553.5692771431,203524.2671491601,199319.3309311518,183562.26943232637,179311.77407010386,208552.08471026507,216335.7177250948,197355.49689613536,168688.16084262752,156201.77752674618,176197.01757957877,204644.2715602153,212044.39644322157,200696.92173554204,190827.55988749408,195324.8893208078,200866.6729763914,202153.11751933402,192023.91175867952,184890.75889635435,188222.0622859081,199700.86810574625,196954.36486004692,189384.14971630758,192944.65561099144,207735.92628167427,207200.08296356973,195083.13546138338,183381.71522074266,199970.04973084282,250201.8061047488,310630.22426353215,329178.4673353504,309855.28136735753,285177.52695483045,277119.76513383613,304552.15296136733,343887.6645095513,364900.41008209856,384785.55318772094,405107.9390948215,412129.015523495,365395.57117991557,262688.9672280117,150243.99936845433,97738.48961198646,134015.73295790525,197213.12673686806,224188.76084235203,205460.8766979994,162335.9752069163,152382.2961586698,179542.2364325732,206486.48875853032,208429.77652080613,191170.6546555875,190502.5508866134,207620.78065997222,226640.98236118784,211692.283118018,179628.81129727355,167827.43902720214,178751.54932822654,209092.85759694374,219794.6608305655,209772.6626804351,199425.76780549568,198504.06544379186,209447.78140045042,209482.28716607622,196515.10226280396,188869.67738077624,192085.71846300678,203032.0798771427,206235.98259982018,197355.6589690303,198955.44486213182,209310.5671597707,219943.0042607848,206387.75782882082,188741.37735301018,200046.7623906183,243587.29857187183,306006.9398821124,339330.8974603234,325449.99637836736,290723.832247157,277970.1227135007,304317.210124893,341771.23522409686,370971.1364232904,390970.89515213587,415114.87599661486,419912.6881148714,384996.4347129069,371757.8193123415,364502.65858170885,351138.5150416817,336553.47921229067,322258.87517437147,308381.3824943994,293786.1029056517,273287.545383679,255923.81843201607,240099.09392748092,221938.37283825755,207254.85485517883,193097.367803253,175976.4107134714,166051.9405898692,144863.59250500455,139637.29827728533,124672.4125063683,121591.28298767944,117171.76104813306,111671.2522060042,108736.59112828792,110015.7309430262,111585.11514033926,106002.88495553458,115586.26237380976,123319.6117409041,129156.47392843921,136127.5054639504,145817.75515379405,154094.9930692592,159039.43944412074,175016.19237754884,179684.2206824569,190049.23207517047,201319.13766460778,208535.31950813954,213359.62836678038,220241.81879052494,225247.11019144606,228046.10209210354,233281.21765938352,230442.80064429136,233424.8465079693,231060.2720073771,227068.22227489215,221758.57495173096,220120.1030190478,211985.84675965222,208205.2756865772,201858.56279119677,198102.1693723176,190291.68761621762,183753.75133207947,182524.18176949126,174242.9659378911,167110.7300576087,163452.255734154,161413.32689071452,157087.21656005547,161076.74250619323,158244.583827284,157639.40941787156,159935.84700428147,161623.54008700832,164834.12867302363,168640.5479581682,170295.98235136154,178040.97024189617,178803.12781306362],\"type\":\"scatter\"}],                        {\"height\":600,\"showlegend\":false,\"width\":900,\"xaxis\":{\"rangeselector\":{\"buttons\":[{\"count\":7,\"label\":\"1w\",\"step\":\"day\",\"stepmode\":\"backward\"},{\"count\":1,\"label\":\"1m\",\"step\":\"month\",\"stepmode\":\"backward\"},{\"count\":6,\"label\":\"6m\",\"step\":\"month\",\"stepmode\":\"backward\"},{\"count\":1,\"label\":\"1y\",\"step\":\"year\",\"stepmode\":\"backward\"},{\"step\":\"all\"}]},\"rangeslider\":{\"visible\":true},\"title\":{\"text\":\"ds\"},\"type\":\"date\"},\"yaxis\":{\"title\":{\"text\":\"y\"}},\"template\":{\"data\":{\"histogram2dcontour\":[{\"type\":\"histogram2dcontour\",\"colorbar\":{\"outlinewidth\":0,\"ticks\":\"\"},\"colorscale\":[[0.0,\"#0d0887\"],[0.1111111111111111,\"#46039f\"],[0.2222222222222222,\"#7201a8\"],[0.3333333333333333,\"#9c179e\"],[0.4444444444444444,\"#bd3786\"],[0.5555555555555556,\"#d8576b\"],[0.6666666666666666,\"#ed7953\"],[0.7777777777777778,\"#fb9f3a\"],[0.8888888888888888,\"#fdca26\"],[1.0,\"#f0f921\"]]}],\"choropleth\":[{\"type\":\"choropleth\",\"colorbar\":{\"outlinewidth\":0,\"ticks\":\"\"}}],\"histogram2d\":[{\"type\":\"histogram2d\",\"colorbar\":{\"outlinewidth\":0,\"ticks\":\"\"},\"colorscale\":[[0.0,\"#0d0887\"],[0.1111111111111111,\"#46039f\"],[0.2222222222222222,\"#7201a8\"],[0.3333333333333333,\"#9c179e\"],[0.4444444444444444,\"#bd3786\"],[0.5555555555555556,\"#d8576b\"],[0.6666666666666666,\"#ed7953\"],[0.7777777777777778,\"#fb9f3a\"],[0.8888888888888888,\"#fdca26\"],[1.0,\"#f0f921\"]]}],\"heatmap\":[{\"type\":\"heatmap\",\"colorbar\":{\"outlinewidth\":0,\"ticks\":\"\"},\"colorscale\":[[0.0,\"#0d0887\"],[0.1111111111111111,\"#46039f\"],[0.2222222222222222,\"#7201a8\"],[0.3333333333333333,\"#9c179e\"],[0.4444444444444444,\"#bd3786\"],[0.5555555555555556,\"#d8576b\"],[0.6666666666666666,\"#ed7953\"],[0.7777777777777778,\"#fb9f3a\"],[0.8888888888888888,\"#fdca26\"],[1.0,\"#f0f921\"]]}],\"heatmapgl\":[{\"type\":\"heatmapgl\",\"colorbar\":{\"outlinewidth\":0,\"ticks\":\"\"},\"colorscale\":[[0.0,\"#0d0887\"],[0.1111111111111111,\"#46039f\"],[0.2222222222222222,\"#7201a8\"],[0.3333333333333333,\"#9c179e\"],[0.4444444444444444,\"#bd3786\"],[0.5555555555555556,\"#d8576b\"],[0.6666666666666666,\"#ed7953\"],[0.7777777777777778,\"#fb9f3a\"],[0.8888888888888888,\"#fdca26\"],[1.0,\"#f0f921\"]]}],\"contourcarpet\":[{\"type\":\"contourcarpet\",\"colorbar\":{\"outlinewidth\":0,\"ticks\":\"\"}}],\"contour\":[{\"type\":\"contour\",\"colorbar\":{\"outlinewidth\":0,\"ticks\":\"\"},\"colorscale\":[[0.0,\"#0d0887\"],[0.1111111111111111,\"#46039f\"],[0.2222222222222222,\"#7201a8\"],[0.3333333333333333,\"#9c179e\"],[0.4444444444444444,\"#bd3786\"],[0.5555555555555556,\"#d8576b\"],[0.6666666666666666,\"#ed7953\"],[0.7777777777777778,\"#fb9f3a\"],[0.8888888888888888,\"#fdca26\"],[1.0,\"#f0f921\"]]}],\"surface\":[{\"type\":\"surface\",\"colorbar\":{\"outlinewidth\":0,\"ticks\":\"\"},\"colorscale\":[[0.0,\"#0d0887\"],[0.1111111111111111,\"#46039f\"],[0.2222222222222222,\"#7201a8\"],[0.3333333333333333,\"#9c179e\"],[0.4444444444444444,\"#bd3786\"],[0.5555555555555556,\"#d8576b\"],[0.6666666666666666,\"#ed7953\"],[0.7777777777777778,\"#fb9f3a\"],[0.8888888888888888,\"#fdca26\"],[1.0,\"#f0f921\"]]}],\"mesh3d\":[{\"type\":\"mesh3d\",\"colorbar\":{\"outlinewidth\":0,\"ticks\":\"\"}}],\"scatter\":[{\"fillpattern\":{\"fillmode\":\"overlay\",\"size\":10,\"solidity\":0.2},\"type\":\"scatter\"}],\"parcoords\":[{\"type\":\"parcoords\",\"line\":{\"colorbar\":{\"outlinewidth\":0,\"ticks\":\"\"}}}],\"scatterpolargl\":[{\"type\":\"scatterpolargl\",\"marker\":{\"colorbar\":{\"outlinewidth\":0,\"ticks\":\"\"}}}],\"bar\":[{\"error_x\":{\"color\":\"#2a3f5f\"},\"error_y\":{\"color\":\"#2a3f5f\"},\"marker\":{\"line\":{\"color\":\"#E5ECF6\",\"width\":0.5},\"pattern\":{\"fillmode\":\"overlay\",\"size\":10,\"solidity\":0.2}},\"type\":\"bar\"}],\"scattergeo\":[{\"type\":\"scattergeo\",\"marker\":{\"colorbar\":{\"outlinewidth\":0,\"ticks\":\"\"}}}],\"scatterpolar\":[{\"type\":\"scatterpolar\",\"marker\":{\"colorbar\":{\"outlinewidth\":0,\"ticks\":\"\"}}}],\"histogram\":[{\"marker\":{\"pattern\":{\"fillmode\":\"overlay\",\"size\":10,\"solidity\":0.2}},\"type\":\"histogram\"}],\"scattergl\":[{\"type\":\"scattergl\",\"marker\":{\"colorbar\":{\"outlinewidth\":0,\"ticks\":\"\"}}}],\"scatter3d\":[{\"type\":\"scatter3d\",\"line\":{\"colorbar\":{\"outlinewidth\":0,\"ticks\":\"\"}},\"marker\":{\"colorbar\":{\"outlinewidth\":0,\"ticks\":\"\"}}}],\"scattermapbox\":[{\"type\":\"scattermapbox\",\"marker\":{\"colorbar\":{\"outlinewidth\":0,\"ticks\":\"\"}}}],\"scatterternary\":[{\"type\":\"scatterternary\",\"marker\":{\"colorbar\":{\"outlinewidth\":0,\"ticks\":\"\"}}}],\"scattercarpet\":[{\"type\":\"scattercarpet\",\"marker\":{\"colorbar\":{\"outlinewidth\":0,\"ticks\":\"\"}}}],\"carpet\":[{\"aaxis\":{\"endlinecolor\":\"#2a3f5f\",\"gridcolor\":\"white\",\"linecolor\":\"white\",\"minorgridcolor\":\"white\",\"startlinecolor\":\"#2a3f5f\"},\"baxis\":{\"endlinecolor\":\"#2a3f5f\",\"gridcolor\":\"white\",\"linecolor\":\"white\",\"minorgridcolor\":\"white\",\"startlinecolor\":\"#2a3f5f\"},\"type\":\"carpet\"}],\"table\":[{\"cells\":{\"fill\":{\"color\":\"#EBF0F8\"},\"line\":{\"color\":\"white\"}},\"header\":{\"fill\":{\"color\":\"#C8D4E3\"},\"line\":{\"color\":\"white\"}},\"type\":\"table\"}],\"barpolar\":[{\"marker\":{\"line\":{\"color\":\"#E5ECF6\",\"width\":0.5},\"pattern\":{\"fillmode\":\"overlay\",\"size\":10,\"solidity\":0.2}},\"type\":\"barpolar\"}],\"pie\":[{\"automargin\":true,\"type\":\"pie\"}]},\"layout\":{\"autotypenumbers\":\"strict\",\"colorway\":[\"#636efa\",\"#EF553B\",\"#00cc96\",\"#ab63fa\",\"#FFA15A\",\"#19d3f3\",\"#FF6692\",\"#B6E880\",\"#FF97FF\",\"#FECB52\"],\"font\":{\"color\":\"#2a3f5f\"},\"hovermode\":\"closest\",\"hoverlabel\":{\"align\":\"left\"},\"paper_bgcolor\":\"white\",\"plot_bgcolor\":\"#E5ECF6\",\"polar\":{\"bgcolor\":\"#E5ECF6\",\"angularaxis\":{\"gridcolor\":\"white\",\"linecolor\":\"white\",\"ticks\":\"\"},\"radialaxis\":{\"gridcolor\":\"white\",\"linecolor\":\"white\",\"ticks\":\"\"}},\"ternary\":{\"bgcolor\":\"#E5ECF6\",\"aaxis\":{\"gridcolor\":\"white\",\"linecolor\":\"white\",\"ticks\":\"\"},\"baxis\":{\"gridcolor\":\"white\",\"linecolor\":\"white\",\"ticks\":\"\"},\"caxis\":{\"gridcolor\":\"white\",\"linecolor\":\"white\",\"ticks\":\"\"}},\"coloraxis\":{\"colorbar\":{\"outlinewidth\":0,\"ticks\":\"\"}},\"colorscale\":{\"sequential\":[[0.0,\"#0d0887\"],[0.1111111111111111,\"#46039f\"],[0.2222222222222222,\"#7201a8\"],[0.3333333333333333,\"#9c179e\"],[0.4444444444444444,\"#bd3786\"],[0.5555555555555556,\"#d8576b\"],[0.6666666666666666,\"#ed7953\"],[0.7777777777777778,\"#fb9f3a\"],[0.8888888888888888,\"#fdca26\"],[1.0,\"#f0f921\"]],\"sequentialminus\":[[0.0,\"#0d0887\"],[0.1111111111111111,\"#46039f\"],[0.2222222222222222,\"#7201a8\"],[0.3333333333333333,\"#9c179e\"],[0.4444444444444444,\"#bd3786\"],[0.5555555555555556,\"#d8576b\"],[0.6666666666666666,\"#ed7953\"],[0.7777777777777778,\"#fb9f3a\"],[0.8888888888888888,\"#fdca26\"],[1.0,\"#f0f921\"]],\"diverging\":[[0,\"#8e0152\"],[0.1,\"#c51b7d\"],[0.2,\"#de77ae\"],[0.3,\"#f1b6da\"],[0.4,\"#fde0ef\"],[0.5,\"#f7f7f7\"],[0.6,\"#e6f5d0\"],[0.7,\"#b8e186\"],[0.8,\"#7fbc41\"],[0.9,\"#4d9221\"],[1,\"#276419\"]]},\"xaxis\":{\"gridcolor\":\"white\",\"linecolor\":\"white\",\"ticks\":\"\",\"title\":{\"standoff\":15},\"zerolinecolor\":\"white\",\"automargin\":true,\"zerolinewidth\":2},\"yaxis\":{\"gridcolor\":\"white\",\"linecolor\":\"white\",\"ticks\":\"\",\"title\":{\"standoff\":15},\"zerolinecolor\":\"white\",\"automargin\":true,\"zerolinewidth\":2},\"scene\":{\"xaxis\":{\"backgroundcolor\":\"#E5ECF6\",\"gridcolor\":\"white\",\"linecolor\":\"white\",\"showbackground\":true,\"ticks\":\"\",\"zerolinecolor\":\"white\",\"gridwidth\":2},\"yaxis\":{\"backgroundcolor\":\"#E5ECF6\",\"gridcolor\":\"white\",\"linecolor\":\"white\",\"showbackground\":true,\"ticks\":\"\",\"zerolinecolor\":\"white\",\"gridwidth\":2},\"zaxis\":{\"backgroundcolor\":\"#E5ECF6\",\"gridcolor\":\"white\",\"linecolor\":\"white\",\"showbackground\":true,\"ticks\":\"\",\"zerolinecolor\":\"white\",\"gridwidth\":2}},\"shapedefaults\":{\"line\":{\"color\":\"#2a3f5f\"}},\"annotationdefaults\":{\"arrowcolor\":\"#2a3f5f\",\"arrowhead\":0,\"arrowwidth\":1},\"geo\":{\"bgcolor\":\"white\",\"landcolor\":\"#E5ECF6\",\"subunitcolor\":\"white\",\"showland\":true,\"showlakes\":true,\"lakecolor\":\"white\"},\"title\":{\"x\":0.05},\"mapbox\":{\"style\":\"light\"}}}},                        {\"responsive\": true}                    ).then(function(){\n",
       "                            \n",
       "var gd = document.getElementById('2c04812b-4557-413b-a616-f04f5c9e8579');\n",
       "var x = new MutationObserver(function (mutations, observer) {{\n",
       "        var display = window.getComputedStyle(gd).display;\n",
       "        if (!display || display === 'none') {{\n",
       "            console.log([gd, 'removed!']);\n",
       "            Plotly.purge(gd);\n",
       "            observer.disconnect();\n",
       "        }}\n",
       "}});\n",
       "\n",
       "// Listen for the removal of the full notebook cells\n",
       "var notebookContainer = gd.closest('#notebook-container');\n",
       "if (notebookContainer) {{\n",
       "    x.observe(notebookContainer, {childList: true});\n",
       "}}\n",
       "\n",
       "// Listen for the clearing of the current output cell\n",
       "var outputEl = gd.closest('.output');\n",
       "if (outputEl) {{\n",
       "    x.observe(outputEl, {childList: true});\n",
       "}}\n",
       "\n",
       "                        })                };                });            </script>        </div>"
      ]
     },
     "metadata": {},
     "output_type": "display_data"
    }
   ],
   "source": [
    "from prophet.plot import plot_plotly, plot_components_plotly\n",
    "plot_plotly(m, forecast)"
   ]
  },
  {
   "cell_type": "markdown",
   "id": "e7adfdda",
   "metadata": {},
   "source": [
    "The model is able to fit the past data very well and also able to predict a reasonable future results"
   ]
  },
  {
   "cell_type": "markdown",
   "id": "9cb2a4dc",
   "metadata": {},
   "source": [
    "Plotting the components of the forecast showing the trend and yearly seasonality."
   ]
  },
  {
   "cell_type": "code",
   "execution_count": 15,
   "id": "7b0189fa",
   "metadata": {},
   "outputs": [
    {
     "data": {
      "application/vnd.plotly.v1+json": {
       "config": {
        "plotlyServerURL": "https://plot.ly"
       },
       "data": [
        {
         "line": {
          "color": "#0072B2",
          "width": 2
         },
         "mode": "lines",
         "name": "trend",
         "type": "scatter",
         "x": [
          "2009-12-06T00:00:00",
          "2009-12-13T00:00:00",
          "2009-12-20T00:00:00",
          "2009-12-27T00:00:00",
          "2010-01-03T00:00:00",
          "2010-01-10T00:00:00",
          "2010-01-17T00:00:00",
          "2010-01-24T00:00:00",
          "2010-01-31T00:00:00",
          "2010-02-07T00:00:00",
          "2010-02-14T00:00:00",
          "2010-02-21T00:00:00",
          "2010-02-28T00:00:00",
          "2010-03-07T00:00:00",
          "2010-03-14T00:00:00",
          "2010-03-21T00:00:00",
          "2010-03-28T00:00:00",
          "2010-04-04T00:00:00",
          "2010-04-11T00:00:00",
          "2010-04-18T00:00:00",
          "2010-04-25T00:00:00",
          "2010-05-02T00:00:00",
          "2010-05-09T00:00:00",
          "2010-05-16T00:00:00",
          "2010-05-23T00:00:00",
          "2010-05-30T00:00:00",
          "2010-06-06T00:00:00",
          "2010-06-13T00:00:00",
          "2010-06-20T00:00:00",
          "2010-06-27T00:00:00",
          "2010-07-04T00:00:00",
          "2010-07-11T00:00:00",
          "2010-07-18T00:00:00",
          "2010-07-25T00:00:00",
          "2010-08-01T00:00:00",
          "2010-08-08T00:00:00",
          "2010-08-15T00:00:00",
          "2010-08-22T00:00:00",
          "2010-08-29T00:00:00",
          "2010-09-05T00:00:00",
          "2010-09-12T00:00:00",
          "2010-09-19T00:00:00",
          "2010-09-26T00:00:00",
          "2010-10-03T00:00:00",
          "2010-10-10T00:00:00",
          "2010-10-17T00:00:00",
          "2010-10-24T00:00:00",
          "2010-10-31T00:00:00",
          "2010-11-07T00:00:00",
          "2010-11-14T00:00:00",
          "2010-11-21T00:00:00",
          "2010-11-28T00:00:00",
          "2010-12-05T00:00:00",
          "2010-12-12T00:00:00",
          "2010-12-19T00:00:00",
          "2010-12-26T00:00:00",
          "2011-01-02T00:00:00",
          "2011-01-09T00:00:00",
          "2011-01-16T00:00:00",
          "2011-01-23T00:00:00",
          "2011-01-30T00:00:00",
          "2011-02-06T00:00:00",
          "2011-02-13T00:00:00",
          "2011-02-20T00:00:00",
          "2011-02-27T00:00:00",
          "2011-03-06T00:00:00",
          "2011-03-13T00:00:00",
          "2011-03-20T00:00:00",
          "2011-03-27T00:00:00",
          "2011-04-03T00:00:00",
          "2011-04-10T00:00:00",
          "2011-04-17T00:00:00",
          "2011-04-24T00:00:00",
          "2011-05-01T00:00:00",
          "2011-05-08T00:00:00",
          "2011-05-15T00:00:00",
          "2011-05-22T00:00:00",
          "2011-05-29T00:00:00",
          "2011-06-05T00:00:00",
          "2011-06-12T00:00:00",
          "2011-06-19T00:00:00",
          "2011-06-26T00:00:00",
          "2011-07-03T00:00:00",
          "2011-07-10T00:00:00",
          "2011-07-17T00:00:00",
          "2011-07-24T00:00:00",
          "2011-07-31T00:00:00",
          "2011-08-07T00:00:00",
          "2011-08-14T00:00:00",
          "2011-08-21T00:00:00",
          "2011-08-28T00:00:00",
          "2011-09-04T00:00:00",
          "2011-09-11T00:00:00",
          "2011-09-18T00:00:00",
          "2011-09-25T00:00:00",
          "2011-10-02T00:00:00",
          "2011-10-09T00:00:00",
          "2011-10-16T00:00:00",
          "2011-10-23T00:00:00",
          "2011-10-30T00:00:00",
          "2011-11-06T00:00:00",
          "2011-11-13T00:00:00",
          "2011-11-20T00:00:00",
          "2011-11-27T00:00:00",
          "2011-12-04T00:00:00",
          "2011-12-11T00:00:00",
          "2011-12-12T00:00:00",
          "2011-12-13T00:00:00",
          "2011-12-14T00:00:00",
          "2011-12-15T00:00:00",
          "2011-12-16T00:00:00",
          "2011-12-17T00:00:00",
          "2011-12-18T00:00:00",
          "2011-12-19T00:00:00",
          "2011-12-20T00:00:00",
          "2011-12-21T00:00:00",
          "2011-12-22T00:00:00",
          "2011-12-23T00:00:00",
          "2011-12-24T00:00:00",
          "2011-12-25T00:00:00",
          "2011-12-26T00:00:00",
          "2011-12-27T00:00:00",
          "2011-12-28T00:00:00",
          "2011-12-29T00:00:00",
          "2011-12-30T00:00:00",
          "2011-12-31T00:00:00",
          "2012-01-01T00:00:00",
          "2012-01-02T00:00:00",
          "2012-01-03T00:00:00",
          "2012-01-04T00:00:00",
          "2012-01-05T00:00:00",
          "2012-01-06T00:00:00",
          "2012-01-07T00:00:00",
          "2012-01-08T00:00:00",
          "2012-01-09T00:00:00",
          "2012-01-10T00:00:00",
          "2012-01-11T00:00:00",
          "2012-01-12T00:00:00",
          "2012-01-13T00:00:00",
          "2012-01-14T00:00:00",
          "2012-01-15T00:00:00",
          "2012-01-16T00:00:00",
          "2012-01-17T00:00:00",
          "2012-01-18T00:00:00",
          "2012-01-19T00:00:00",
          "2012-01-20T00:00:00",
          "2012-01-21T00:00:00",
          "2012-01-22T00:00:00",
          "2012-01-23T00:00:00",
          "2012-01-24T00:00:00",
          "2012-01-25T00:00:00",
          "2012-01-26T00:00:00",
          "2012-01-27T00:00:00",
          "2012-01-28T00:00:00",
          "2012-01-29T00:00:00",
          "2012-01-30T00:00:00",
          "2012-01-31T00:00:00",
          "2012-02-01T00:00:00",
          "2012-02-02T00:00:00",
          "2012-02-03T00:00:00",
          "2012-02-04T00:00:00",
          "2012-02-05T00:00:00",
          "2012-02-06T00:00:00",
          "2012-02-07T00:00:00",
          "2012-02-08T00:00:00",
          "2012-02-09T00:00:00",
          "2012-02-10T00:00:00",
          "2012-02-11T00:00:00",
          "2012-02-12T00:00:00",
          "2012-02-13T00:00:00",
          "2012-02-14T00:00:00",
          "2012-02-15T00:00:00",
          "2012-02-16T00:00:00",
          "2012-02-17T00:00:00",
          "2012-02-18T00:00:00",
          "2012-02-19T00:00:00"
         ],
         "xaxis": "x",
         "y": [
          172744.03145669997,
          172867.52611508756,
          172991.02077347512,
          173114.5154318627,
          173238.010094696,
          173361.50475752924,
          173484.9994203625,
          173608.49408319575,
          173731.98874874876,
          173855.48341430177,
          173978.9780798548,
          174102.4727478225,
          174225.9674157902,
          174349.4620837579,
          174472.95674251538,
          174596.45140127285,
          174719.9460600303,
          174843.44071878778,
          174966.93537291477,
          175090.4300270418,
          175213.92468116878,
          175337.41928866343,
          175460.91389615808,
          175584.40850365272,
          175707.9031033676,
          175831.39770308248,
          175954.89230279735,
          176078.38690251223,
          176201.88142644297,
          176325.37595037368,
          176448.8704743044,
          176572.36499381973,
          176695.85951333508,
          176819.35403285042,
          176942.84854215532,
          177066.34305146022,
          177189.83756076513,
          177313.33207007,
          177436.8265704256,
          177560.32107078118,
          177683.81557113674,
          177807.31006515602,
          177930.8045591753,
          178054.2990531946,
          178177.79354067103,
          178301.2880281475,
          178424.78251562396,
          178548.27700540397,
          178671.771495184,
          178795.265984964,
          178918.760474744,
          179042.0880052546,
          179165.41553576515,
          179288.74306627575,
          179412.07058471817,
          179535.3981031606,
          179658.72562160305,
          179782.05313434463,
          179905.3806470862,
          180028.70815982777,
          180152.03567256933,
          180275.36175946723,
          180398.68784636512,
          180522.01393326305,
          180645.3400256427,
          180768.66611802243,
          180891.99221040212,
          181015.31829825483,
          181138.6443861075,
          181261.97047396022,
          181385.29656181287,
          181508.62262658996,
          181631.94869136703,
          181755.27475614412,
          181878.60081281178,
          182001.92686947942,
          182125.25292614708,
          182248.57899881873,
          182371.90507149036,
          182495.231144162,
          182618.55721683367,
          182741.88329464433,
          182865.20937245502,
          182988.5354502657,
          183111.86152573727,
          183235.18760120877,
          183358.51367668033,
          183481.83975215186,
          183605.16582762342,
          183728.49190309492,
          183851.81797856648,
          183975.144054038,
          184098.47012950951,
          184221.79620498107,
          184345.1222804526,
          184468.44835592416,
          184591.77443139566,
          184715.10050686722,
          184838.42658233875,
          184961.75265781028,
          185085.0787332818,
          185208.40480875337,
          185331.73088422487,
          185455.05695969643,
          185578.38303516796,
          185701.7091106395,
          185719.32712142114,
          185736.9451322028,
          185754.56314298444,
          185772.18115376608,
          185789.79916454773,
          185807.41717532938,
          185825.03518611102,
          185842.65319689267,
          185860.27120767432,
          185877.889218456,
          185895.50722923764,
          185913.1252400193,
          185930.74325080094,
          185948.36126158256,
          185965.9792723642,
          185983.59728314585,
          186001.2152939275,
          186018.83330470914,
          186036.4513154908,
          186054.06932627244,
          186071.6873370541,
          186089.30534783576,
          186106.9233586174,
          186124.54136939906,
          186142.1593801807,
          186159.77739096235,
          186177.39540174397,
          186195.01341252562,
          186212.63142330726,
          186230.24943408894,
          186247.8674448706,
          186265.48545565223,
          186283.10346643388,
          186300.72147721553,
          186318.33948799717,
          186335.95749877882,
          186353.57550956047,
          186371.19352034212,
          186388.81153112376,
          186406.42954190538,
          186424.04755268706,
          186441.6655634687,
          186459.28357425035,
          186476.901585032,
          186494.51959581365,
          186512.1376065953,
          186529.75561737694,
          186547.3736281586,
          186564.99163894024,
          186582.6096497219,
          186600.22766050356,
          186617.8456712852,
          186635.46368206682,
          186653.08169284847,
          186670.69970363012,
          186688.31771441177,
          186705.9357251934,
          186723.55373597506,
          186741.1717467567,
          186758.78975753838,
          186776.40776832003,
          186794.02577910168,
          186811.64378988332,
          186829.26180066497,
          186846.87981144662,
          186864.49782222824,
          186882.11583300988,
          186899.73384379153,
          186917.35185457318,
          186934.96986535485
         ],
         "yaxis": "y"
        },
        {
         "line": {
          "color": "rgba(0, 114, 178, 0.2)",
          "width": 0
         },
         "mode": "lines",
         "name": "trend_upper",
         "type": "scatter",
         "x": [
          "2009-12-06T00:00:00",
          "2009-12-13T00:00:00",
          "2009-12-20T00:00:00",
          "2009-12-27T00:00:00",
          "2010-01-03T00:00:00",
          "2010-01-10T00:00:00",
          "2010-01-17T00:00:00",
          "2010-01-24T00:00:00",
          "2010-01-31T00:00:00",
          "2010-02-07T00:00:00",
          "2010-02-14T00:00:00",
          "2010-02-21T00:00:00",
          "2010-02-28T00:00:00",
          "2010-03-07T00:00:00",
          "2010-03-14T00:00:00",
          "2010-03-21T00:00:00",
          "2010-03-28T00:00:00",
          "2010-04-04T00:00:00",
          "2010-04-11T00:00:00",
          "2010-04-18T00:00:00",
          "2010-04-25T00:00:00",
          "2010-05-02T00:00:00",
          "2010-05-09T00:00:00",
          "2010-05-16T00:00:00",
          "2010-05-23T00:00:00",
          "2010-05-30T00:00:00",
          "2010-06-06T00:00:00",
          "2010-06-13T00:00:00",
          "2010-06-20T00:00:00",
          "2010-06-27T00:00:00",
          "2010-07-04T00:00:00",
          "2010-07-11T00:00:00",
          "2010-07-18T00:00:00",
          "2010-07-25T00:00:00",
          "2010-08-01T00:00:00",
          "2010-08-08T00:00:00",
          "2010-08-15T00:00:00",
          "2010-08-22T00:00:00",
          "2010-08-29T00:00:00",
          "2010-09-05T00:00:00",
          "2010-09-12T00:00:00",
          "2010-09-19T00:00:00",
          "2010-09-26T00:00:00",
          "2010-10-03T00:00:00",
          "2010-10-10T00:00:00",
          "2010-10-17T00:00:00",
          "2010-10-24T00:00:00",
          "2010-10-31T00:00:00",
          "2010-11-07T00:00:00",
          "2010-11-14T00:00:00",
          "2010-11-21T00:00:00",
          "2010-11-28T00:00:00",
          "2010-12-05T00:00:00",
          "2010-12-12T00:00:00",
          "2010-12-19T00:00:00",
          "2010-12-26T00:00:00",
          "2011-01-02T00:00:00",
          "2011-01-09T00:00:00",
          "2011-01-16T00:00:00",
          "2011-01-23T00:00:00",
          "2011-01-30T00:00:00",
          "2011-02-06T00:00:00",
          "2011-02-13T00:00:00",
          "2011-02-20T00:00:00",
          "2011-02-27T00:00:00",
          "2011-03-06T00:00:00",
          "2011-03-13T00:00:00",
          "2011-03-20T00:00:00",
          "2011-03-27T00:00:00",
          "2011-04-03T00:00:00",
          "2011-04-10T00:00:00",
          "2011-04-17T00:00:00",
          "2011-04-24T00:00:00",
          "2011-05-01T00:00:00",
          "2011-05-08T00:00:00",
          "2011-05-15T00:00:00",
          "2011-05-22T00:00:00",
          "2011-05-29T00:00:00",
          "2011-06-05T00:00:00",
          "2011-06-12T00:00:00",
          "2011-06-19T00:00:00",
          "2011-06-26T00:00:00",
          "2011-07-03T00:00:00",
          "2011-07-10T00:00:00",
          "2011-07-17T00:00:00",
          "2011-07-24T00:00:00",
          "2011-07-31T00:00:00",
          "2011-08-07T00:00:00",
          "2011-08-14T00:00:00",
          "2011-08-21T00:00:00",
          "2011-08-28T00:00:00",
          "2011-09-04T00:00:00",
          "2011-09-11T00:00:00",
          "2011-09-18T00:00:00",
          "2011-09-25T00:00:00",
          "2011-10-02T00:00:00",
          "2011-10-09T00:00:00",
          "2011-10-16T00:00:00",
          "2011-10-23T00:00:00",
          "2011-10-30T00:00:00",
          "2011-11-06T00:00:00",
          "2011-11-13T00:00:00",
          "2011-11-20T00:00:00",
          "2011-11-27T00:00:00",
          "2011-12-04T00:00:00",
          "2011-12-11T00:00:00",
          "2011-12-12T00:00:00",
          "2011-12-13T00:00:00",
          "2011-12-14T00:00:00",
          "2011-12-15T00:00:00",
          "2011-12-16T00:00:00",
          "2011-12-17T00:00:00",
          "2011-12-18T00:00:00",
          "2011-12-19T00:00:00",
          "2011-12-20T00:00:00",
          "2011-12-21T00:00:00",
          "2011-12-22T00:00:00",
          "2011-12-23T00:00:00",
          "2011-12-24T00:00:00",
          "2011-12-25T00:00:00",
          "2011-12-26T00:00:00",
          "2011-12-27T00:00:00",
          "2011-12-28T00:00:00",
          "2011-12-29T00:00:00",
          "2011-12-30T00:00:00",
          "2011-12-31T00:00:00",
          "2012-01-01T00:00:00",
          "2012-01-02T00:00:00",
          "2012-01-03T00:00:00",
          "2012-01-04T00:00:00",
          "2012-01-05T00:00:00",
          "2012-01-06T00:00:00",
          "2012-01-07T00:00:00",
          "2012-01-08T00:00:00",
          "2012-01-09T00:00:00",
          "2012-01-10T00:00:00",
          "2012-01-11T00:00:00",
          "2012-01-12T00:00:00",
          "2012-01-13T00:00:00",
          "2012-01-14T00:00:00",
          "2012-01-15T00:00:00",
          "2012-01-16T00:00:00",
          "2012-01-17T00:00:00",
          "2012-01-18T00:00:00",
          "2012-01-19T00:00:00",
          "2012-01-20T00:00:00",
          "2012-01-21T00:00:00",
          "2012-01-22T00:00:00",
          "2012-01-23T00:00:00",
          "2012-01-24T00:00:00",
          "2012-01-25T00:00:00",
          "2012-01-26T00:00:00",
          "2012-01-27T00:00:00",
          "2012-01-28T00:00:00",
          "2012-01-29T00:00:00",
          "2012-01-30T00:00:00",
          "2012-01-31T00:00:00",
          "2012-02-01T00:00:00",
          "2012-02-02T00:00:00",
          "2012-02-03T00:00:00",
          "2012-02-04T00:00:00",
          "2012-02-05T00:00:00",
          "2012-02-06T00:00:00",
          "2012-02-07T00:00:00",
          "2012-02-08T00:00:00",
          "2012-02-09T00:00:00",
          "2012-02-10T00:00:00",
          "2012-02-11T00:00:00",
          "2012-02-12T00:00:00",
          "2012-02-13T00:00:00",
          "2012-02-14T00:00:00",
          "2012-02-15T00:00:00",
          "2012-02-16T00:00:00",
          "2012-02-17T00:00:00",
          "2012-02-18T00:00:00",
          "2012-02-19T00:00:00"
         ],
         "xaxis": "x",
         "y": [
          172744.03145669997,
          172867.52611508756,
          172991.02077347512,
          173114.5154318627,
          173238.010094696,
          173361.50475752924,
          173484.9994203625,
          173608.49408319575,
          173731.98874874876,
          173855.48341430177,
          173978.9780798548,
          174102.4727478225,
          174225.9674157902,
          174349.4620837579,
          174472.95674251538,
          174596.45140127285,
          174719.9460600303,
          174843.44071878778,
          174966.93537291477,
          175090.4300270418,
          175213.92468116878,
          175337.41928866343,
          175460.91389615808,
          175584.40850365272,
          175707.9031033676,
          175831.39770308248,
          175954.89230279735,
          176078.38690251223,
          176201.88142644297,
          176325.37595037368,
          176448.8704743044,
          176572.36499381973,
          176695.85951333508,
          176819.35403285042,
          176942.84854215532,
          177066.34305146022,
          177189.83756076513,
          177313.33207007,
          177436.8265704256,
          177560.32107078118,
          177683.81557113674,
          177807.31006515602,
          177930.8045591753,
          178054.2990531946,
          178177.79354067103,
          178301.2880281475,
          178424.78251562396,
          178548.27700540397,
          178671.771495184,
          178795.265984964,
          178918.760474744,
          179042.0880052546,
          179165.41553576515,
          179288.74306627575,
          179412.07058471817,
          179535.3981031606,
          179658.72562160305,
          179782.05313434463,
          179905.3806470862,
          180028.70815982777,
          180152.03567256933,
          180275.36175946723,
          180398.68784636512,
          180522.01393326305,
          180645.3400256427,
          180768.66611802243,
          180891.99221040212,
          181015.31829825483,
          181138.6443861075,
          181261.97047396022,
          181385.29656181287,
          181508.62262658996,
          181631.94869136703,
          181755.27475614412,
          181878.60081281178,
          182001.92686947942,
          182125.25292614708,
          182248.57899881873,
          182371.90507149036,
          182495.231144162,
          182618.55721683367,
          182741.88329464433,
          182865.20937245502,
          182988.5354502657,
          183111.86152573727,
          183235.18760120877,
          183358.51367668033,
          183481.83975215186,
          183605.16582762342,
          183728.49190309492,
          183851.81797856648,
          183975.144054038,
          184098.47012950951,
          184221.79620498107,
          184345.1222804526,
          184468.44835592416,
          184591.77443139566,
          184715.10050686722,
          184838.42658233875,
          184961.75265781028,
          185085.0787332818,
          185208.40480875337,
          185331.73088422487,
          185455.05695969643,
          185578.38303516796,
          185701.7091106395,
          185719.32712142114,
          185736.9451322028,
          185754.56314298444,
          185772.18115376608,
          185789.79916454773,
          185807.41717532938,
          185825.03522479814,
          185842.65360566226,
          185860.27196717166,
          185877.89032826864,
          185895.50874151397,
          185913.12736889446,
          185930.74590153707,
          185948.3645210111,
          185965.9832503626,
          185983.60209561486,
          186001.2212757846,
          186018.84023391173,
          186036.45947431412,
          186054.0787377701,
          186071.69792260844,
          186089.31714837547,
          186106.93590804355,
          186124.55515526282,
          186142.1743740406,
          186159.79327101103,
          186177.4126821111,
          186195.0322347702,
          186212.65122820754,
          186230.2705550676,
          186247.88983463767,
          186265.50871723884,
          186283.12779798257,
          186300.74778164073,
          186318.36700432323,
          186335.98694629798,
          186353.6059143619,
          186371.22507916452,
          186388.84415988135,
          186406.46457957095,
          186424.08429895685,
          186441.70439578567,
          186459.32341375964,
          186476.9431204609,
          186494.56298177523,
          186512.18301144894,
          186529.80255093944,
          186547.42251390332,
          186565.04231580297,
          186582.66192033858,
          186600.281582674,
          186617.90116154263,
          186635.52121309316,
          186653.1409337278,
          186670.76088378546,
          186688.38049087065,
          186706.00102384767,
          186723.61992225237,
          186741.24061085845,
          186758.86029212066,
          186776.47991449156,
          186794.09972799494,
          186811.71925081182,
          186829.33872659563,
          186846.95817458842,
          186864.58045462228,
          186882.2000747732,
          186899.82015100276,
          186917.44001929625,
          186935.06072446602
         ],
         "yaxis": "y"
        },
        {
         "fill": "tonexty",
         "fillcolor": "rgba(0, 114, 178, 0.2)",
         "line": {
          "color": "rgba(0, 114, 178, 0.2)",
          "width": 0
         },
         "mode": "lines",
         "name": "trend_lower",
         "type": "scatter",
         "x": [
          "2009-12-06T00:00:00",
          "2009-12-13T00:00:00",
          "2009-12-20T00:00:00",
          "2009-12-27T00:00:00",
          "2010-01-03T00:00:00",
          "2010-01-10T00:00:00",
          "2010-01-17T00:00:00",
          "2010-01-24T00:00:00",
          "2010-01-31T00:00:00",
          "2010-02-07T00:00:00",
          "2010-02-14T00:00:00",
          "2010-02-21T00:00:00",
          "2010-02-28T00:00:00",
          "2010-03-07T00:00:00",
          "2010-03-14T00:00:00",
          "2010-03-21T00:00:00",
          "2010-03-28T00:00:00",
          "2010-04-04T00:00:00",
          "2010-04-11T00:00:00",
          "2010-04-18T00:00:00",
          "2010-04-25T00:00:00",
          "2010-05-02T00:00:00",
          "2010-05-09T00:00:00",
          "2010-05-16T00:00:00",
          "2010-05-23T00:00:00",
          "2010-05-30T00:00:00",
          "2010-06-06T00:00:00",
          "2010-06-13T00:00:00",
          "2010-06-20T00:00:00",
          "2010-06-27T00:00:00",
          "2010-07-04T00:00:00",
          "2010-07-11T00:00:00",
          "2010-07-18T00:00:00",
          "2010-07-25T00:00:00",
          "2010-08-01T00:00:00",
          "2010-08-08T00:00:00",
          "2010-08-15T00:00:00",
          "2010-08-22T00:00:00",
          "2010-08-29T00:00:00",
          "2010-09-05T00:00:00",
          "2010-09-12T00:00:00",
          "2010-09-19T00:00:00",
          "2010-09-26T00:00:00",
          "2010-10-03T00:00:00",
          "2010-10-10T00:00:00",
          "2010-10-17T00:00:00",
          "2010-10-24T00:00:00",
          "2010-10-31T00:00:00",
          "2010-11-07T00:00:00",
          "2010-11-14T00:00:00",
          "2010-11-21T00:00:00",
          "2010-11-28T00:00:00",
          "2010-12-05T00:00:00",
          "2010-12-12T00:00:00",
          "2010-12-19T00:00:00",
          "2010-12-26T00:00:00",
          "2011-01-02T00:00:00",
          "2011-01-09T00:00:00",
          "2011-01-16T00:00:00",
          "2011-01-23T00:00:00",
          "2011-01-30T00:00:00",
          "2011-02-06T00:00:00",
          "2011-02-13T00:00:00",
          "2011-02-20T00:00:00",
          "2011-02-27T00:00:00",
          "2011-03-06T00:00:00",
          "2011-03-13T00:00:00",
          "2011-03-20T00:00:00",
          "2011-03-27T00:00:00",
          "2011-04-03T00:00:00",
          "2011-04-10T00:00:00",
          "2011-04-17T00:00:00",
          "2011-04-24T00:00:00",
          "2011-05-01T00:00:00",
          "2011-05-08T00:00:00",
          "2011-05-15T00:00:00",
          "2011-05-22T00:00:00",
          "2011-05-29T00:00:00",
          "2011-06-05T00:00:00",
          "2011-06-12T00:00:00",
          "2011-06-19T00:00:00",
          "2011-06-26T00:00:00",
          "2011-07-03T00:00:00",
          "2011-07-10T00:00:00",
          "2011-07-17T00:00:00",
          "2011-07-24T00:00:00",
          "2011-07-31T00:00:00",
          "2011-08-07T00:00:00",
          "2011-08-14T00:00:00",
          "2011-08-21T00:00:00",
          "2011-08-28T00:00:00",
          "2011-09-04T00:00:00",
          "2011-09-11T00:00:00",
          "2011-09-18T00:00:00",
          "2011-09-25T00:00:00",
          "2011-10-02T00:00:00",
          "2011-10-09T00:00:00",
          "2011-10-16T00:00:00",
          "2011-10-23T00:00:00",
          "2011-10-30T00:00:00",
          "2011-11-06T00:00:00",
          "2011-11-13T00:00:00",
          "2011-11-20T00:00:00",
          "2011-11-27T00:00:00",
          "2011-12-04T00:00:00",
          "2011-12-11T00:00:00",
          "2011-12-12T00:00:00",
          "2011-12-13T00:00:00",
          "2011-12-14T00:00:00",
          "2011-12-15T00:00:00",
          "2011-12-16T00:00:00",
          "2011-12-17T00:00:00",
          "2011-12-18T00:00:00",
          "2011-12-19T00:00:00",
          "2011-12-20T00:00:00",
          "2011-12-21T00:00:00",
          "2011-12-22T00:00:00",
          "2011-12-23T00:00:00",
          "2011-12-24T00:00:00",
          "2011-12-25T00:00:00",
          "2011-12-26T00:00:00",
          "2011-12-27T00:00:00",
          "2011-12-28T00:00:00",
          "2011-12-29T00:00:00",
          "2011-12-30T00:00:00",
          "2011-12-31T00:00:00",
          "2012-01-01T00:00:00",
          "2012-01-02T00:00:00",
          "2012-01-03T00:00:00",
          "2012-01-04T00:00:00",
          "2012-01-05T00:00:00",
          "2012-01-06T00:00:00",
          "2012-01-07T00:00:00",
          "2012-01-08T00:00:00",
          "2012-01-09T00:00:00",
          "2012-01-10T00:00:00",
          "2012-01-11T00:00:00",
          "2012-01-12T00:00:00",
          "2012-01-13T00:00:00",
          "2012-01-14T00:00:00",
          "2012-01-15T00:00:00",
          "2012-01-16T00:00:00",
          "2012-01-17T00:00:00",
          "2012-01-18T00:00:00",
          "2012-01-19T00:00:00",
          "2012-01-20T00:00:00",
          "2012-01-21T00:00:00",
          "2012-01-22T00:00:00",
          "2012-01-23T00:00:00",
          "2012-01-24T00:00:00",
          "2012-01-25T00:00:00",
          "2012-01-26T00:00:00",
          "2012-01-27T00:00:00",
          "2012-01-28T00:00:00",
          "2012-01-29T00:00:00",
          "2012-01-30T00:00:00",
          "2012-01-31T00:00:00",
          "2012-02-01T00:00:00",
          "2012-02-02T00:00:00",
          "2012-02-03T00:00:00",
          "2012-02-04T00:00:00",
          "2012-02-05T00:00:00",
          "2012-02-06T00:00:00",
          "2012-02-07T00:00:00",
          "2012-02-08T00:00:00",
          "2012-02-09T00:00:00",
          "2012-02-10T00:00:00",
          "2012-02-11T00:00:00",
          "2012-02-12T00:00:00",
          "2012-02-13T00:00:00",
          "2012-02-14T00:00:00",
          "2012-02-15T00:00:00",
          "2012-02-16T00:00:00",
          "2012-02-17T00:00:00",
          "2012-02-18T00:00:00",
          "2012-02-19T00:00:00"
         ],
         "xaxis": "x",
         "y": [
          172744.03145669997,
          172867.52611508756,
          172991.02077347512,
          173114.5154318627,
          173238.010094696,
          173361.50475752924,
          173484.9994203625,
          173608.49408319575,
          173731.98874874876,
          173855.48341430177,
          173978.9780798548,
          174102.4727478225,
          174225.9674157902,
          174349.4620837579,
          174472.95674251538,
          174596.45140127285,
          174719.9460600303,
          174843.44071878778,
          174966.93537291477,
          175090.4300270418,
          175213.92468116878,
          175337.41928866343,
          175460.91389615808,
          175584.40850365272,
          175707.9031033676,
          175831.39770308248,
          175954.89230279735,
          176078.38690251223,
          176201.88142644297,
          176325.37595037368,
          176448.8704743044,
          176572.36499381973,
          176695.85951333508,
          176819.35403285042,
          176942.84854215532,
          177066.34305146022,
          177189.83756076513,
          177313.33207007,
          177436.8265704256,
          177560.32107078118,
          177683.81557113674,
          177807.31006515602,
          177930.8045591753,
          178054.2990531946,
          178177.79354067103,
          178301.2880281475,
          178424.78251562396,
          178548.27700540397,
          178671.771495184,
          178795.265984964,
          178918.760474744,
          179042.0880052546,
          179165.41553576515,
          179288.74306627575,
          179412.07058471817,
          179535.3981031606,
          179658.72562160305,
          179782.05313434463,
          179905.3806470862,
          180028.70815982777,
          180152.03567256933,
          180275.36175946723,
          180398.68784636512,
          180522.01393326305,
          180645.3400256427,
          180768.66611802243,
          180891.99221040212,
          181015.31829825483,
          181138.6443861075,
          181261.97047396022,
          181385.29656181287,
          181508.62262658996,
          181631.94869136703,
          181755.27475614412,
          181878.60081281178,
          182001.92686947942,
          182125.25292614708,
          182248.57899881873,
          182371.90507149036,
          182495.231144162,
          182618.55721683367,
          182741.88329464433,
          182865.20937245502,
          182988.5354502657,
          183111.86152573727,
          183235.18760120877,
          183358.51367668033,
          183481.83975215186,
          183605.16582762342,
          183728.49190309492,
          183851.81797856648,
          183975.144054038,
          184098.47012950951,
          184221.79620498107,
          184345.1222804526,
          184468.44835592416,
          184591.77443139566,
          184715.10050686722,
          184838.42658233875,
          184961.75265781028,
          185085.0787332818,
          185208.40480875337,
          185331.73088422487,
          185455.05695969643,
          185578.38303516796,
          185701.7091106395,
          185719.32712142114,
          185736.9451322028,
          185754.56314298444,
          185772.18115376608,
          185789.79916454773,
          185807.41717532938,
          185825.0350359147,
          185842.65270489565,
          185860.27030856741,
          185877.8878488327,
          185895.5053184558,
          185913.12259198955,
          185930.7399035076,
          185948.35739373387,
          185965.97475555222,
          185983.59198952495,
          186001.20904930186,
          186018.82639014113,
          186036.44354524146,
          186054.06101933593,
          186071.6779924479,
          186089.29495612948,
          186106.91180720823,
          186124.52898989263,
          186142.14579630646,
          186159.76251195767,
          186177.37924580142,
          186194.99629854644,
          186212.61319320093,
          186230.2300246111,
          186247.84702833125,
          186265.463538551,
          186283.08012360006,
          186300.6966878553,
          186318.31326502975,
          186335.92998614887,
          186353.54705939686,
          186371.1633896273,
          186388.7800747284,
          186406.3966810835,
          186424.0131632552,
          186441.63003084785,
          186459.2467158292,
          186476.8630674356,
          186494.4797264964,
          186512.09655871487,
          186529.71343662468,
          186547.3302578562,
          186564.94684199695,
          186582.5636086266,
          186600.18022533515,
          186617.79688687582,
          186635.41341551268,
          186653.02947914627,
          186670.64640244705,
          186688.26268554933,
          186705.87867059078,
          186723.494348192,
          186741.11013976138,
          186758.72618950065,
          186776.3425732446,
          186793.95884066858,
          186811.57468376792,
          186829.1907149546,
          186846.80585823447,
          186864.42188288944,
          186882.03849030146,
          186899.65554396738,
          186917.27169213656,
          186934.887772972
         ],
         "yaxis": "y"
        },
        {
         "line": {
          "color": "#0072B2",
          "width": 2
         },
         "mode": "lines",
         "name": "yearly",
         "type": "scatter",
         "x": [
          "2017-01-01T00:00:00",
          "2017-01-02T00:00:59.178082",
          "2017-01-03T00:01:58.356164",
          "2017-01-04T00:02:57.534246",
          "2017-01-05T00:03:56.712328",
          "2017-01-06T00:04:55.890411",
          "2017-01-07T00:05:55.068493",
          "2017-01-08T00:06:54.246575",
          "2017-01-09T00:07:53.424657",
          "2017-01-10T00:08:52.602739",
          "2017-01-11T00:09:51.780822",
          "2017-01-12T00:10:50.958904",
          "2017-01-13T00:11:50.136986",
          "2017-01-14T00:12:49.315068",
          "2017-01-15T00:13:48.493150",
          "2017-01-16T00:14:47.671232",
          "2017-01-17T00:15:46.849315",
          "2017-01-18T00:16:46.027397",
          "2017-01-19T00:17:45.205479",
          "2017-01-20T00:18:44.383561",
          "2017-01-21T00:19:43.561643",
          "2017-01-22T00:20:42.739726",
          "2017-01-23T00:21:41.917808",
          "2017-01-24T00:22:41.095890",
          "2017-01-25T00:23:40.273972",
          "2017-01-26T00:24:39.452054",
          "2017-01-27T00:25:38.630137",
          "2017-01-28T00:26:37.808219",
          "2017-01-29T00:27:36.986301",
          "2017-01-30T00:28:36.164383",
          "2017-01-31T00:29:35.342465",
          "2017-02-01T00:30:34.520547",
          "2017-02-02T00:31:33.698630",
          "2017-02-03T00:32:32.876712",
          "2017-02-04T00:33:32.054794",
          "2017-02-05T00:34:31.232876",
          "2017-02-06T00:35:30.410958",
          "2017-02-07T00:36:29.589041",
          "2017-02-08T00:37:28.767123",
          "2017-02-09T00:38:27.945205",
          "2017-02-10T00:39:27.123287",
          "2017-02-11T00:40:26.301369",
          "2017-02-12T00:41:25.479452",
          "2017-02-13T00:42:24.657534",
          "2017-02-14T00:43:23.835616",
          "2017-02-15T00:44:23.013698",
          "2017-02-16T00:45:22.191780",
          "2017-02-17T00:46:21.369862",
          "2017-02-18T00:47:20.547945",
          "2017-02-19T00:48:19.726027",
          "2017-02-20T00:49:18.904109",
          "2017-02-21T00:50:18.082191",
          "2017-02-22T00:51:17.260273",
          "2017-02-23T00:52:16.438356",
          "2017-02-24T00:53:15.616438",
          "2017-02-25T00:54:14.794520",
          "2017-02-26T00:55:13.972602",
          "2017-02-27T00:56:13.150684",
          "2017-02-28T00:57:12.328767",
          "2017-03-01T00:58:11.506849",
          "2017-03-02T00:59:10.684931",
          "2017-03-03T01:00:09.863013",
          "2017-03-04T01:01:09.041095",
          "2017-03-05T01:02:08.219177",
          "2017-03-06T01:03:07.397260",
          "2017-03-07T01:04:06.575342",
          "2017-03-08T01:05:05.753424",
          "2017-03-09T01:06:04.931506",
          "2017-03-10T01:07:04.109588",
          "2017-03-11T01:08:03.287671",
          "2017-03-12T01:09:02.465753",
          "2017-03-13T01:10:01.643835",
          "2017-03-14T01:11:00.821917",
          "2017-03-15T01:12:00",
          "2017-03-16T01:12:59.178082",
          "2017-03-17T01:13:58.356164",
          "2017-03-18T01:14:57.534246",
          "2017-03-19T01:15:56.712328",
          "2017-03-20T01:16:55.890411",
          "2017-03-21T01:17:55.068493",
          "2017-03-22T01:18:54.246575",
          "2017-03-23T01:19:53.424657",
          "2017-03-24T01:20:52.602739",
          "2017-03-25T01:21:51.780822",
          "2017-03-26T01:22:50.958904",
          "2017-03-27T01:23:50.136986",
          "2017-03-28T01:24:49.315068",
          "2017-03-29T01:25:48.493150",
          "2017-03-30T01:26:47.671232",
          "2017-03-31T01:27:46.849315",
          "2017-04-01T01:28:46.027397",
          "2017-04-02T01:29:45.205479",
          "2017-04-03T01:30:44.383561",
          "2017-04-04T01:31:43.561643",
          "2017-04-05T01:32:42.739726",
          "2017-04-06T01:33:41.917808",
          "2017-04-07T01:34:41.095890",
          "2017-04-08T01:35:40.273972",
          "2017-04-09T01:36:39.452054",
          "2017-04-10T01:37:38.630137",
          "2017-04-11T01:38:37.808219",
          "2017-04-12T01:39:36.986301",
          "2017-04-13T01:40:36.164383",
          "2017-04-14T01:41:35.342465",
          "2017-04-15T01:42:34.520547",
          "2017-04-16T01:43:33.698630",
          "2017-04-17T01:44:32.876712",
          "2017-04-18T01:45:32.054794",
          "2017-04-19T01:46:31.232876",
          "2017-04-20T01:47:30.410958",
          "2017-04-21T01:48:29.589041",
          "2017-04-22T01:49:28.767123",
          "2017-04-23T01:50:27.945205",
          "2017-04-24T01:51:27.123287",
          "2017-04-25T01:52:26.301369",
          "2017-04-26T01:53:25.479452",
          "2017-04-27T01:54:24.657534",
          "2017-04-28T01:55:23.835616",
          "2017-04-29T01:56:23.013698",
          "2017-04-30T01:57:22.191780",
          "2017-05-01T01:58:21.369862",
          "2017-05-02T01:59:20.547945",
          "2017-05-03T02:00:19.726027",
          "2017-05-04T02:01:18.904109",
          "2017-05-05T02:02:18.082191",
          "2017-05-06T02:03:17.260273",
          "2017-05-07T02:04:16.438356",
          "2017-05-08T02:05:15.616438",
          "2017-05-09T02:06:14.794520",
          "2017-05-10T02:07:13.972602",
          "2017-05-11T02:08:13.150684",
          "2017-05-12T02:09:12.328767",
          "2017-05-13T02:10:11.506849",
          "2017-05-14T02:11:10.684931",
          "2017-05-15T02:12:09.863013",
          "2017-05-16T02:13:09.041095",
          "2017-05-17T02:14:08.219177",
          "2017-05-18T02:15:07.397260",
          "2017-05-19T02:16:06.575342",
          "2017-05-20T02:17:05.753424",
          "2017-05-21T02:18:04.931506",
          "2017-05-22T02:19:04.109588",
          "2017-05-23T02:20:03.287671",
          "2017-05-24T02:21:02.465753",
          "2017-05-25T02:22:01.643835",
          "2017-05-26T02:23:00.821917",
          "2017-05-27T02:24:00",
          "2017-05-28T02:24:59.178082",
          "2017-05-29T02:25:58.356164",
          "2017-05-30T02:26:57.534246",
          "2017-05-31T02:27:56.712328",
          "2017-06-01T02:28:55.890411",
          "2017-06-02T02:29:55.068493",
          "2017-06-03T02:30:54.246575",
          "2017-06-04T02:31:53.424657",
          "2017-06-05T02:32:52.602739",
          "2017-06-06T02:33:51.780822",
          "2017-06-07T02:34:50.958904",
          "2017-06-08T02:35:50.136986",
          "2017-06-09T02:36:49.315068",
          "2017-06-10T02:37:48.493150",
          "2017-06-11T02:38:47.671232",
          "2017-06-12T02:39:46.849315",
          "2017-06-13T02:40:46.027397",
          "2017-06-14T02:41:45.205479",
          "2017-06-15T02:42:44.383561",
          "2017-06-16T02:43:43.561643",
          "2017-06-17T02:44:42.739726",
          "2017-06-18T02:45:41.917808",
          "2017-06-19T02:46:41.095890",
          "2017-06-20T02:47:40.273972",
          "2017-06-21T02:48:39.452054",
          "2017-06-22T02:49:38.630137",
          "2017-06-23T02:50:37.808219",
          "2017-06-24T02:51:36.986301",
          "2017-06-25T02:52:36.164383",
          "2017-06-26T02:53:35.342465",
          "2017-06-27T02:54:34.520547",
          "2017-06-28T02:55:33.698630",
          "2017-06-29T02:56:32.876712",
          "2017-06-30T02:57:32.054794",
          "2017-07-01T02:58:31.232876",
          "2017-07-02T02:59:30.410958",
          "2017-07-03T03:00:29.589041",
          "2017-07-04T03:01:28.767123",
          "2017-07-05T03:02:27.945205",
          "2017-07-06T03:03:27.123287",
          "2017-07-07T03:04:26.301369",
          "2017-07-08T03:05:25.479452",
          "2017-07-09T03:06:24.657534",
          "2017-07-10T03:07:23.835616",
          "2017-07-11T03:08:23.013698",
          "2017-07-12T03:09:22.191780",
          "2017-07-13T03:10:21.369862",
          "2017-07-14T03:11:20.547945",
          "2017-07-15T03:12:19.726027",
          "2017-07-16T03:13:18.904109",
          "2017-07-17T03:14:18.082191",
          "2017-07-18T03:15:17.260273",
          "2017-07-19T03:16:16.438356",
          "2017-07-20T03:17:15.616438",
          "2017-07-21T03:18:14.794520",
          "2017-07-22T03:19:13.972602",
          "2017-07-23T03:20:13.150684",
          "2017-07-24T03:21:12.328767",
          "2017-07-25T03:22:11.506849",
          "2017-07-26T03:23:10.684931",
          "2017-07-27T03:24:09.863013",
          "2017-07-28T03:25:09.041095",
          "2017-07-29T03:26:08.219177",
          "2017-07-30T03:27:07.397260",
          "2017-07-31T03:28:06.575342",
          "2017-08-01T03:29:05.753424",
          "2017-08-02T03:30:04.931506",
          "2017-08-03T03:31:04.109588",
          "2017-08-04T03:32:03.287671",
          "2017-08-05T03:33:02.465753",
          "2017-08-06T03:34:01.643835",
          "2017-08-07T03:35:00.821917",
          "2017-08-08T03:36:00",
          "2017-08-09T03:36:59.178082",
          "2017-08-10T03:37:58.356164",
          "2017-08-11T03:38:57.534246",
          "2017-08-12T03:39:56.712328",
          "2017-08-13T03:40:55.890411",
          "2017-08-14T03:41:55.068493",
          "2017-08-15T03:42:54.246575",
          "2017-08-16T03:43:53.424657",
          "2017-08-17T03:44:52.602739",
          "2017-08-18T03:45:51.780822",
          "2017-08-19T03:46:50.958904",
          "2017-08-20T03:47:50.136986",
          "2017-08-21T03:48:49.315068",
          "2017-08-22T03:49:48.493150",
          "2017-08-23T03:50:47.671232",
          "2017-08-24T03:51:46.849315",
          "2017-08-25T03:52:46.027397",
          "2017-08-26T03:53:45.205479",
          "2017-08-27T03:54:44.383561",
          "2017-08-28T03:55:43.561643",
          "2017-08-29T03:56:42.739726",
          "2017-08-30T03:57:41.917808",
          "2017-08-31T03:58:41.095890",
          "2017-09-01T03:59:40.273972",
          "2017-09-02T04:00:39.452054",
          "2017-09-03T04:01:38.630137",
          "2017-09-04T04:02:37.808219",
          "2017-09-05T04:03:36.986301",
          "2017-09-06T04:04:36.164383",
          "2017-09-07T04:05:35.342465",
          "2017-09-08T04:06:34.520547",
          "2017-09-09T04:07:33.698630",
          "2017-09-10T04:08:32.876712",
          "2017-09-11T04:09:32.054794",
          "2017-09-12T04:10:31.232876",
          "2017-09-13T04:11:30.410958",
          "2017-09-14T04:12:29.589041",
          "2017-09-15T04:13:28.767123",
          "2017-09-16T04:14:27.945205",
          "2017-09-17T04:15:27.123287",
          "2017-09-18T04:16:26.301369",
          "2017-09-19T04:17:25.479452",
          "2017-09-20T04:18:24.657534",
          "2017-09-21T04:19:23.835616",
          "2017-09-22T04:20:23.013698",
          "2017-09-23T04:21:22.191780",
          "2017-09-24T04:22:21.369862",
          "2017-09-25T04:23:20.547945",
          "2017-09-26T04:24:19.726027",
          "2017-09-27T04:25:18.904109",
          "2017-09-28T04:26:18.082191",
          "2017-09-29T04:27:17.260273",
          "2017-09-30T04:28:16.438356",
          "2017-10-01T04:29:15.616438",
          "2017-10-02T04:30:14.794520",
          "2017-10-03T04:31:13.972602",
          "2017-10-04T04:32:13.150684",
          "2017-10-05T04:33:12.328767",
          "2017-10-06T04:34:11.506849",
          "2017-10-07T04:35:10.684931",
          "2017-10-08T04:36:09.863013",
          "2017-10-09T04:37:09.041095",
          "2017-10-10T04:38:08.219177",
          "2017-10-11T04:39:07.397260",
          "2017-10-12T04:40:06.575342",
          "2017-10-13T04:41:05.753424",
          "2017-10-14T04:42:04.931506",
          "2017-10-15T04:43:04.109588",
          "2017-10-16T04:44:03.287671",
          "2017-10-17T04:45:02.465753",
          "2017-10-18T04:46:01.643835",
          "2017-10-19T04:47:00.821917",
          "2017-10-20T04:48:00",
          "2017-10-21T04:48:59.178082",
          "2017-10-22T04:49:58.356164",
          "2017-10-23T04:50:57.534246",
          "2017-10-24T04:51:56.712328",
          "2017-10-25T04:52:55.890411",
          "2017-10-26T04:53:55.068493",
          "2017-10-27T04:54:54.246575",
          "2017-10-28T04:55:53.424657",
          "2017-10-29T04:56:52.602739",
          "2017-10-30T04:57:51.780822",
          "2017-10-31T04:58:50.958904",
          "2017-11-01T04:59:50.136986",
          "2017-11-02T05:00:49.315068",
          "2017-11-03T05:01:48.493150",
          "2017-11-04T05:02:47.671232",
          "2017-11-05T05:03:46.849315",
          "2017-11-06T05:04:46.027397",
          "2017-11-07T05:05:45.205479",
          "2017-11-08T05:06:44.383561",
          "2017-11-09T05:07:43.561643",
          "2017-11-10T05:08:42.739726",
          "2017-11-11T05:09:41.917808",
          "2017-11-12T05:10:41.095890",
          "2017-11-13T05:11:40.273972",
          "2017-11-14T05:12:39.452054",
          "2017-11-15T05:13:38.630137",
          "2017-11-16T05:14:37.808219",
          "2017-11-17T05:15:36.986301",
          "2017-11-18T05:16:36.164383",
          "2017-11-19T05:17:35.342465",
          "2017-11-20T05:18:34.520547",
          "2017-11-21T05:19:33.698630",
          "2017-11-22T05:20:32.876712",
          "2017-11-23T05:21:32.054794",
          "2017-11-24T05:22:31.232876",
          "2017-11-25T05:23:30.410958",
          "2017-11-26T05:24:29.589041",
          "2017-11-27T05:25:28.767123",
          "2017-11-28T05:26:27.945205",
          "2017-11-29T05:27:27.123287",
          "2017-11-30T05:28:26.301369",
          "2017-12-01T05:29:25.479452",
          "2017-12-02T05:30:24.657534",
          "2017-12-03T05:31:23.835616",
          "2017-12-04T05:32:23.013698",
          "2017-12-05T05:33:22.191780",
          "2017-12-06T05:34:21.369862",
          "2017-12-07T05:35:20.547945",
          "2017-12-08T05:36:19.726027",
          "2017-12-09T05:37:18.904109",
          "2017-12-10T05:38:18.082191",
          "2017-12-11T05:39:17.260273",
          "2017-12-12T05:40:16.438356",
          "2017-12-13T05:41:15.616438",
          "2017-12-14T05:42:14.794520",
          "2017-12-15T05:43:13.972602",
          "2017-12-16T05:44:13.150684",
          "2017-12-17T05:45:12.328767",
          "2017-12-18T05:46:11.506849",
          "2017-12-19T05:47:10.684931",
          "2017-12-20T05:48:09.863013",
          "2017-12-21T05:49:09.041095",
          "2017-12-22T05:50:08.219177",
          "2017-12-23T05:51:07.397260",
          "2017-12-24T05:52:06.575342",
          "2017-12-25T05:53:05.753424",
          "2017-12-26T05:54:04.931506",
          "2017-12-27T05:55:04.109588",
          "2017-12-28T05:56:03.287671",
          "2017-12-29T05:57:02.465753",
          "2017-12-30T05:58:01.643835",
          "2017-12-31T05:59:00.821917"
         ],
         "xaxis": "x2",
         "y": [
          -125755.62081563927,
          -126966.8909850604,
          -126424.14612291536,
          -124208.7189509617,
          -120433.92773958163,
          -115242.47271297348,
          -108803.05138931797,
          -101306.74873853238,
          -92962.14257604617,
          -83990.73448350799,
          -74621.73850041397,
          -65086.77813148887,
          -55614.449261781534,
          -46425.537575278024,
          -37727.376316861046,
          -29709.67122824476,
          -22540.251794835207,
          -16361.448106385464,
          -11287.47418727536,
          -7401.841440254547,
          -4756.286109541463,
          -3370.1324095297487,
          -3230.551819414108,
          -4293.64505967994,
          -6486.209207389331,
          -9708.354826355282,
          -13836.649044573154,
          -18727.84649339111,
          -24223.0567889798,
          -30152.309277841912,
          -36338.97180801615,
          -42604.940987190545,
          -48775.095817491645,
          -54681.914089946804,
          -60169.788861840214,
          -65098.631864174495,
          -69347.60882047229,
          -72817.64777952281,
          -75433.62599690724,
          -77145.79532659701,
          -77930.48873949752,
          -77790.06814973577,
          -76752.23553784344,
          -74868.5587500556,
          -72212.42650827196,
          -68876.38254451496,
          -64969.18299477632,
          -60612.07172094418,
          -55935.155508448806,
          -51073.426421814154,
          -46162.76330535083,
          -41335.93718846689,
          -36719.064016190576,
          -32427.772516936286,
          -28564.30572744661,
          -25214.79407970091,
          -22447.108831803216,
          -20309.271987570442,
          -18828.592493528395,
          -18011.194115726765,
          -17842.43062980008,
          -18287.779077108415,
          -19294.35326579983,
          -20792.874135215967,
          -22700.22232894099,
          -24922.25711521431,
          -27356.973420464597,
          -29897.842052934004,
          -32437.26907619588,
          -34869.89577242536,
          -37096.07997673361,
          -39024.868944813126,
          -40576.81945684856,
          -41686.41701198933,
          -42303.989305948504,
          -42397.24011644824,
          -41952.105579722076,
          -40973.11824945405,
          -39483.18505499562,
          -37522.780719481816,
          -35148.73103208168,
          -32432.27410835394,
          -29456.913157792456,
          -26315.801299881077,
          -23108.86399185496,
          -19939.690277524358,
          -16912.503687010292,
          -14128.756998191753,
          -11684.18353508489,
          -9665.840342459627,
          -8149.4367360410915,
          -7197.081241944598,
          -6855.263994042239,
          -7153.482633863542,
          -8103.271272075719,
          -9697.77593266951,
          -11911.89476047803,
          -14702.809184860156,
          -18011.28778500295,
          -21763.212504715462,
          -25871.645595252994,
          -30239.23588706147,
          -34760.96766951346,
          -39326.85594250084,
          -43825.29394346611,
          -48145.91341804003,
          -52182.654297413326,
          -55836.68515625885,
          -59018.90042705162,
          -61652.54409840487,
          -63675.04476090897,
          -65039.65690610816,
          -65716.60243902325,
          -65693.72436123677,
          -64976.65641662252,
          -63588.48453117297,
          -61568.92045377757,
          -58973.032546437724,
          -55869.52201848571,
          -52338.828144412975,
          -48470.57061196491,
          -44361.12169683061,
          -40110.857405754214,
          -35821.37238420214,
          -31592.658215674797,
          -27520.61611134243,
          -23694.246399030184,
          -20193.567845238333,
          -17087.58899862267,
          -14432.68064358014,
          -12271.319348785852,
          -10631.369687103796,
          -9525.560624501839,
          -8951.66068592257,
          -8892.951224125025,
          -9319.144846512403,
          -10187.64603149913,
          -11445.19778938261,
          -13029.759410389443,
          -14872.615379524379,
          -16900.62937772623,
          -19038.60016930385,
          -21211.497245793104,
          -23346.880929031773,
          -25376.941010480074,
          -27240.462726951904,
          -28884.53502050237,
          -30265.869728938444,
          -31351.9741342134,
          -32121.768218792644,
          -32565.925774906744,
          -32686.81658663681,
          -32498.075187201568,
          -32023.836770406906,
          -31297.62890288581,
          -30361.004337816445,
          -29261.938697841488,
          -28053.054289420612,
          -26789.71460777729,
          -25528.14059625884,
          -24323.3901597822,
          -23227.55802431837,
          -22288.034567035393,
          -21545.95755032981,
          -21034.93622136651,
          -20779.963433108056,
          -20796.71906036993,
          -21091.148392254945,
          -21659.38143263046,
          -22487.99271599139,
          -23554.525889806795,
          -24828.41243822981,
          -26272.059917949977,
          -27842.20674997212,
          -29491.444787938242,
          -31169.884824259047,
          -32826.79222938874,
          -34412.42792641055,
          -35879.64625972493,
          -37185.48682925025,
          -38292.603284475896,
          -39170.43002825888,
          -39796.23410149154,
          -40155.763329569316,
          -40243.66800697874,
          -40063.601889151156,
          -39628.00811588402,
          -38957.63450061189,
          -38080.71306652867,
          -37031.93336226474,
          -35851.17672028724,
          -34582.06448939313,
          -33270.45578908258,
          -31962.72471972214,
          -30704.168871665785,
          -29537.385963889104,
          -28500.76072903356,
          -27627.09096210961,
          -26942.456780516368,
          -26465.226905184343,
          -26205.438606060987,
          -26164.41799885365,
          -26334.720146296007,
          -26700.387355168397,
          -27237.489544234188,
          -27914.999633064544,
          -28695.891550077144,
          -29538.483906853933,
          -30397.974239965883,
          -31228.05675392758,
          -31982.718475477483,
          -32617.953821550145,
          -33093.488086325415,
          -33374.390061423495,
          -33432.52576011056,
          -33247.8016810411,
          -32809.15473428651,
          -32115.235374518623,
          -31174.771680785758,
          -30006.570387418178,
          -28639.23448409701,
          -27110.390264756013,
          -25465.709825444646,
          -23757.557343989774,
          -22043.37156346379,
          -20383.799471781385,
          -18840.74896094813,
          -17475.134070743483,
          -16344.76587545568,
          -15502.16568221906,
          -14992.487991523509,
          -14851.602895696875,
          -15104.404188929428,
          -15763.38896206535,
          -16827.594909192692,
          -18281.902082162815,
          -20096.77340127733,
          -22228.31662964993,
          -24619.00210994305,
          -27198.609100126436,
          -29885.688578933303,
          -32589.393015513022,
          -35211.67807522533,
          -37649.642156578855,
          -39798.3939577789,
          -41553.764113872065,
          -42815.244823558314,
          -43488.89004839919,
          -43490.11993430211,
          -42746.363345387996,
          -41199.44167072235,
          -38807.61709019447,
          -35547.26370593956,
          -31414.036871849923,
          -26423.80880250473,
          -20612.597576401375,
          -14036.430630252227,
          -6770.449525742775,
          1092.4632633821839,
          9443.648443519616,
          18160.591672405353,
          27110.212288178565,
          36151.51337737885,
          45138.95593899903,
          53926.001653448955,
          62368.22345928856,
          70327.4117046178,
          77674.5423737245,
          84293.05324650502,
          90081.72486116763,
          94957.24150515218,
          98856.04663338664,
          101736.25571980803,
          103578.45173442722,
          104386.20971876036,
          104185.9762148519,
          103026.34921335573,
          100976.87966111081,
          98126.1981847869,
          94579.7875393487,
          90457.28646269647,
          85889.40290350394,
          81014.83820848525,
          75976.50450937131,
          70918.19363686572,
          65981.00815239098,
          61299.95915740061,
          57000.72528205312,
          53196.947288125026,
          49987.398664670276,
          47454.09848323853,
          45660.65730339718,
          44651.19723036135,
          44449.86894013264,
          45060.82041367921,
          46468.843101234634,
          48640.471279721016,
          51525.5831915777,
          55059.477807789954,
          59165.100711690844,
          63755.97550804553,
          68738.93433132317,
          74017.15459804297,
          79493.17713848196,
          85071.91431566759,
          90663.16858224127,
          96184.54868737253,
          101563.41151579349,
          106738.73219177277,
          111662.51732787407,
          116300.45004089989,
          120632.58947856611,
          124652.97574955625,
          128369.01163457075,
          131800.29716736023,
          134977.05090719054,
          137937.95755076193,
          140728.05206812712,
          143395.98557135044,
          145991.31633916663,
          148561.6927896468,
          151150.09240439223,
          153792.0321585582,
          156513.29271656493,
          159327.6470238449,
          162235.11924829724,
          165220.69879413472,
          168253.38545989487,
          171286.12714490233,
          174255.98197882553,
          177085.0285264392,
          179681.807372018,
          181943.32343982658,
          183757.41485886156,
          185005.81162248223,
          185567.2794253122,
          185321.1676955965,
          184151.0779780906,
          181948.67915420677,
          178617.33223244466,
          174075.679551095,
          168260.9191187853,
          161131.71907341783,
          152670.56421345135,
          142886.06948251618,
          131813.68383467372,
          119516.68851882935,
          106086.02451891708,
          91639.48848217531,
          76320.02817404234,
          60294.242728018464,
          43748.443690408916,
          26885.889867848582,
          9922.634188874375,
          -6917.071650993517,
          -23404.71656669928,
          -39313.61917368545,
          -54423.13643208231,
          -68523.80054392424,
          -81422.08144159609,
          -92944.97144563892,
          -102943.50790674482,
          -111297.08768362536,
          -117915.80562830856,
          -122742.78393830074
         ],
         "yaxis": "y2"
        }
       ],
       "layout": {
        "height": 400,
        "showlegend": false,
        "template": {
         "data": {
          "bar": [
           {
            "error_x": {
             "color": "#2a3f5f"
            },
            "error_y": {
             "color": "#2a3f5f"
            },
            "marker": {
             "line": {
              "color": "#E5ECF6",
              "width": 0.5
             },
             "pattern": {
              "fillmode": "overlay",
              "size": 10,
              "solidity": 0.2
             }
            },
            "type": "bar"
           }
          ],
          "barpolar": [
           {
            "marker": {
             "line": {
              "color": "#E5ECF6",
              "width": 0.5
             },
             "pattern": {
              "fillmode": "overlay",
              "size": 10,
              "solidity": 0.2
             }
            },
            "type": "barpolar"
           }
          ],
          "carpet": [
           {
            "aaxis": {
             "endlinecolor": "#2a3f5f",
             "gridcolor": "white",
             "linecolor": "white",
             "minorgridcolor": "white",
             "startlinecolor": "#2a3f5f"
            },
            "baxis": {
             "endlinecolor": "#2a3f5f",
             "gridcolor": "white",
             "linecolor": "white",
             "minorgridcolor": "white",
             "startlinecolor": "#2a3f5f"
            },
            "type": "carpet"
           }
          ],
          "choropleth": [
           {
            "colorbar": {
             "outlinewidth": 0,
             "ticks": ""
            },
            "type": "choropleth"
           }
          ],
          "contour": [
           {
            "colorbar": {
             "outlinewidth": 0,
             "ticks": ""
            },
            "colorscale": [
             [
              0,
              "#0d0887"
             ],
             [
              0.1111111111111111,
              "#46039f"
             ],
             [
              0.2222222222222222,
              "#7201a8"
             ],
             [
              0.3333333333333333,
              "#9c179e"
             ],
             [
              0.4444444444444444,
              "#bd3786"
             ],
             [
              0.5555555555555556,
              "#d8576b"
             ],
             [
              0.6666666666666666,
              "#ed7953"
             ],
             [
              0.7777777777777778,
              "#fb9f3a"
             ],
             [
              0.8888888888888888,
              "#fdca26"
             ],
             [
              1,
              "#f0f921"
             ]
            ],
            "type": "contour"
           }
          ],
          "contourcarpet": [
           {
            "colorbar": {
             "outlinewidth": 0,
             "ticks": ""
            },
            "type": "contourcarpet"
           }
          ],
          "heatmap": [
           {
            "colorbar": {
             "outlinewidth": 0,
             "ticks": ""
            },
            "colorscale": [
             [
              0,
              "#0d0887"
             ],
             [
              0.1111111111111111,
              "#46039f"
             ],
             [
              0.2222222222222222,
              "#7201a8"
             ],
             [
              0.3333333333333333,
              "#9c179e"
             ],
             [
              0.4444444444444444,
              "#bd3786"
             ],
             [
              0.5555555555555556,
              "#d8576b"
             ],
             [
              0.6666666666666666,
              "#ed7953"
             ],
             [
              0.7777777777777778,
              "#fb9f3a"
             ],
             [
              0.8888888888888888,
              "#fdca26"
             ],
             [
              1,
              "#f0f921"
             ]
            ],
            "type": "heatmap"
           }
          ],
          "heatmapgl": [
           {
            "colorbar": {
             "outlinewidth": 0,
             "ticks": ""
            },
            "colorscale": [
             [
              0,
              "#0d0887"
             ],
             [
              0.1111111111111111,
              "#46039f"
             ],
             [
              0.2222222222222222,
              "#7201a8"
             ],
             [
              0.3333333333333333,
              "#9c179e"
             ],
             [
              0.4444444444444444,
              "#bd3786"
             ],
             [
              0.5555555555555556,
              "#d8576b"
             ],
             [
              0.6666666666666666,
              "#ed7953"
             ],
             [
              0.7777777777777778,
              "#fb9f3a"
             ],
             [
              0.8888888888888888,
              "#fdca26"
             ],
             [
              1,
              "#f0f921"
             ]
            ],
            "type": "heatmapgl"
           }
          ],
          "histogram": [
           {
            "marker": {
             "pattern": {
              "fillmode": "overlay",
              "size": 10,
              "solidity": 0.2
             }
            },
            "type": "histogram"
           }
          ],
          "histogram2d": [
           {
            "colorbar": {
             "outlinewidth": 0,
             "ticks": ""
            },
            "colorscale": [
             [
              0,
              "#0d0887"
             ],
             [
              0.1111111111111111,
              "#46039f"
             ],
             [
              0.2222222222222222,
              "#7201a8"
             ],
             [
              0.3333333333333333,
              "#9c179e"
             ],
             [
              0.4444444444444444,
              "#bd3786"
             ],
             [
              0.5555555555555556,
              "#d8576b"
             ],
             [
              0.6666666666666666,
              "#ed7953"
             ],
             [
              0.7777777777777778,
              "#fb9f3a"
             ],
             [
              0.8888888888888888,
              "#fdca26"
             ],
             [
              1,
              "#f0f921"
             ]
            ],
            "type": "histogram2d"
           }
          ],
          "histogram2dcontour": [
           {
            "colorbar": {
             "outlinewidth": 0,
             "ticks": ""
            },
            "colorscale": [
             [
              0,
              "#0d0887"
             ],
             [
              0.1111111111111111,
              "#46039f"
             ],
             [
              0.2222222222222222,
              "#7201a8"
             ],
             [
              0.3333333333333333,
              "#9c179e"
             ],
             [
              0.4444444444444444,
              "#bd3786"
             ],
             [
              0.5555555555555556,
              "#d8576b"
             ],
             [
              0.6666666666666666,
              "#ed7953"
             ],
             [
              0.7777777777777778,
              "#fb9f3a"
             ],
             [
              0.8888888888888888,
              "#fdca26"
             ],
             [
              1,
              "#f0f921"
             ]
            ],
            "type": "histogram2dcontour"
           }
          ],
          "mesh3d": [
           {
            "colorbar": {
             "outlinewidth": 0,
             "ticks": ""
            },
            "type": "mesh3d"
           }
          ],
          "parcoords": [
           {
            "line": {
             "colorbar": {
              "outlinewidth": 0,
              "ticks": ""
             }
            },
            "type": "parcoords"
           }
          ],
          "pie": [
           {
            "automargin": true,
            "type": "pie"
           }
          ],
          "scatter": [
           {
            "fillpattern": {
             "fillmode": "overlay",
             "size": 10,
             "solidity": 0.2
            },
            "type": "scatter"
           }
          ],
          "scatter3d": [
           {
            "line": {
             "colorbar": {
              "outlinewidth": 0,
              "ticks": ""
             }
            },
            "marker": {
             "colorbar": {
              "outlinewidth": 0,
              "ticks": ""
             }
            },
            "type": "scatter3d"
           }
          ],
          "scattercarpet": [
           {
            "marker": {
             "colorbar": {
              "outlinewidth": 0,
              "ticks": ""
             }
            },
            "type": "scattercarpet"
           }
          ],
          "scattergeo": [
           {
            "marker": {
             "colorbar": {
              "outlinewidth": 0,
              "ticks": ""
             }
            },
            "type": "scattergeo"
           }
          ],
          "scattergl": [
           {
            "marker": {
             "colorbar": {
              "outlinewidth": 0,
              "ticks": ""
             }
            },
            "type": "scattergl"
           }
          ],
          "scattermapbox": [
           {
            "marker": {
             "colorbar": {
              "outlinewidth": 0,
              "ticks": ""
             }
            },
            "type": "scattermapbox"
           }
          ],
          "scatterpolar": [
           {
            "marker": {
             "colorbar": {
              "outlinewidth": 0,
              "ticks": ""
             }
            },
            "type": "scatterpolar"
           }
          ],
          "scatterpolargl": [
           {
            "marker": {
             "colorbar": {
              "outlinewidth": 0,
              "ticks": ""
             }
            },
            "type": "scatterpolargl"
           }
          ],
          "scatterternary": [
           {
            "marker": {
             "colorbar": {
              "outlinewidth": 0,
              "ticks": ""
             }
            },
            "type": "scatterternary"
           }
          ],
          "surface": [
           {
            "colorbar": {
             "outlinewidth": 0,
             "ticks": ""
            },
            "colorscale": [
             [
              0,
              "#0d0887"
             ],
             [
              0.1111111111111111,
              "#46039f"
             ],
             [
              0.2222222222222222,
              "#7201a8"
             ],
             [
              0.3333333333333333,
              "#9c179e"
             ],
             [
              0.4444444444444444,
              "#bd3786"
             ],
             [
              0.5555555555555556,
              "#d8576b"
             ],
             [
              0.6666666666666666,
              "#ed7953"
             ],
             [
              0.7777777777777778,
              "#fb9f3a"
             ],
             [
              0.8888888888888888,
              "#fdca26"
             ],
             [
              1,
              "#f0f921"
             ]
            ],
            "type": "surface"
           }
          ],
          "table": [
           {
            "cells": {
             "fill": {
              "color": "#EBF0F8"
             },
             "line": {
              "color": "white"
             }
            },
            "header": {
             "fill": {
              "color": "#C8D4E3"
             },
             "line": {
              "color": "white"
             }
            },
            "type": "table"
           }
          ]
         },
         "layout": {
          "annotationdefaults": {
           "arrowcolor": "#2a3f5f",
           "arrowhead": 0,
           "arrowwidth": 1
          },
          "autotypenumbers": "strict",
          "coloraxis": {
           "colorbar": {
            "outlinewidth": 0,
            "ticks": ""
           }
          },
          "colorscale": {
           "diverging": [
            [
             0,
             "#8e0152"
            ],
            [
             0.1,
             "#c51b7d"
            ],
            [
             0.2,
             "#de77ae"
            ],
            [
             0.3,
             "#f1b6da"
            ],
            [
             0.4,
             "#fde0ef"
            ],
            [
             0.5,
             "#f7f7f7"
            ],
            [
             0.6,
             "#e6f5d0"
            ],
            [
             0.7,
             "#b8e186"
            ],
            [
             0.8,
             "#7fbc41"
            ],
            [
             0.9,
             "#4d9221"
            ],
            [
             1,
             "#276419"
            ]
           ],
           "sequential": [
            [
             0,
             "#0d0887"
            ],
            [
             0.1111111111111111,
             "#46039f"
            ],
            [
             0.2222222222222222,
             "#7201a8"
            ],
            [
             0.3333333333333333,
             "#9c179e"
            ],
            [
             0.4444444444444444,
             "#bd3786"
            ],
            [
             0.5555555555555556,
             "#d8576b"
            ],
            [
             0.6666666666666666,
             "#ed7953"
            ],
            [
             0.7777777777777778,
             "#fb9f3a"
            ],
            [
             0.8888888888888888,
             "#fdca26"
            ],
            [
             1,
             "#f0f921"
            ]
           ],
           "sequentialminus": [
            [
             0,
             "#0d0887"
            ],
            [
             0.1111111111111111,
             "#46039f"
            ],
            [
             0.2222222222222222,
             "#7201a8"
            ],
            [
             0.3333333333333333,
             "#9c179e"
            ],
            [
             0.4444444444444444,
             "#bd3786"
            ],
            [
             0.5555555555555556,
             "#d8576b"
            ],
            [
             0.6666666666666666,
             "#ed7953"
            ],
            [
             0.7777777777777778,
             "#fb9f3a"
            ],
            [
             0.8888888888888888,
             "#fdca26"
            ],
            [
             1,
             "#f0f921"
            ]
           ]
          },
          "colorway": [
           "#636efa",
           "#EF553B",
           "#00cc96",
           "#ab63fa",
           "#FFA15A",
           "#19d3f3",
           "#FF6692",
           "#B6E880",
           "#FF97FF",
           "#FECB52"
          ],
          "font": {
           "color": "#2a3f5f"
          },
          "geo": {
           "bgcolor": "white",
           "lakecolor": "white",
           "landcolor": "#E5ECF6",
           "showlakes": true,
           "showland": true,
           "subunitcolor": "white"
          },
          "hoverlabel": {
           "align": "left"
          },
          "hovermode": "closest",
          "mapbox": {
           "style": "light"
          },
          "paper_bgcolor": "white",
          "plot_bgcolor": "#E5ECF6",
          "polar": {
           "angularaxis": {
            "gridcolor": "white",
            "linecolor": "white",
            "ticks": ""
           },
           "bgcolor": "#E5ECF6",
           "radialaxis": {
            "gridcolor": "white",
            "linecolor": "white",
            "ticks": ""
           }
          },
          "scene": {
           "xaxis": {
            "backgroundcolor": "#E5ECF6",
            "gridcolor": "white",
            "gridwidth": 2,
            "linecolor": "white",
            "showbackground": true,
            "ticks": "",
            "zerolinecolor": "white"
           },
           "yaxis": {
            "backgroundcolor": "#E5ECF6",
            "gridcolor": "white",
            "gridwidth": 2,
            "linecolor": "white",
            "showbackground": true,
            "ticks": "",
            "zerolinecolor": "white"
           },
           "zaxis": {
            "backgroundcolor": "#E5ECF6",
            "gridcolor": "white",
            "gridwidth": 2,
            "linecolor": "white",
            "showbackground": true,
            "ticks": "",
            "zerolinecolor": "white"
           }
          },
          "shapedefaults": {
           "line": {
            "color": "#2a3f5f"
           }
          },
          "ternary": {
           "aaxis": {
            "gridcolor": "white",
            "linecolor": "white",
            "ticks": ""
           },
           "baxis": {
            "gridcolor": "white",
            "linecolor": "white",
            "ticks": ""
           },
           "bgcolor": "#E5ECF6",
           "caxis": {
            "gridcolor": "white",
            "linecolor": "white",
            "ticks": ""
           }
          },
          "title": {
           "x": 0.05
          },
          "xaxis": {
           "automargin": true,
           "gridcolor": "white",
           "linecolor": "white",
           "ticks": "",
           "title": {
            "standoff": 15
           },
           "zerolinecolor": "white",
           "zerolinewidth": 2
          },
          "yaxis": {
           "automargin": true,
           "gridcolor": "white",
           "linecolor": "white",
           "ticks": "",
           "title": {
            "standoff": 15
           },
           "zerolinecolor": "white",
           "zerolinewidth": 2
          }
         }
        },
        "width": 900,
        "xaxis": {
         "anchor": "y",
         "domain": [
          0,
          1
         ],
         "range": [
          "2009-10-26T18:00:00",
          "2012-03-30T06:00:00"
         ],
         "type": "date"
        },
        "xaxis2": {
         "anchor": "y2",
         "domain": [
          0,
          1
         ],
         "range": [
          "2016-12-13T18:54:02.958904115",
          "2018-01-18T11:04:57.863013581"
         ],
         "tickformat": "%B %e",
         "type": "date"
        },
        "yaxis": {
         "anchor": "x",
         "domain": [
          0.575,
          1
         ],
         "rangemode": "normal",
         "title": {
          "text": "trend"
         },
         "zerolinecolor": "#AAA"
        },
        "yaxis2": {
         "anchor": "x2",
         "domain": [
          0,
          0.425
         ],
         "title": {
          "text": "yearly"
         },
         "zerolinecolor": "#AAA"
        }
       }
      },
      "text/html": [
       "<div>                            <div id=\"c7f01701-0415-40b1-9362-e36147e7453f\" class=\"plotly-graph-div\" style=\"height:400px; width:900px;\"></div>            <script type=\"text/javascript\">                require([\"plotly\"], function(Plotly) {                    window.PLOTLYENV=window.PLOTLYENV || {};                                    if (document.getElementById(\"c7f01701-0415-40b1-9362-e36147e7453f\")) {                    Plotly.newPlot(                        \"c7f01701-0415-40b1-9362-e36147e7453f\",                        [{\"line\":{\"color\":\"#0072B2\",\"width\":2},\"mode\":\"lines\",\"name\":\"trend\",\"x\":[\"2009-12-06T00:00:00\",\"2009-12-13T00:00:00\",\"2009-12-20T00:00:00\",\"2009-12-27T00:00:00\",\"2010-01-03T00:00:00\",\"2010-01-10T00:00:00\",\"2010-01-17T00:00:00\",\"2010-01-24T00:00:00\",\"2010-01-31T00:00:00\",\"2010-02-07T00:00:00\",\"2010-02-14T00:00:00\",\"2010-02-21T00:00:00\",\"2010-02-28T00:00:00\",\"2010-03-07T00:00:00\",\"2010-03-14T00:00:00\",\"2010-03-21T00:00:00\",\"2010-03-28T00:00:00\",\"2010-04-04T00:00:00\",\"2010-04-11T00:00:00\",\"2010-04-18T00:00:00\",\"2010-04-25T00:00:00\",\"2010-05-02T00:00:00\",\"2010-05-09T00:00:00\",\"2010-05-16T00:00:00\",\"2010-05-23T00:00:00\",\"2010-05-30T00:00:00\",\"2010-06-06T00:00:00\",\"2010-06-13T00:00:00\",\"2010-06-20T00:00:00\",\"2010-06-27T00:00:00\",\"2010-07-04T00:00:00\",\"2010-07-11T00:00:00\",\"2010-07-18T00:00:00\",\"2010-07-25T00:00:00\",\"2010-08-01T00:00:00\",\"2010-08-08T00:00:00\",\"2010-08-15T00:00:00\",\"2010-08-22T00:00:00\",\"2010-08-29T00:00:00\",\"2010-09-05T00:00:00\",\"2010-09-12T00:00:00\",\"2010-09-19T00:00:00\",\"2010-09-26T00:00:00\",\"2010-10-03T00:00:00\",\"2010-10-10T00:00:00\",\"2010-10-17T00:00:00\",\"2010-10-24T00:00:00\",\"2010-10-31T00:00:00\",\"2010-11-07T00:00:00\",\"2010-11-14T00:00:00\",\"2010-11-21T00:00:00\",\"2010-11-28T00:00:00\",\"2010-12-05T00:00:00\",\"2010-12-12T00:00:00\",\"2010-12-19T00:00:00\",\"2010-12-26T00:00:00\",\"2011-01-02T00:00:00\",\"2011-01-09T00:00:00\",\"2011-01-16T00:00:00\",\"2011-01-23T00:00:00\",\"2011-01-30T00:00:00\",\"2011-02-06T00:00:00\",\"2011-02-13T00:00:00\",\"2011-02-20T00:00:00\",\"2011-02-27T00:00:00\",\"2011-03-06T00:00:00\",\"2011-03-13T00:00:00\",\"2011-03-20T00:00:00\",\"2011-03-27T00:00:00\",\"2011-04-03T00:00:00\",\"2011-04-10T00:00:00\",\"2011-04-17T00:00:00\",\"2011-04-24T00:00:00\",\"2011-05-01T00:00:00\",\"2011-05-08T00:00:00\",\"2011-05-15T00:00:00\",\"2011-05-22T00:00:00\",\"2011-05-29T00:00:00\",\"2011-06-05T00:00:00\",\"2011-06-12T00:00:00\",\"2011-06-19T00:00:00\",\"2011-06-26T00:00:00\",\"2011-07-03T00:00:00\",\"2011-07-10T00:00:00\",\"2011-07-17T00:00:00\",\"2011-07-24T00:00:00\",\"2011-07-31T00:00:00\",\"2011-08-07T00:00:00\",\"2011-08-14T00:00:00\",\"2011-08-21T00:00:00\",\"2011-08-28T00:00:00\",\"2011-09-04T00:00:00\",\"2011-09-11T00:00:00\",\"2011-09-18T00:00:00\",\"2011-09-25T00:00:00\",\"2011-10-02T00:00:00\",\"2011-10-09T00:00:00\",\"2011-10-16T00:00:00\",\"2011-10-23T00:00:00\",\"2011-10-30T00:00:00\",\"2011-11-06T00:00:00\",\"2011-11-13T00:00:00\",\"2011-11-20T00:00:00\",\"2011-11-27T00:00:00\",\"2011-12-04T00:00:00\",\"2011-12-11T00:00:00\",\"2011-12-12T00:00:00\",\"2011-12-13T00:00:00\",\"2011-12-14T00:00:00\",\"2011-12-15T00:00:00\",\"2011-12-16T00:00:00\",\"2011-12-17T00:00:00\",\"2011-12-18T00:00:00\",\"2011-12-19T00:00:00\",\"2011-12-20T00:00:00\",\"2011-12-21T00:00:00\",\"2011-12-22T00:00:00\",\"2011-12-23T00:00:00\",\"2011-12-24T00:00:00\",\"2011-12-25T00:00:00\",\"2011-12-26T00:00:00\",\"2011-12-27T00:00:00\",\"2011-12-28T00:00:00\",\"2011-12-29T00:00:00\",\"2011-12-30T00:00:00\",\"2011-12-31T00:00:00\",\"2012-01-01T00:00:00\",\"2012-01-02T00:00:00\",\"2012-01-03T00:00:00\",\"2012-01-04T00:00:00\",\"2012-01-05T00:00:00\",\"2012-01-06T00:00:00\",\"2012-01-07T00:00:00\",\"2012-01-08T00:00:00\",\"2012-01-09T00:00:00\",\"2012-01-10T00:00:00\",\"2012-01-11T00:00:00\",\"2012-01-12T00:00:00\",\"2012-01-13T00:00:00\",\"2012-01-14T00:00:00\",\"2012-01-15T00:00:00\",\"2012-01-16T00:00:00\",\"2012-01-17T00:00:00\",\"2012-01-18T00:00:00\",\"2012-01-19T00:00:00\",\"2012-01-20T00:00:00\",\"2012-01-21T00:00:00\",\"2012-01-22T00:00:00\",\"2012-01-23T00:00:00\",\"2012-01-24T00:00:00\",\"2012-01-25T00:00:00\",\"2012-01-26T00:00:00\",\"2012-01-27T00:00:00\",\"2012-01-28T00:00:00\",\"2012-01-29T00:00:00\",\"2012-01-30T00:00:00\",\"2012-01-31T00:00:00\",\"2012-02-01T00:00:00\",\"2012-02-02T00:00:00\",\"2012-02-03T00:00:00\",\"2012-02-04T00:00:00\",\"2012-02-05T00:00:00\",\"2012-02-06T00:00:00\",\"2012-02-07T00:00:00\",\"2012-02-08T00:00:00\",\"2012-02-09T00:00:00\",\"2012-02-10T00:00:00\",\"2012-02-11T00:00:00\",\"2012-02-12T00:00:00\",\"2012-02-13T00:00:00\",\"2012-02-14T00:00:00\",\"2012-02-15T00:00:00\",\"2012-02-16T00:00:00\",\"2012-02-17T00:00:00\",\"2012-02-18T00:00:00\",\"2012-02-19T00:00:00\"],\"y\":[172744.03145669997,172867.52611508756,172991.02077347512,173114.5154318627,173238.010094696,173361.50475752924,173484.9994203625,173608.49408319575,173731.98874874876,173855.48341430177,173978.9780798548,174102.4727478225,174225.9674157902,174349.4620837579,174472.95674251538,174596.45140127285,174719.9460600303,174843.44071878778,174966.93537291477,175090.4300270418,175213.92468116878,175337.41928866343,175460.91389615808,175584.40850365272,175707.9031033676,175831.39770308248,175954.89230279735,176078.38690251223,176201.88142644297,176325.37595037368,176448.8704743044,176572.36499381973,176695.85951333508,176819.35403285042,176942.84854215532,177066.34305146022,177189.83756076513,177313.33207007,177436.8265704256,177560.32107078118,177683.81557113674,177807.31006515602,177930.8045591753,178054.2990531946,178177.79354067103,178301.2880281475,178424.78251562396,178548.27700540397,178671.771495184,178795.265984964,178918.760474744,179042.0880052546,179165.41553576515,179288.74306627575,179412.07058471817,179535.3981031606,179658.72562160305,179782.05313434463,179905.3806470862,180028.70815982777,180152.03567256933,180275.36175946723,180398.68784636512,180522.01393326305,180645.3400256427,180768.66611802243,180891.99221040212,181015.31829825483,181138.6443861075,181261.97047396022,181385.29656181287,181508.62262658996,181631.94869136703,181755.27475614412,181878.60081281178,182001.92686947942,182125.25292614708,182248.57899881873,182371.90507149036,182495.231144162,182618.55721683367,182741.88329464433,182865.20937245502,182988.5354502657,183111.86152573727,183235.18760120877,183358.51367668033,183481.83975215186,183605.16582762342,183728.49190309492,183851.81797856648,183975.144054038,184098.47012950951,184221.79620498107,184345.1222804526,184468.44835592416,184591.77443139566,184715.10050686722,184838.42658233875,184961.75265781028,185085.0787332818,185208.40480875337,185331.73088422487,185455.05695969643,185578.38303516796,185701.7091106395,185719.32712142114,185736.9451322028,185754.56314298444,185772.18115376608,185789.79916454773,185807.41717532938,185825.03518611102,185842.65319689267,185860.27120767432,185877.889218456,185895.50722923764,185913.1252400193,185930.74325080094,185948.36126158256,185965.9792723642,185983.59728314585,186001.2152939275,186018.83330470914,186036.4513154908,186054.06932627244,186071.6873370541,186089.30534783576,186106.9233586174,186124.54136939906,186142.1593801807,186159.77739096235,186177.39540174397,186195.01341252562,186212.63142330726,186230.24943408894,186247.8674448706,186265.48545565223,186283.10346643388,186300.72147721553,186318.33948799717,186335.95749877882,186353.57550956047,186371.19352034212,186388.81153112376,186406.42954190538,186424.04755268706,186441.6655634687,186459.28357425035,186476.901585032,186494.51959581365,186512.1376065953,186529.75561737694,186547.3736281586,186564.99163894024,186582.6096497219,186600.22766050356,186617.8456712852,186635.46368206682,186653.08169284847,186670.69970363012,186688.31771441177,186705.9357251934,186723.55373597506,186741.1717467567,186758.78975753838,186776.40776832003,186794.02577910168,186811.64378988332,186829.26180066497,186846.87981144662,186864.49782222824,186882.11583300988,186899.73384379153,186917.35185457318,186934.96986535485],\"type\":\"scatter\",\"xaxis\":\"x\",\"yaxis\":\"y\"},{\"line\":{\"color\":\"rgba(0, 114, 178, 0.2)\",\"width\":0},\"mode\":\"lines\",\"name\":\"trend_upper\",\"x\":[\"2009-12-06T00:00:00\",\"2009-12-13T00:00:00\",\"2009-12-20T00:00:00\",\"2009-12-27T00:00:00\",\"2010-01-03T00:00:00\",\"2010-01-10T00:00:00\",\"2010-01-17T00:00:00\",\"2010-01-24T00:00:00\",\"2010-01-31T00:00:00\",\"2010-02-07T00:00:00\",\"2010-02-14T00:00:00\",\"2010-02-21T00:00:00\",\"2010-02-28T00:00:00\",\"2010-03-07T00:00:00\",\"2010-03-14T00:00:00\",\"2010-03-21T00:00:00\",\"2010-03-28T00:00:00\",\"2010-04-04T00:00:00\",\"2010-04-11T00:00:00\",\"2010-04-18T00:00:00\",\"2010-04-25T00:00:00\",\"2010-05-02T00:00:00\",\"2010-05-09T00:00:00\",\"2010-05-16T00:00:00\",\"2010-05-23T00:00:00\",\"2010-05-30T00:00:00\",\"2010-06-06T00:00:00\",\"2010-06-13T00:00:00\",\"2010-06-20T00:00:00\",\"2010-06-27T00:00:00\",\"2010-07-04T00:00:00\",\"2010-07-11T00:00:00\",\"2010-07-18T00:00:00\",\"2010-07-25T00:00:00\",\"2010-08-01T00:00:00\",\"2010-08-08T00:00:00\",\"2010-08-15T00:00:00\",\"2010-08-22T00:00:00\",\"2010-08-29T00:00:00\",\"2010-09-05T00:00:00\",\"2010-09-12T00:00:00\",\"2010-09-19T00:00:00\",\"2010-09-26T00:00:00\",\"2010-10-03T00:00:00\",\"2010-10-10T00:00:00\",\"2010-10-17T00:00:00\",\"2010-10-24T00:00:00\",\"2010-10-31T00:00:00\",\"2010-11-07T00:00:00\",\"2010-11-14T00:00:00\",\"2010-11-21T00:00:00\",\"2010-11-28T00:00:00\",\"2010-12-05T00:00:00\",\"2010-12-12T00:00:00\",\"2010-12-19T00:00:00\",\"2010-12-26T00:00:00\",\"2011-01-02T00:00:00\",\"2011-01-09T00:00:00\",\"2011-01-16T00:00:00\",\"2011-01-23T00:00:00\",\"2011-01-30T00:00:00\",\"2011-02-06T00:00:00\",\"2011-02-13T00:00:00\",\"2011-02-20T00:00:00\",\"2011-02-27T00:00:00\",\"2011-03-06T00:00:00\",\"2011-03-13T00:00:00\",\"2011-03-20T00:00:00\",\"2011-03-27T00:00:00\",\"2011-04-03T00:00:00\",\"2011-04-10T00:00:00\",\"2011-04-17T00:00:00\",\"2011-04-24T00:00:00\",\"2011-05-01T00:00:00\",\"2011-05-08T00:00:00\",\"2011-05-15T00:00:00\",\"2011-05-22T00:00:00\",\"2011-05-29T00:00:00\",\"2011-06-05T00:00:00\",\"2011-06-12T00:00:00\",\"2011-06-19T00:00:00\",\"2011-06-26T00:00:00\",\"2011-07-03T00:00:00\",\"2011-07-10T00:00:00\",\"2011-07-17T00:00:00\",\"2011-07-24T00:00:00\",\"2011-07-31T00:00:00\",\"2011-08-07T00:00:00\",\"2011-08-14T00:00:00\",\"2011-08-21T00:00:00\",\"2011-08-28T00:00:00\",\"2011-09-04T00:00:00\",\"2011-09-11T00:00:00\",\"2011-09-18T00:00:00\",\"2011-09-25T00:00:00\",\"2011-10-02T00:00:00\",\"2011-10-09T00:00:00\",\"2011-10-16T00:00:00\",\"2011-10-23T00:00:00\",\"2011-10-30T00:00:00\",\"2011-11-06T00:00:00\",\"2011-11-13T00:00:00\",\"2011-11-20T00:00:00\",\"2011-11-27T00:00:00\",\"2011-12-04T00:00:00\",\"2011-12-11T00:00:00\",\"2011-12-12T00:00:00\",\"2011-12-13T00:00:00\",\"2011-12-14T00:00:00\",\"2011-12-15T00:00:00\",\"2011-12-16T00:00:00\",\"2011-12-17T00:00:00\",\"2011-12-18T00:00:00\",\"2011-12-19T00:00:00\",\"2011-12-20T00:00:00\",\"2011-12-21T00:00:00\",\"2011-12-22T00:00:00\",\"2011-12-23T00:00:00\",\"2011-12-24T00:00:00\",\"2011-12-25T00:00:00\",\"2011-12-26T00:00:00\",\"2011-12-27T00:00:00\",\"2011-12-28T00:00:00\",\"2011-12-29T00:00:00\",\"2011-12-30T00:00:00\",\"2011-12-31T00:00:00\",\"2012-01-01T00:00:00\",\"2012-01-02T00:00:00\",\"2012-01-03T00:00:00\",\"2012-01-04T00:00:00\",\"2012-01-05T00:00:00\",\"2012-01-06T00:00:00\",\"2012-01-07T00:00:00\",\"2012-01-08T00:00:00\",\"2012-01-09T00:00:00\",\"2012-01-10T00:00:00\",\"2012-01-11T00:00:00\",\"2012-01-12T00:00:00\",\"2012-01-13T00:00:00\",\"2012-01-14T00:00:00\",\"2012-01-15T00:00:00\",\"2012-01-16T00:00:00\",\"2012-01-17T00:00:00\",\"2012-01-18T00:00:00\",\"2012-01-19T00:00:00\",\"2012-01-20T00:00:00\",\"2012-01-21T00:00:00\",\"2012-01-22T00:00:00\",\"2012-01-23T00:00:00\",\"2012-01-24T00:00:00\",\"2012-01-25T00:00:00\",\"2012-01-26T00:00:00\",\"2012-01-27T00:00:00\",\"2012-01-28T00:00:00\",\"2012-01-29T00:00:00\",\"2012-01-30T00:00:00\",\"2012-01-31T00:00:00\",\"2012-02-01T00:00:00\",\"2012-02-02T00:00:00\",\"2012-02-03T00:00:00\",\"2012-02-04T00:00:00\",\"2012-02-05T00:00:00\",\"2012-02-06T00:00:00\",\"2012-02-07T00:00:00\",\"2012-02-08T00:00:00\",\"2012-02-09T00:00:00\",\"2012-02-10T00:00:00\",\"2012-02-11T00:00:00\",\"2012-02-12T00:00:00\",\"2012-02-13T00:00:00\",\"2012-02-14T00:00:00\",\"2012-02-15T00:00:00\",\"2012-02-16T00:00:00\",\"2012-02-17T00:00:00\",\"2012-02-18T00:00:00\",\"2012-02-19T00:00:00\"],\"y\":[172744.03145669997,172867.52611508756,172991.02077347512,173114.5154318627,173238.010094696,173361.50475752924,173484.9994203625,173608.49408319575,173731.98874874876,173855.48341430177,173978.9780798548,174102.4727478225,174225.9674157902,174349.4620837579,174472.95674251538,174596.45140127285,174719.9460600303,174843.44071878778,174966.93537291477,175090.4300270418,175213.92468116878,175337.41928866343,175460.91389615808,175584.40850365272,175707.9031033676,175831.39770308248,175954.89230279735,176078.38690251223,176201.88142644297,176325.37595037368,176448.8704743044,176572.36499381973,176695.85951333508,176819.35403285042,176942.84854215532,177066.34305146022,177189.83756076513,177313.33207007,177436.8265704256,177560.32107078118,177683.81557113674,177807.31006515602,177930.8045591753,178054.2990531946,178177.79354067103,178301.2880281475,178424.78251562396,178548.27700540397,178671.771495184,178795.265984964,178918.760474744,179042.0880052546,179165.41553576515,179288.74306627575,179412.07058471817,179535.3981031606,179658.72562160305,179782.05313434463,179905.3806470862,180028.70815982777,180152.03567256933,180275.36175946723,180398.68784636512,180522.01393326305,180645.3400256427,180768.66611802243,180891.99221040212,181015.31829825483,181138.6443861075,181261.97047396022,181385.29656181287,181508.62262658996,181631.94869136703,181755.27475614412,181878.60081281178,182001.92686947942,182125.25292614708,182248.57899881873,182371.90507149036,182495.231144162,182618.55721683367,182741.88329464433,182865.20937245502,182988.5354502657,183111.86152573727,183235.18760120877,183358.51367668033,183481.83975215186,183605.16582762342,183728.49190309492,183851.81797856648,183975.144054038,184098.47012950951,184221.79620498107,184345.1222804526,184468.44835592416,184591.77443139566,184715.10050686722,184838.42658233875,184961.75265781028,185085.0787332818,185208.40480875337,185331.73088422487,185455.05695969643,185578.38303516796,185701.7091106395,185719.32712142114,185736.9451322028,185754.56314298444,185772.18115376608,185789.79916454773,185807.41717532938,185825.03522479814,185842.65360566226,185860.27196717166,185877.89032826864,185895.50874151397,185913.12736889446,185930.74590153707,185948.3645210111,185965.9832503626,185983.60209561486,186001.2212757846,186018.84023391173,186036.45947431412,186054.0787377701,186071.69792260844,186089.31714837547,186106.93590804355,186124.55515526282,186142.1743740406,186159.79327101103,186177.4126821111,186195.0322347702,186212.65122820754,186230.2705550676,186247.88983463767,186265.50871723884,186283.12779798257,186300.74778164073,186318.36700432323,186335.98694629798,186353.6059143619,186371.22507916452,186388.84415988135,186406.46457957095,186424.08429895685,186441.70439578567,186459.32341375964,186476.9431204609,186494.56298177523,186512.18301144894,186529.80255093944,186547.42251390332,186565.04231580297,186582.66192033858,186600.281582674,186617.90116154263,186635.52121309316,186653.1409337278,186670.76088378546,186688.38049087065,186706.00102384767,186723.61992225237,186741.24061085845,186758.86029212066,186776.47991449156,186794.09972799494,186811.71925081182,186829.33872659563,186846.95817458842,186864.58045462228,186882.2000747732,186899.82015100276,186917.44001929625,186935.06072446602],\"type\":\"scatter\",\"xaxis\":\"x\",\"yaxis\":\"y\"},{\"fill\":\"tonexty\",\"fillcolor\":\"rgba(0, 114, 178, 0.2)\",\"line\":{\"color\":\"rgba(0, 114, 178, 0.2)\",\"width\":0},\"mode\":\"lines\",\"name\":\"trend_lower\",\"x\":[\"2009-12-06T00:00:00\",\"2009-12-13T00:00:00\",\"2009-12-20T00:00:00\",\"2009-12-27T00:00:00\",\"2010-01-03T00:00:00\",\"2010-01-10T00:00:00\",\"2010-01-17T00:00:00\",\"2010-01-24T00:00:00\",\"2010-01-31T00:00:00\",\"2010-02-07T00:00:00\",\"2010-02-14T00:00:00\",\"2010-02-21T00:00:00\",\"2010-02-28T00:00:00\",\"2010-03-07T00:00:00\",\"2010-03-14T00:00:00\",\"2010-03-21T00:00:00\",\"2010-03-28T00:00:00\",\"2010-04-04T00:00:00\",\"2010-04-11T00:00:00\",\"2010-04-18T00:00:00\",\"2010-04-25T00:00:00\",\"2010-05-02T00:00:00\",\"2010-05-09T00:00:00\",\"2010-05-16T00:00:00\",\"2010-05-23T00:00:00\",\"2010-05-30T00:00:00\",\"2010-06-06T00:00:00\",\"2010-06-13T00:00:00\",\"2010-06-20T00:00:00\",\"2010-06-27T00:00:00\",\"2010-07-04T00:00:00\",\"2010-07-11T00:00:00\",\"2010-07-18T00:00:00\",\"2010-07-25T00:00:00\",\"2010-08-01T00:00:00\",\"2010-08-08T00:00:00\",\"2010-08-15T00:00:00\",\"2010-08-22T00:00:00\",\"2010-08-29T00:00:00\",\"2010-09-05T00:00:00\",\"2010-09-12T00:00:00\",\"2010-09-19T00:00:00\",\"2010-09-26T00:00:00\",\"2010-10-03T00:00:00\",\"2010-10-10T00:00:00\",\"2010-10-17T00:00:00\",\"2010-10-24T00:00:00\",\"2010-10-31T00:00:00\",\"2010-11-07T00:00:00\",\"2010-11-14T00:00:00\",\"2010-11-21T00:00:00\",\"2010-11-28T00:00:00\",\"2010-12-05T00:00:00\",\"2010-12-12T00:00:00\",\"2010-12-19T00:00:00\",\"2010-12-26T00:00:00\",\"2011-01-02T00:00:00\",\"2011-01-09T00:00:00\",\"2011-01-16T00:00:00\",\"2011-01-23T00:00:00\",\"2011-01-30T00:00:00\",\"2011-02-06T00:00:00\",\"2011-02-13T00:00:00\",\"2011-02-20T00:00:00\",\"2011-02-27T00:00:00\",\"2011-03-06T00:00:00\",\"2011-03-13T00:00:00\",\"2011-03-20T00:00:00\",\"2011-03-27T00:00:00\",\"2011-04-03T00:00:00\",\"2011-04-10T00:00:00\",\"2011-04-17T00:00:00\",\"2011-04-24T00:00:00\",\"2011-05-01T00:00:00\",\"2011-05-08T00:00:00\",\"2011-05-15T00:00:00\",\"2011-05-22T00:00:00\",\"2011-05-29T00:00:00\",\"2011-06-05T00:00:00\",\"2011-06-12T00:00:00\",\"2011-06-19T00:00:00\",\"2011-06-26T00:00:00\",\"2011-07-03T00:00:00\",\"2011-07-10T00:00:00\",\"2011-07-17T00:00:00\",\"2011-07-24T00:00:00\",\"2011-07-31T00:00:00\",\"2011-08-07T00:00:00\",\"2011-08-14T00:00:00\",\"2011-08-21T00:00:00\",\"2011-08-28T00:00:00\",\"2011-09-04T00:00:00\",\"2011-09-11T00:00:00\",\"2011-09-18T00:00:00\",\"2011-09-25T00:00:00\",\"2011-10-02T00:00:00\",\"2011-10-09T00:00:00\",\"2011-10-16T00:00:00\",\"2011-10-23T00:00:00\",\"2011-10-30T00:00:00\",\"2011-11-06T00:00:00\",\"2011-11-13T00:00:00\",\"2011-11-20T00:00:00\",\"2011-11-27T00:00:00\",\"2011-12-04T00:00:00\",\"2011-12-11T00:00:00\",\"2011-12-12T00:00:00\",\"2011-12-13T00:00:00\",\"2011-12-14T00:00:00\",\"2011-12-15T00:00:00\",\"2011-12-16T00:00:00\",\"2011-12-17T00:00:00\",\"2011-12-18T00:00:00\",\"2011-12-19T00:00:00\",\"2011-12-20T00:00:00\",\"2011-12-21T00:00:00\",\"2011-12-22T00:00:00\",\"2011-12-23T00:00:00\",\"2011-12-24T00:00:00\",\"2011-12-25T00:00:00\",\"2011-12-26T00:00:00\",\"2011-12-27T00:00:00\",\"2011-12-28T00:00:00\",\"2011-12-29T00:00:00\",\"2011-12-30T00:00:00\",\"2011-12-31T00:00:00\",\"2012-01-01T00:00:00\",\"2012-01-02T00:00:00\",\"2012-01-03T00:00:00\",\"2012-01-04T00:00:00\",\"2012-01-05T00:00:00\",\"2012-01-06T00:00:00\",\"2012-01-07T00:00:00\",\"2012-01-08T00:00:00\",\"2012-01-09T00:00:00\",\"2012-01-10T00:00:00\",\"2012-01-11T00:00:00\",\"2012-01-12T00:00:00\",\"2012-01-13T00:00:00\",\"2012-01-14T00:00:00\",\"2012-01-15T00:00:00\",\"2012-01-16T00:00:00\",\"2012-01-17T00:00:00\",\"2012-01-18T00:00:00\",\"2012-01-19T00:00:00\",\"2012-01-20T00:00:00\",\"2012-01-21T00:00:00\",\"2012-01-22T00:00:00\",\"2012-01-23T00:00:00\",\"2012-01-24T00:00:00\",\"2012-01-25T00:00:00\",\"2012-01-26T00:00:00\",\"2012-01-27T00:00:00\",\"2012-01-28T00:00:00\",\"2012-01-29T00:00:00\",\"2012-01-30T00:00:00\",\"2012-01-31T00:00:00\",\"2012-02-01T00:00:00\",\"2012-02-02T00:00:00\",\"2012-02-03T00:00:00\",\"2012-02-04T00:00:00\",\"2012-02-05T00:00:00\",\"2012-02-06T00:00:00\",\"2012-02-07T00:00:00\",\"2012-02-08T00:00:00\",\"2012-02-09T00:00:00\",\"2012-02-10T00:00:00\",\"2012-02-11T00:00:00\",\"2012-02-12T00:00:00\",\"2012-02-13T00:00:00\",\"2012-02-14T00:00:00\",\"2012-02-15T00:00:00\",\"2012-02-16T00:00:00\",\"2012-02-17T00:00:00\",\"2012-02-18T00:00:00\",\"2012-02-19T00:00:00\"],\"y\":[172744.03145669997,172867.52611508756,172991.02077347512,173114.5154318627,173238.010094696,173361.50475752924,173484.9994203625,173608.49408319575,173731.98874874876,173855.48341430177,173978.9780798548,174102.4727478225,174225.9674157902,174349.4620837579,174472.95674251538,174596.45140127285,174719.9460600303,174843.44071878778,174966.93537291477,175090.4300270418,175213.92468116878,175337.41928866343,175460.91389615808,175584.40850365272,175707.9031033676,175831.39770308248,175954.89230279735,176078.38690251223,176201.88142644297,176325.37595037368,176448.8704743044,176572.36499381973,176695.85951333508,176819.35403285042,176942.84854215532,177066.34305146022,177189.83756076513,177313.33207007,177436.8265704256,177560.32107078118,177683.81557113674,177807.31006515602,177930.8045591753,178054.2990531946,178177.79354067103,178301.2880281475,178424.78251562396,178548.27700540397,178671.771495184,178795.265984964,178918.760474744,179042.0880052546,179165.41553576515,179288.74306627575,179412.07058471817,179535.3981031606,179658.72562160305,179782.05313434463,179905.3806470862,180028.70815982777,180152.03567256933,180275.36175946723,180398.68784636512,180522.01393326305,180645.3400256427,180768.66611802243,180891.99221040212,181015.31829825483,181138.6443861075,181261.97047396022,181385.29656181287,181508.62262658996,181631.94869136703,181755.27475614412,181878.60081281178,182001.92686947942,182125.25292614708,182248.57899881873,182371.90507149036,182495.231144162,182618.55721683367,182741.88329464433,182865.20937245502,182988.5354502657,183111.86152573727,183235.18760120877,183358.51367668033,183481.83975215186,183605.16582762342,183728.49190309492,183851.81797856648,183975.144054038,184098.47012950951,184221.79620498107,184345.1222804526,184468.44835592416,184591.77443139566,184715.10050686722,184838.42658233875,184961.75265781028,185085.0787332818,185208.40480875337,185331.73088422487,185455.05695969643,185578.38303516796,185701.7091106395,185719.32712142114,185736.9451322028,185754.56314298444,185772.18115376608,185789.79916454773,185807.41717532938,185825.0350359147,185842.65270489565,185860.27030856741,185877.8878488327,185895.5053184558,185913.12259198955,185930.7399035076,185948.35739373387,185965.97475555222,185983.59198952495,186001.20904930186,186018.82639014113,186036.44354524146,186054.06101933593,186071.6779924479,186089.29495612948,186106.91180720823,186124.52898989263,186142.14579630646,186159.76251195767,186177.37924580142,186194.99629854644,186212.61319320093,186230.2300246111,186247.84702833125,186265.463538551,186283.08012360006,186300.6966878553,186318.31326502975,186335.92998614887,186353.54705939686,186371.1633896273,186388.7800747284,186406.3966810835,186424.0131632552,186441.63003084785,186459.2467158292,186476.8630674356,186494.4797264964,186512.09655871487,186529.71343662468,186547.3302578562,186564.94684199695,186582.5636086266,186600.18022533515,186617.79688687582,186635.41341551268,186653.02947914627,186670.64640244705,186688.26268554933,186705.87867059078,186723.494348192,186741.11013976138,186758.72618950065,186776.3425732446,186793.95884066858,186811.57468376792,186829.1907149546,186846.80585823447,186864.42188288944,186882.03849030146,186899.65554396738,186917.27169213656,186934.887772972],\"type\":\"scatter\",\"xaxis\":\"x\",\"yaxis\":\"y\"},{\"line\":{\"color\":\"#0072B2\",\"width\":2},\"mode\":\"lines\",\"name\":\"yearly\",\"x\":[\"2017-01-01T00:00:00\",\"2017-01-02T00:00:59.178082\",\"2017-01-03T00:01:58.356164\",\"2017-01-04T00:02:57.534246\",\"2017-01-05T00:03:56.712328\",\"2017-01-06T00:04:55.890411\",\"2017-01-07T00:05:55.068493\",\"2017-01-08T00:06:54.246575\",\"2017-01-09T00:07:53.424657\",\"2017-01-10T00:08:52.602739\",\"2017-01-11T00:09:51.780822\",\"2017-01-12T00:10:50.958904\",\"2017-01-13T00:11:50.136986\",\"2017-01-14T00:12:49.315068\",\"2017-01-15T00:13:48.493150\",\"2017-01-16T00:14:47.671232\",\"2017-01-17T00:15:46.849315\",\"2017-01-18T00:16:46.027397\",\"2017-01-19T00:17:45.205479\",\"2017-01-20T00:18:44.383561\",\"2017-01-21T00:19:43.561643\",\"2017-01-22T00:20:42.739726\",\"2017-01-23T00:21:41.917808\",\"2017-01-24T00:22:41.095890\",\"2017-01-25T00:23:40.273972\",\"2017-01-26T00:24:39.452054\",\"2017-01-27T00:25:38.630137\",\"2017-01-28T00:26:37.808219\",\"2017-01-29T00:27:36.986301\",\"2017-01-30T00:28:36.164383\",\"2017-01-31T00:29:35.342465\",\"2017-02-01T00:30:34.520547\",\"2017-02-02T00:31:33.698630\",\"2017-02-03T00:32:32.876712\",\"2017-02-04T00:33:32.054794\",\"2017-02-05T00:34:31.232876\",\"2017-02-06T00:35:30.410958\",\"2017-02-07T00:36:29.589041\",\"2017-02-08T00:37:28.767123\",\"2017-02-09T00:38:27.945205\",\"2017-02-10T00:39:27.123287\",\"2017-02-11T00:40:26.301369\",\"2017-02-12T00:41:25.479452\",\"2017-02-13T00:42:24.657534\",\"2017-02-14T00:43:23.835616\",\"2017-02-15T00:44:23.013698\",\"2017-02-16T00:45:22.191780\",\"2017-02-17T00:46:21.369862\",\"2017-02-18T00:47:20.547945\",\"2017-02-19T00:48:19.726027\",\"2017-02-20T00:49:18.904109\",\"2017-02-21T00:50:18.082191\",\"2017-02-22T00:51:17.260273\",\"2017-02-23T00:52:16.438356\",\"2017-02-24T00:53:15.616438\",\"2017-02-25T00:54:14.794520\",\"2017-02-26T00:55:13.972602\",\"2017-02-27T00:56:13.150684\",\"2017-02-28T00:57:12.328767\",\"2017-03-01T00:58:11.506849\",\"2017-03-02T00:59:10.684931\",\"2017-03-03T01:00:09.863013\",\"2017-03-04T01:01:09.041095\",\"2017-03-05T01:02:08.219177\",\"2017-03-06T01:03:07.397260\",\"2017-03-07T01:04:06.575342\",\"2017-03-08T01:05:05.753424\",\"2017-03-09T01:06:04.931506\",\"2017-03-10T01:07:04.109588\",\"2017-03-11T01:08:03.287671\",\"2017-03-12T01:09:02.465753\",\"2017-03-13T01:10:01.643835\",\"2017-03-14T01:11:00.821917\",\"2017-03-15T01:12:00\",\"2017-03-16T01:12:59.178082\",\"2017-03-17T01:13:58.356164\",\"2017-03-18T01:14:57.534246\",\"2017-03-19T01:15:56.712328\",\"2017-03-20T01:16:55.890411\",\"2017-03-21T01:17:55.068493\",\"2017-03-22T01:18:54.246575\",\"2017-03-23T01:19:53.424657\",\"2017-03-24T01:20:52.602739\",\"2017-03-25T01:21:51.780822\",\"2017-03-26T01:22:50.958904\",\"2017-03-27T01:23:50.136986\",\"2017-03-28T01:24:49.315068\",\"2017-03-29T01:25:48.493150\",\"2017-03-30T01:26:47.671232\",\"2017-03-31T01:27:46.849315\",\"2017-04-01T01:28:46.027397\",\"2017-04-02T01:29:45.205479\",\"2017-04-03T01:30:44.383561\",\"2017-04-04T01:31:43.561643\",\"2017-04-05T01:32:42.739726\",\"2017-04-06T01:33:41.917808\",\"2017-04-07T01:34:41.095890\",\"2017-04-08T01:35:40.273972\",\"2017-04-09T01:36:39.452054\",\"2017-04-10T01:37:38.630137\",\"2017-04-11T01:38:37.808219\",\"2017-04-12T01:39:36.986301\",\"2017-04-13T01:40:36.164383\",\"2017-04-14T01:41:35.342465\",\"2017-04-15T01:42:34.520547\",\"2017-04-16T01:43:33.698630\",\"2017-04-17T01:44:32.876712\",\"2017-04-18T01:45:32.054794\",\"2017-04-19T01:46:31.232876\",\"2017-04-20T01:47:30.410958\",\"2017-04-21T01:48:29.589041\",\"2017-04-22T01:49:28.767123\",\"2017-04-23T01:50:27.945205\",\"2017-04-24T01:51:27.123287\",\"2017-04-25T01:52:26.301369\",\"2017-04-26T01:53:25.479452\",\"2017-04-27T01:54:24.657534\",\"2017-04-28T01:55:23.835616\",\"2017-04-29T01:56:23.013698\",\"2017-04-30T01:57:22.191780\",\"2017-05-01T01:58:21.369862\",\"2017-05-02T01:59:20.547945\",\"2017-05-03T02:00:19.726027\",\"2017-05-04T02:01:18.904109\",\"2017-05-05T02:02:18.082191\",\"2017-05-06T02:03:17.260273\",\"2017-05-07T02:04:16.438356\",\"2017-05-08T02:05:15.616438\",\"2017-05-09T02:06:14.794520\",\"2017-05-10T02:07:13.972602\",\"2017-05-11T02:08:13.150684\",\"2017-05-12T02:09:12.328767\",\"2017-05-13T02:10:11.506849\",\"2017-05-14T02:11:10.684931\",\"2017-05-15T02:12:09.863013\",\"2017-05-16T02:13:09.041095\",\"2017-05-17T02:14:08.219177\",\"2017-05-18T02:15:07.397260\",\"2017-05-19T02:16:06.575342\",\"2017-05-20T02:17:05.753424\",\"2017-05-21T02:18:04.931506\",\"2017-05-22T02:19:04.109588\",\"2017-05-23T02:20:03.287671\",\"2017-05-24T02:21:02.465753\",\"2017-05-25T02:22:01.643835\",\"2017-05-26T02:23:00.821917\",\"2017-05-27T02:24:00\",\"2017-05-28T02:24:59.178082\",\"2017-05-29T02:25:58.356164\",\"2017-05-30T02:26:57.534246\",\"2017-05-31T02:27:56.712328\",\"2017-06-01T02:28:55.890411\",\"2017-06-02T02:29:55.068493\",\"2017-06-03T02:30:54.246575\",\"2017-06-04T02:31:53.424657\",\"2017-06-05T02:32:52.602739\",\"2017-06-06T02:33:51.780822\",\"2017-06-07T02:34:50.958904\",\"2017-06-08T02:35:50.136986\",\"2017-06-09T02:36:49.315068\",\"2017-06-10T02:37:48.493150\",\"2017-06-11T02:38:47.671232\",\"2017-06-12T02:39:46.849315\",\"2017-06-13T02:40:46.027397\",\"2017-06-14T02:41:45.205479\",\"2017-06-15T02:42:44.383561\",\"2017-06-16T02:43:43.561643\",\"2017-06-17T02:44:42.739726\",\"2017-06-18T02:45:41.917808\",\"2017-06-19T02:46:41.095890\",\"2017-06-20T02:47:40.273972\",\"2017-06-21T02:48:39.452054\",\"2017-06-22T02:49:38.630137\",\"2017-06-23T02:50:37.808219\",\"2017-06-24T02:51:36.986301\",\"2017-06-25T02:52:36.164383\",\"2017-06-26T02:53:35.342465\",\"2017-06-27T02:54:34.520547\",\"2017-06-28T02:55:33.698630\",\"2017-06-29T02:56:32.876712\",\"2017-06-30T02:57:32.054794\",\"2017-07-01T02:58:31.232876\",\"2017-07-02T02:59:30.410958\",\"2017-07-03T03:00:29.589041\",\"2017-07-04T03:01:28.767123\",\"2017-07-05T03:02:27.945205\",\"2017-07-06T03:03:27.123287\",\"2017-07-07T03:04:26.301369\",\"2017-07-08T03:05:25.479452\",\"2017-07-09T03:06:24.657534\",\"2017-07-10T03:07:23.835616\",\"2017-07-11T03:08:23.013698\",\"2017-07-12T03:09:22.191780\",\"2017-07-13T03:10:21.369862\",\"2017-07-14T03:11:20.547945\",\"2017-07-15T03:12:19.726027\",\"2017-07-16T03:13:18.904109\",\"2017-07-17T03:14:18.082191\",\"2017-07-18T03:15:17.260273\",\"2017-07-19T03:16:16.438356\",\"2017-07-20T03:17:15.616438\",\"2017-07-21T03:18:14.794520\",\"2017-07-22T03:19:13.972602\",\"2017-07-23T03:20:13.150684\",\"2017-07-24T03:21:12.328767\",\"2017-07-25T03:22:11.506849\",\"2017-07-26T03:23:10.684931\",\"2017-07-27T03:24:09.863013\",\"2017-07-28T03:25:09.041095\",\"2017-07-29T03:26:08.219177\",\"2017-07-30T03:27:07.397260\",\"2017-07-31T03:28:06.575342\",\"2017-08-01T03:29:05.753424\",\"2017-08-02T03:30:04.931506\",\"2017-08-03T03:31:04.109588\",\"2017-08-04T03:32:03.287671\",\"2017-08-05T03:33:02.465753\",\"2017-08-06T03:34:01.643835\",\"2017-08-07T03:35:00.821917\",\"2017-08-08T03:36:00\",\"2017-08-09T03:36:59.178082\",\"2017-08-10T03:37:58.356164\",\"2017-08-11T03:38:57.534246\",\"2017-08-12T03:39:56.712328\",\"2017-08-13T03:40:55.890411\",\"2017-08-14T03:41:55.068493\",\"2017-08-15T03:42:54.246575\",\"2017-08-16T03:43:53.424657\",\"2017-08-17T03:44:52.602739\",\"2017-08-18T03:45:51.780822\",\"2017-08-19T03:46:50.958904\",\"2017-08-20T03:47:50.136986\",\"2017-08-21T03:48:49.315068\",\"2017-08-22T03:49:48.493150\",\"2017-08-23T03:50:47.671232\",\"2017-08-24T03:51:46.849315\",\"2017-08-25T03:52:46.027397\",\"2017-08-26T03:53:45.205479\",\"2017-08-27T03:54:44.383561\",\"2017-08-28T03:55:43.561643\",\"2017-08-29T03:56:42.739726\",\"2017-08-30T03:57:41.917808\",\"2017-08-31T03:58:41.095890\",\"2017-09-01T03:59:40.273972\",\"2017-09-02T04:00:39.452054\",\"2017-09-03T04:01:38.630137\",\"2017-09-04T04:02:37.808219\",\"2017-09-05T04:03:36.986301\",\"2017-09-06T04:04:36.164383\",\"2017-09-07T04:05:35.342465\",\"2017-09-08T04:06:34.520547\",\"2017-09-09T04:07:33.698630\",\"2017-09-10T04:08:32.876712\",\"2017-09-11T04:09:32.054794\",\"2017-09-12T04:10:31.232876\",\"2017-09-13T04:11:30.410958\",\"2017-09-14T04:12:29.589041\",\"2017-09-15T04:13:28.767123\",\"2017-09-16T04:14:27.945205\",\"2017-09-17T04:15:27.123287\",\"2017-09-18T04:16:26.301369\",\"2017-09-19T04:17:25.479452\",\"2017-09-20T04:18:24.657534\",\"2017-09-21T04:19:23.835616\",\"2017-09-22T04:20:23.013698\",\"2017-09-23T04:21:22.191780\",\"2017-09-24T04:22:21.369862\",\"2017-09-25T04:23:20.547945\",\"2017-09-26T04:24:19.726027\",\"2017-09-27T04:25:18.904109\",\"2017-09-28T04:26:18.082191\",\"2017-09-29T04:27:17.260273\",\"2017-09-30T04:28:16.438356\",\"2017-10-01T04:29:15.616438\",\"2017-10-02T04:30:14.794520\",\"2017-10-03T04:31:13.972602\",\"2017-10-04T04:32:13.150684\",\"2017-10-05T04:33:12.328767\",\"2017-10-06T04:34:11.506849\",\"2017-10-07T04:35:10.684931\",\"2017-10-08T04:36:09.863013\",\"2017-10-09T04:37:09.041095\",\"2017-10-10T04:38:08.219177\",\"2017-10-11T04:39:07.397260\",\"2017-10-12T04:40:06.575342\",\"2017-10-13T04:41:05.753424\",\"2017-10-14T04:42:04.931506\",\"2017-10-15T04:43:04.109588\",\"2017-10-16T04:44:03.287671\",\"2017-10-17T04:45:02.465753\",\"2017-10-18T04:46:01.643835\",\"2017-10-19T04:47:00.821917\",\"2017-10-20T04:48:00\",\"2017-10-21T04:48:59.178082\",\"2017-10-22T04:49:58.356164\",\"2017-10-23T04:50:57.534246\",\"2017-10-24T04:51:56.712328\",\"2017-10-25T04:52:55.890411\",\"2017-10-26T04:53:55.068493\",\"2017-10-27T04:54:54.246575\",\"2017-10-28T04:55:53.424657\",\"2017-10-29T04:56:52.602739\",\"2017-10-30T04:57:51.780822\",\"2017-10-31T04:58:50.958904\",\"2017-11-01T04:59:50.136986\",\"2017-11-02T05:00:49.315068\",\"2017-11-03T05:01:48.493150\",\"2017-11-04T05:02:47.671232\",\"2017-11-05T05:03:46.849315\",\"2017-11-06T05:04:46.027397\",\"2017-11-07T05:05:45.205479\",\"2017-11-08T05:06:44.383561\",\"2017-11-09T05:07:43.561643\",\"2017-11-10T05:08:42.739726\",\"2017-11-11T05:09:41.917808\",\"2017-11-12T05:10:41.095890\",\"2017-11-13T05:11:40.273972\",\"2017-11-14T05:12:39.452054\",\"2017-11-15T05:13:38.630137\",\"2017-11-16T05:14:37.808219\",\"2017-11-17T05:15:36.986301\",\"2017-11-18T05:16:36.164383\",\"2017-11-19T05:17:35.342465\",\"2017-11-20T05:18:34.520547\",\"2017-11-21T05:19:33.698630\",\"2017-11-22T05:20:32.876712\",\"2017-11-23T05:21:32.054794\",\"2017-11-24T05:22:31.232876\",\"2017-11-25T05:23:30.410958\",\"2017-11-26T05:24:29.589041\",\"2017-11-27T05:25:28.767123\",\"2017-11-28T05:26:27.945205\",\"2017-11-29T05:27:27.123287\",\"2017-11-30T05:28:26.301369\",\"2017-12-01T05:29:25.479452\",\"2017-12-02T05:30:24.657534\",\"2017-12-03T05:31:23.835616\",\"2017-12-04T05:32:23.013698\",\"2017-12-05T05:33:22.191780\",\"2017-12-06T05:34:21.369862\",\"2017-12-07T05:35:20.547945\",\"2017-12-08T05:36:19.726027\",\"2017-12-09T05:37:18.904109\",\"2017-12-10T05:38:18.082191\",\"2017-12-11T05:39:17.260273\",\"2017-12-12T05:40:16.438356\",\"2017-12-13T05:41:15.616438\",\"2017-12-14T05:42:14.794520\",\"2017-12-15T05:43:13.972602\",\"2017-12-16T05:44:13.150684\",\"2017-12-17T05:45:12.328767\",\"2017-12-18T05:46:11.506849\",\"2017-12-19T05:47:10.684931\",\"2017-12-20T05:48:09.863013\",\"2017-12-21T05:49:09.041095\",\"2017-12-22T05:50:08.219177\",\"2017-12-23T05:51:07.397260\",\"2017-12-24T05:52:06.575342\",\"2017-12-25T05:53:05.753424\",\"2017-12-26T05:54:04.931506\",\"2017-12-27T05:55:04.109588\",\"2017-12-28T05:56:03.287671\",\"2017-12-29T05:57:02.465753\",\"2017-12-30T05:58:01.643835\",\"2017-12-31T05:59:00.821917\"],\"y\":[-125755.62081563927,-126966.8909850604,-126424.14612291536,-124208.7189509617,-120433.92773958163,-115242.47271297348,-108803.05138931797,-101306.74873853238,-92962.14257604617,-83990.73448350799,-74621.73850041397,-65086.77813148887,-55614.449261781534,-46425.537575278024,-37727.376316861046,-29709.67122824476,-22540.251794835207,-16361.448106385464,-11287.47418727536,-7401.841440254547,-4756.286109541463,-3370.1324095297487,-3230.551819414108,-4293.64505967994,-6486.209207389331,-9708.354826355282,-13836.649044573154,-18727.84649339111,-24223.0567889798,-30152.309277841912,-36338.97180801615,-42604.940987190545,-48775.095817491645,-54681.914089946804,-60169.788861840214,-65098.631864174495,-69347.60882047229,-72817.64777952281,-75433.62599690724,-77145.79532659701,-77930.48873949752,-77790.06814973577,-76752.23553784344,-74868.5587500556,-72212.42650827196,-68876.38254451496,-64969.18299477632,-60612.07172094418,-55935.155508448806,-51073.426421814154,-46162.76330535083,-41335.93718846689,-36719.064016190576,-32427.772516936286,-28564.30572744661,-25214.79407970091,-22447.108831803216,-20309.271987570442,-18828.592493528395,-18011.194115726765,-17842.43062980008,-18287.779077108415,-19294.35326579983,-20792.874135215967,-22700.22232894099,-24922.25711521431,-27356.973420464597,-29897.842052934004,-32437.26907619588,-34869.89577242536,-37096.07997673361,-39024.868944813126,-40576.81945684856,-41686.41701198933,-42303.989305948504,-42397.24011644824,-41952.105579722076,-40973.11824945405,-39483.18505499562,-37522.780719481816,-35148.73103208168,-32432.27410835394,-29456.913157792456,-26315.801299881077,-23108.86399185496,-19939.690277524358,-16912.503687010292,-14128.756998191753,-11684.18353508489,-9665.840342459627,-8149.4367360410915,-7197.081241944598,-6855.263994042239,-7153.482633863542,-8103.271272075719,-9697.77593266951,-11911.89476047803,-14702.809184860156,-18011.28778500295,-21763.212504715462,-25871.645595252994,-30239.23588706147,-34760.96766951346,-39326.85594250084,-43825.29394346611,-48145.91341804003,-52182.654297413326,-55836.68515625885,-59018.90042705162,-61652.54409840487,-63675.04476090897,-65039.65690610816,-65716.60243902325,-65693.72436123677,-64976.65641662252,-63588.48453117297,-61568.92045377757,-58973.032546437724,-55869.52201848571,-52338.828144412975,-48470.57061196491,-44361.12169683061,-40110.857405754214,-35821.37238420214,-31592.658215674797,-27520.61611134243,-23694.246399030184,-20193.567845238333,-17087.58899862267,-14432.68064358014,-12271.319348785852,-10631.369687103796,-9525.560624501839,-8951.66068592257,-8892.951224125025,-9319.144846512403,-10187.64603149913,-11445.19778938261,-13029.759410389443,-14872.615379524379,-16900.62937772623,-19038.60016930385,-21211.497245793104,-23346.880929031773,-25376.941010480074,-27240.462726951904,-28884.53502050237,-30265.869728938444,-31351.9741342134,-32121.768218792644,-32565.925774906744,-32686.81658663681,-32498.075187201568,-32023.836770406906,-31297.62890288581,-30361.004337816445,-29261.938697841488,-28053.054289420612,-26789.71460777729,-25528.14059625884,-24323.3901597822,-23227.55802431837,-22288.034567035393,-21545.95755032981,-21034.93622136651,-20779.963433108056,-20796.71906036993,-21091.148392254945,-21659.38143263046,-22487.99271599139,-23554.525889806795,-24828.41243822981,-26272.059917949977,-27842.20674997212,-29491.444787938242,-31169.884824259047,-32826.79222938874,-34412.42792641055,-35879.64625972493,-37185.48682925025,-38292.603284475896,-39170.43002825888,-39796.23410149154,-40155.763329569316,-40243.66800697874,-40063.601889151156,-39628.00811588402,-38957.63450061189,-38080.71306652867,-37031.93336226474,-35851.17672028724,-34582.06448939313,-33270.45578908258,-31962.72471972214,-30704.168871665785,-29537.385963889104,-28500.76072903356,-27627.09096210961,-26942.456780516368,-26465.226905184343,-26205.438606060987,-26164.41799885365,-26334.720146296007,-26700.387355168397,-27237.489544234188,-27914.999633064544,-28695.891550077144,-29538.483906853933,-30397.974239965883,-31228.05675392758,-31982.718475477483,-32617.953821550145,-33093.488086325415,-33374.390061423495,-33432.52576011056,-33247.8016810411,-32809.15473428651,-32115.235374518623,-31174.771680785758,-30006.570387418178,-28639.23448409701,-27110.390264756013,-25465.709825444646,-23757.557343989774,-22043.37156346379,-20383.799471781385,-18840.74896094813,-17475.134070743483,-16344.76587545568,-15502.16568221906,-14992.487991523509,-14851.602895696875,-15104.404188929428,-15763.38896206535,-16827.594909192692,-18281.902082162815,-20096.77340127733,-22228.31662964993,-24619.00210994305,-27198.609100126436,-29885.688578933303,-32589.393015513022,-35211.67807522533,-37649.642156578855,-39798.3939577789,-41553.764113872065,-42815.244823558314,-43488.89004839919,-43490.11993430211,-42746.363345387996,-41199.44167072235,-38807.61709019447,-35547.26370593956,-31414.036871849923,-26423.80880250473,-20612.597576401375,-14036.430630252227,-6770.449525742775,1092.4632633821839,9443.648443519616,18160.591672405353,27110.212288178565,36151.51337737885,45138.95593899903,53926.001653448955,62368.22345928856,70327.4117046178,77674.5423737245,84293.05324650502,90081.72486116763,94957.24150515218,98856.04663338664,101736.25571980803,103578.45173442722,104386.20971876036,104185.9762148519,103026.34921335573,100976.87966111081,98126.1981847869,94579.7875393487,90457.28646269647,85889.40290350394,81014.83820848525,75976.50450937131,70918.19363686572,65981.00815239098,61299.95915740061,57000.72528205312,53196.947288125026,49987.398664670276,47454.09848323853,45660.65730339718,44651.19723036135,44449.86894013264,45060.82041367921,46468.843101234634,48640.471279721016,51525.5831915777,55059.477807789954,59165.100711690844,63755.97550804553,68738.93433132317,74017.15459804297,79493.17713848196,85071.91431566759,90663.16858224127,96184.54868737253,101563.41151579349,106738.73219177277,111662.51732787407,116300.45004089989,120632.58947856611,124652.97574955625,128369.01163457075,131800.29716736023,134977.05090719054,137937.95755076193,140728.05206812712,143395.98557135044,145991.31633916663,148561.6927896468,151150.09240439223,153792.0321585582,156513.29271656493,159327.6470238449,162235.11924829724,165220.69879413472,168253.38545989487,171286.12714490233,174255.98197882553,177085.0285264392,179681.807372018,181943.32343982658,183757.41485886156,185005.81162248223,185567.2794253122,185321.1676955965,184151.0779780906,181948.67915420677,178617.33223244466,174075.679551095,168260.9191187853,161131.71907341783,152670.56421345135,142886.06948251618,131813.68383467372,119516.68851882935,106086.02451891708,91639.48848217531,76320.02817404234,60294.242728018464,43748.443690408916,26885.889867848582,9922.634188874375,-6917.071650993517,-23404.71656669928,-39313.61917368545,-54423.13643208231,-68523.80054392424,-81422.08144159609,-92944.97144563892,-102943.50790674482,-111297.08768362536,-117915.80562830856,-122742.78393830074],\"type\":\"scatter\",\"xaxis\":\"x2\",\"yaxis\":\"y2\"}],                        {\"template\":{\"data\":{\"histogram2dcontour\":[{\"type\":\"histogram2dcontour\",\"colorbar\":{\"outlinewidth\":0,\"ticks\":\"\"},\"colorscale\":[[0.0,\"#0d0887\"],[0.1111111111111111,\"#46039f\"],[0.2222222222222222,\"#7201a8\"],[0.3333333333333333,\"#9c179e\"],[0.4444444444444444,\"#bd3786\"],[0.5555555555555556,\"#d8576b\"],[0.6666666666666666,\"#ed7953\"],[0.7777777777777778,\"#fb9f3a\"],[0.8888888888888888,\"#fdca26\"],[1.0,\"#f0f921\"]]}],\"choropleth\":[{\"type\":\"choropleth\",\"colorbar\":{\"outlinewidth\":0,\"ticks\":\"\"}}],\"histogram2d\":[{\"type\":\"histogram2d\",\"colorbar\":{\"outlinewidth\":0,\"ticks\":\"\"},\"colorscale\":[[0.0,\"#0d0887\"],[0.1111111111111111,\"#46039f\"],[0.2222222222222222,\"#7201a8\"],[0.3333333333333333,\"#9c179e\"],[0.4444444444444444,\"#bd3786\"],[0.5555555555555556,\"#d8576b\"],[0.6666666666666666,\"#ed7953\"],[0.7777777777777778,\"#fb9f3a\"],[0.8888888888888888,\"#fdca26\"],[1.0,\"#f0f921\"]]}],\"heatmap\":[{\"type\":\"heatmap\",\"colorbar\":{\"outlinewidth\":0,\"ticks\":\"\"},\"colorscale\":[[0.0,\"#0d0887\"],[0.1111111111111111,\"#46039f\"],[0.2222222222222222,\"#7201a8\"],[0.3333333333333333,\"#9c179e\"],[0.4444444444444444,\"#bd3786\"],[0.5555555555555556,\"#d8576b\"],[0.6666666666666666,\"#ed7953\"],[0.7777777777777778,\"#fb9f3a\"],[0.8888888888888888,\"#fdca26\"],[1.0,\"#f0f921\"]]}],\"heatmapgl\":[{\"type\":\"heatmapgl\",\"colorbar\":{\"outlinewidth\":0,\"ticks\":\"\"},\"colorscale\":[[0.0,\"#0d0887\"],[0.1111111111111111,\"#46039f\"],[0.2222222222222222,\"#7201a8\"],[0.3333333333333333,\"#9c179e\"],[0.4444444444444444,\"#bd3786\"],[0.5555555555555556,\"#d8576b\"],[0.6666666666666666,\"#ed7953\"],[0.7777777777777778,\"#fb9f3a\"],[0.8888888888888888,\"#fdca26\"],[1.0,\"#f0f921\"]]}],\"contourcarpet\":[{\"type\":\"contourcarpet\",\"colorbar\":{\"outlinewidth\":0,\"ticks\":\"\"}}],\"contour\":[{\"type\":\"contour\",\"colorbar\":{\"outlinewidth\":0,\"ticks\":\"\"},\"colorscale\":[[0.0,\"#0d0887\"],[0.1111111111111111,\"#46039f\"],[0.2222222222222222,\"#7201a8\"],[0.3333333333333333,\"#9c179e\"],[0.4444444444444444,\"#bd3786\"],[0.5555555555555556,\"#d8576b\"],[0.6666666666666666,\"#ed7953\"],[0.7777777777777778,\"#fb9f3a\"],[0.8888888888888888,\"#fdca26\"],[1.0,\"#f0f921\"]]}],\"surface\":[{\"type\":\"surface\",\"colorbar\":{\"outlinewidth\":0,\"ticks\":\"\"},\"colorscale\":[[0.0,\"#0d0887\"],[0.1111111111111111,\"#46039f\"],[0.2222222222222222,\"#7201a8\"],[0.3333333333333333,\"#9c179e\"],[0.4444444444444444,\"#bd3786\"],[0.5555555555555556,\"#d8576b\"],[0.6666666666666666,\"#ed7953\"],[0.7777777777777778,\"#fb9f3a\"],[0.8888888888888888,\"#fdca26\"],[1.0,\"#f0f921\"]]}],\"mesh3d\":[{\"type\":\"mesh3d\",\"colorbar\":{\"outlinewidth\":0,\"ticks\":\"\"}}],\"scatter\":[{\"fillpattern\":{\"fillmode\":\"overlay\",\"size\":10,\"solidity\":0.2},\"type\":\"scatter\"}],\"parcoords\":[{\"type\":\"parcoords\",\"line\":{\"colorbar\":{\"outlinewidth\":0,\"ticks\":\"\"}}}],\"scatterpolargl\":[{\"type\":\"scatterpolargl\",\"marker\":{\"colorbar\":{\"outlinewidth\":0,\"ticks\":\"\"}}}],\"bar\":[{\"error_x\":{\"color\":\"#2a3f5f\"},\"error_y\":{\"color\":\"#2a3f5f\"},\"marker\":{\"line\":{\"color\":\"#E5ECF6\",\"width\":0.5},\"pattern\":{\"fillmode\":\"overlay\",\"size\":10,\"solidity\":0.2}},\"type\":\"bar\"}],\"scattergeo\":[{\"type\":\"scattergeo\",\"marker\":{\"colorbar\":{\"outlinewidth\":0,\"ticks\":\"\"}}}],\"scatterpolar\":[{\"type\":\"scatterpolar\",\"marker\":{\"colorbar\":{\"outlinewidth\":0,\"ticks\":\"\"}}}],\"histogram\":[{\"marker\":{\"pattern\":{\"fillmode\":\"overlay\",\"size\":10,\"solidity\":0.2}},\"type\":\"histogram\"}],\"scattergl\":[{\"type\":\"scattergl\",\"marker\":{\"colorbar\":{\"outlinewidth\":0,\"ticks\":\"\"}}}],\"scatter3d\":[{\"type\":\"scatter3d\",\"line\":{\"colorbar\":{\"outlinewidth\":0,\"ticks\":\"\"}},\"marker\":{\"colorbar\":{\"outlinewidth\":0,\"ticks\":\"\"}}}],\"scattermapbox\":[{\"type\":\"scattermapbox\",\"marker\":{\"colorbar\":{\"outlinewidth\":0,\"ticks\":\"\"}}}],\"scatterternary\":[{\"type\":\"scatterternary\",\"marker\":{\"colorbar\":{\"outlinewidth\":0,\"ticks\":\"\"}}}],\"scattercarpet\":[{\"type\":\"scattercarpet\",\"marker\":{\"colorbar\":{\"outlinewidth\":0,\"ticks\":\"\"}}}],\"carpet\":[{\"aaxis\":{\"endlinecolor\":\"#2a3f5f\",\"gridcolor\":\"white\",\"linecolor\":\"white\",\"minorgridcolor\":\"white\",\"startlinecolor\":\"#2a3f5f\"},\"baxis\":{\"endlinecolor\":\"#2a3f5f\",\"gridcolor\":\"white\",\"linecolor\":\"white\",\"minorgridcolor\":\"white\",\"startlinecolor\":\"#2a3f5f\"},\"type\":\"carpet\"}],\"table\":[{\"cells\":{\"fill\":{\"color\":\"#EBF0F8\"},\"line\":{\"color\":\"white\"}},\"header\":{\"fill\":{\"color\":\"#C8D4E3\"},\"line\":{\"color\":\"white\"}},\"type\":\"table\"}],\"barpolar\":[{\"marker\":{\"line\":{\"color\":\"#E5ECF6\",\"width\":0.5},\"pattern\":{\"fillmode\":\"overlay\",\"size\":10,\"solidity\":0.2}},\"type\":\"barpolar\"}],\"pie\":[{\"automargin\":true,\"type\":\"pie\"}]},\"layout\":{\"autotypenumbers\":\"strict\",\"colorway\":[\"#636efa\",\"#EF553B\",\"#00cc96\",\"#ab63fa\",\"#FFA15A\",\"#19d3f3\",\"#FF6692\",\"#B6E880\",\"#FF97FF\",\"#FECB52\"],\"font\":{\"color\":\"#2a3f5f\"},\"hovermode\":\"closest\",\"hoverlabel\":{\"align\":\"left\"},\"paper_bgcolor\":\"white\",\"plot_bgcolor\":\"#E5ECF6\",\"polar\":{\"bgcolor\":\"#E5ECF6\",\"angularaxis\":{\"gridcolor\":\"white\",\"linecolor\":\"white\",\"ticks\":\"\"},\"radialaxis\":{\"gridcolor\":\"white\",\"linecolor\":\"white\",\"ticks\":\"\"}},\"ternary\":{\"bgcolor\":\"#E5ECF6\",\"aaxis\":{\"gridcolor\":\"white\",\"linecolor\":\"white\",\"ticks\":\"\"},\"baxis\":{\"gridcolor\":\"white\",\"linecolor\":\"white\",\"ticks\":\"\"},\"caxis\":{\"gridcolor\":\"white\",\"linecolor\":\"white\",\"ticks\":\"\"}},\"coloraxis\":{\"colorbar\":{\"outlinewidth\":0,\"ticks\":\"\"}},\"colorscale\":{\"sequential\":[[0.0,\"#0d0887\"],[0.1111111111111111,\"#46039f\"],[0.2222222222222222,\"#7201a8\"],[0.3333333333333333,\"#9c179e\"],[0.4444444444444444,\"#bd3786\"],[0.5555555555555556,\"#d8576b\"],[0.6666666666666666,\"#ed7953\"],[0.7777777777777778,\"#fb9f3a\"],[0.8888888888888888,\"#fdca26\"],[1.0,\"#f0f921\"]],\"sequentialminus\":[[0.0,\"#0d0887\"],[0.1111111111111111,\"#46039f\"],[0.2222222222222222,\"#7201a8\"],[0.3333333333333333,\"#9c179e\"],[0.4444444444444444,\"#bd3786\"],[0.5555555555555556,\"#d8576b\"],[0.6666666666666666,\"#ed7953\"],[0.7777777777777778,\"#fb9f3a\"],[0.8888888888888888,\"#fdca26\"],[1.0,\"#f0f921\"]],\"diverging\":[[0,\"#8e0152\"],[0.1,\"#c51b7d\"],[0.2,\"#de77ae\"],[0.3,\"#f1b6da\"],[0.4,\"#fde0ef\"],[0.5,\"#f7f7f7\"],[0.6,\"#e6f5d0\"],[0.7,\"#b8e186\"],[0.8,\"#7fbc41\"],[0.9,\"#4d9221\"],[1,\"#276419\"]]},\"xaxis\":{\"gridcolor\":\"white\",\"linecolor\":\"white\",\"ticks\":\"\",\"title\":{\"standoff\":15},\"zerolinecolor\":\"white\",\"automargin\":true,\"zerolinewidth\":2},\"yaxis\":{\"gridcolor\":\"white\",\"linecolor\":\"white\",\"ticks\":\"\",\"title\":{\"standoff\":15},\"zerolinecolor\":\"white\",\"automargin\":true,\"zerolinewidth\":2},\"scene\":{\"xaxis\":{\"backgroundcolor\":\"#E5ECF6\",\"gridcolor\":\"white\",\"linecolor\":\"white\",\"showbackground\":true,\"ticks\":\"\",\"zerolinecolor\":\"white\",\"gridwidth\":2},\"yaxis\":{\"backgroundcolor\":\"#E5ECF6\",\"gridcolor\":\"white\",\"linecolor\":\"white\",\"showbackground\":true,\"ticks\":\"\",\"zerolinecolor\":\"white\",\"gridwidth\":2},\"zaxis\":{\"backgroundcolor\":\"#E5ECF6\",\"gridcolor\":\"white\",\"linecolor\":\"white\",\"showbackground\":true,\"ticks\":\"\",\"zerolinecolor\":\"white\",\"gridwidth\":2}},\"shapedefaults\":{\"line\":{\"color\":\"#2a3f5f\"}},\"annotationdefaults\":{\"arrowcolor\":\"#2a3f5f\",\"arrowhead\":0,\"arrowwidth\":1},\"geo\":{\"bgcolor\":\"white\",\"landcolor\":\"#E5ECF6\",\"subunitcolor\":\"white\",\"showland\":true,\"showlakes\":true,\"lakecolor\":\"white\"},\"title\":{\"x\":0.05},\"mapbox\":{\"style\":\"light\"}}},\"xaxis\":{\"anchor\":\"y\",\"domain\":[0.0,1.0],\"range\":[\"2009-10-26T18:00:00\",\"2012-03-30T06:00:00\"],\"type\":\"date\"},\"yaxis\":{\"anchor\":\"x\",\"domain\":[0.575,1.0],\"title\":{\"text\":\"trend\"},\"rangemode\":\"normal\",\"zerolinecolor\":\"#AAA\"},\"xaxis2\":{\"anchor\":\"y2\",\"domain\":[0.0,1.0],\"range\":[\"2016-12-13T18:54:02.958904115\",\"2018-01-18T11:04:57.863013581\"],\"tickformat\":\"%B %e\",\"type\":\"date\"},\"yaxis2\":{\"anchor\":\"x2\",\"domain\":[0.0,0.425],\"title\":{\"text\":\"yearly\"},\"zerolinecolor\":\"#AAA\"},\"height\":400,\"showlegend\":false,\"width\":900},                        {\"responsive\": true}                    ).then(function(){\n",
       "                            \n",
       "var gd = document.getElementById('c7f01701-0415-40b1-9362-e36147e7453f');\n",
       "var x = new MutationObserver(function (mutations, observer) {{\n",
       "        var display = window.getComputedStyle(gd).display;\n",
       "        if (!display || display === 'none') {{\n",
       "            console.log([gd, 'removed!']);\n",
       "            Plotly.purge(gd);\n",
       "            observer.disconnect();\n",
       "        }}\n",
       "}});\n",
       "\n",
       "// Listen for the removal of the full notebook cells\n",
       "var notebookContainer = gd.closest('#notebook-container');\n",
       "if (notebookContainer) {{\n",
       "    x.observe(notebookContainer, {childList: true});\n",
       "}}\n",
       "\n",
       "// Listen for the clearing of the current output cell\n",
       "var outputEl = gd.closest('.output');\n",
       "if (outputEl) {{\n",
       "    x.observe(outputEl, {childList: true});\n",
       "}}\n",
       "\n",
       "                        })                };                });            </script>        </div>"
      ]
     },
     "metadata": {},
     "output_type": "display_data"
    }
   ],
   "source": [
    "plot_components_plotly(m, forecast)"
   ]
  },
  {
   "cell_type": "markdown",
   "id": "91822140",
   "metadata": {},
   "source": [
    "We see that the sales have an increasing trend and there is a peak in sales just before january as shown in the data."
   ]
  },
  {
   "cell_type": "markdown",
   "id": "3b3d7b5b",
   "metadata": {},
   "source": [
    "Saving the trained model to a JSON file for potential future use."
   ]
  },
  {
   "cell_type": "code",
   "execution_count": 16,
   "id": "6a887af5",
   "metadata": {},
   "outputs": [],
   "source": [
    "from prophet.serialize import model_to_json\n",
    "\n",
    "with open('serialized_model.json', 'w') as fout:\n",
    "    fout.write(model_to_json(m))  # Save model"
   ]
  }
 ],
 "metadata": {
  "kernelspec": {
   "display_name": "Python 3 (ipykernel)",
   "language": "python",
   "name": "python3"
  },
  "language_info": {
   "codemirror_mode": {
    "name": "ipython",
    "version": 3
   },
   "file_extension": ".py",
   "mimetype": "text/x-python",
   "name": "python",
   "nbconvert_exporter": "python",
   "pygments_lexer": "ipython3",
   "version": "3.11.3"
  }
 },
 "nbformat": 4,
 "nbformat_minor": 5
}
