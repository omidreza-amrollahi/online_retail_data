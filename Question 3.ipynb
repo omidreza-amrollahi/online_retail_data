{
 "cells": [
  {
   "cell_type": "markdown",
   "id": "07baea31",
   "metadata": {},
   "source": [
    "Here we have essentially a recommendation system using Association Rule Mining. Here, we'll be predicting which items are likely to be bought together.\n",
    "\n",
    "The Apriori algorithm is a popular choice for these kinds of problems, and its implementation is simple with the help of Python libraries such as mlxtend. Here's a step-by-step approach:\n",
    "\n",
    "## Step 1: Import Necessary Libraries"
   ]
  },
  {
   "cell_type": "code",
   "execution_count": 1,
   "id": "ed503e14",
   "metadata": {},
   "outputs": [],
   "source": [
    "import pandas as pd\n",
    "from mlxtend.frequent_patterns import apriori\n",
    "from mlxtend.frequent_patterns import association_rules"
   ]
  },
  {
   "cell_type": "markdown",
   "id": "0333592c",
   "metadata": {},
   "source": [
    "##  Step 2: Load the Dataset"
   ]
  },
  {
   "cell_type": "code",
   "execution_count": 2,
   "id": "7260acee",
   "metadata": {},
   "outputs": [],
   "source": [
    "df = pd.read_csv('online_retail_II.csv')"
   ]
  },
  {
   "cell_type": "code",
   "execution_count": 3,
   "id": "347df3f7",
   "metadata": {},
   "outputs": [
    {
     "data": {
      "text/html": [
       "<div>\n",
       "<style scoped>\n",
       "    .dataframe tbody tr th:only-of-type {\n",
       "        vertical-align: middle;\n",
       "    }\n",
       "\n",
       "    .dataframe tbody tr th {\n",
       "        vertical-align: top;\n",
       "    }\n",
       "\n",
       "    .dataframe thead th {\n",
       "        text-align: right;\n",
       "    }\n",
       "</style>\n",
       "<table border=\"1\" class=\"dataframe\">\n",
       "  <thead>\n",
       "    <tr style=\"text-align: right;\">\n",
       "      <th></th>\n",
       "      <th>Invoice</th>\n",
       "      <th>StockCode</th>\n",
       "      <th>Description</th>\n",
       "      <th>Quantity</th>\n",
       "      <th>InvoiceDate</th>\n",
       "      <th>Price</th>\n",
       "      <th>Customer ID</th>\n",
       "      <th>Country</th>\n",
       "    </tr>\n",
       "  </thead>\n",
       "  <tbody>\n",
       "    <tr>\n",
       "      <th>0</th>\n",
       "      <td>489434</td>\n",
       "      <td>85048</td>\n",
       "      <td>15CM CHRISTMAS GLASS BALL 20 LIGHTS</td>\n",
       "      <td>12</td>\n",
       "      <td>2009-12-01 07:45:00</td>\n",
       "      <td>6.95</td>\n",
       "      <td>13085.0</td>\n",
       "      <td>United Kingdom</td>\n",
       "    </tr>\n",
       "    <tr>\n",
       "      <th>1</th>\n",
       "      <td>489434</td>\n",
       "      <td>79323P</td>\n",
       "      <td>PINK CHERRY LIGHTS</td>\n",
       "      <td>12</td>\n",
       "      <td>2009-12-01 07:45:00</td>\n",
       "      <td>6.75</td>\n",
       "      <td>13085.0</td>\n",
       "      <td>United Kingdom</td>\n",
       "    </tr>\n",
       "    <tr>\n",
       "      <th>2</th>\n",
       "      <td>489434</td>\n",
       "      <td>79323W</td>\n",
       "      <td>WHITE CHERRY LIGHTS</td>\n",
       "      <td>12</td>\n",
       "      <td>2009-12-01 07:45:00</td>\n",
       "      <td>6.75</td>\n",
       "      <td>13085.0</td>\n",
       "      <td>United Kingdom</td>\n",
       "    </tr>\n",
       "    <tr>\n",
       "      <th>3</th>\n",
       "      <td>489434</td>\n",
       "      <td>22041</td>\n",
       "      <td>RECORD FRAME 7\" SINGLE SIZE</td>\n",
       "      <td>48</td>\n",
       "      <td>2009-12-01 07:45:00</td>\n",
       "      <td>2.10</td>\n",
       "      <td>13085.0</td>\n",
       "      <td>United Kingdom</td>\n",
       "    </tr>\n",
       "    <tr>\n",
       "      <th>4</th>\n",
       "      <td>489434</td>\n",
       "      <td>21232</td>\n",
       "      <td>STRAWBERRY CERAMIC TRINKET BOX</td>\n",
       "      <td>24</td>\n",
       "      <td>2009-12-01 07:45:00</td>\n",
       "      <td>1.25</td>\n",
       "      <td>13085.0</td>\n",
       "      <td>United Kingdom</td>\n",
       "    </tr>\n",
       "    <tr>\n",
       "      <th>...</th>\n",
       "      <td>...</td>\n",
       "      <td>...</td>\n",
       "      <td>...</td>\n",
       "      <td>...</td>\n",
       "      <td>...</td>\n",
       "      <td>...</td>\n",
       "      <td>...</td>\n",
       "      <td>...</td>\n",
       "    </tr>\n",
       "    <tr>\n",
       "      <th>1067366</th>\n",
       "      <td>581587</td>\n",
       "      <td>22899</td>\n",
       "      <td>CHILDREN'S APRON DOLLY GIRL</td>\n",
       "      <td>6</td>\n",
       "      <td>2011-12-09 12:50:00</td>\n",
       "      <td>2.10</td>\n",
       "      <td>12680.0</td>\n",
       "      <td>France</td>\n",
       "    </tr>\n",
       "    <tr>\n",
       "      <th>1067367</th>\n",
       "      <td>581587</td>\n",
       "      <td>23254</td>\n",
       "      <td>CHILDRENS CUTLERY DOLLY GIRL</td>\n",
       "      <td>4</td>\n",
       "      <td>2011-12-09 12:50:00</td>\n",
       "      <td>4.15</td>\n",
       "      <td>12680.0</td>\n",
       "      <td>France</td>\n",
       "    </tr>\n",
       "    <tr>\n",
       "      <th>1067368</th>\n",
       "      <td>581587</td>\n",
       "      <td>23255</td>\n",
       "      <td>CHILDRENS CUTLERY CIRCUS PARADE</td>\n",
       "      <td>4</td>\n",
       "      <td>2011-12-09 12:50:00</td>\n",
       "      <td>4.15</td>\n",
       "      <td>12680.0</td>\n",
       "      <td>France</td>\n",
       "    </tr>\n",
       "    <tr>\n",
       "      <th>1067369</th>\n",
       "      <td>581587</td>\n",
       "      <td>22138</td>\n",
       "      <td>BAKING SET 9 PIECE RETROSPOT</td>\n",
       "      <td>3</td>\n",
       "      <td>2011-12-09 12:50:00</td>\n",
       "      <td>4.95</td>\n",
       "      <td>12680.0</td>\n",
       "      <td>France</td>\n",
       "    </tr>\n",
       "    <tr>\n",
       "      <th>1067370</th>\n",
       "      <td>581587</td>\n",
       "      <td>POST</td>\n",
       "      <td>POSTAGE</td>\n",
       "      <td>1</td>\n",
       "      <td>2011-12-09 12:50:00</td>\n",
       "      <td>18.00</td>\n",
       "      <td>12680.0</td>\n",
       "      <td>France</td>\n",
       "    </tr>\n",
       "  </tbody>\n",
       "</table>\n",
       "<p>1067371 rows × 8 columns</p>\n",
       "</div>"
      ],
      "text/plain": [
       "        Invoice StockCode                          Description  Quantity  \\\n",
       "0        489434     85048  15CM CHRISTMAS GLASS BALL 20 LIGHTS        12   \n",
       "1        489434    79323P                   PINK CHERRY LIGHTS        12   \n",
       "2        489434    79323W                  WHITE CHERRY LIGHTS        12   \n",
       "3        489434     22041         RECORD FRAME 7\" SINGLE SIZE         48   \n",
       "4        489434     21232       STRAWBERRY CERAMIC TRINKET BOX        24   \n",
       "...         ...       ...                                  ...       ...   \n",
       "1067366  581587     22899         CHILDREN'S APRON DOLLY GIRL          6   \n",
       "1067367  581587     23254        CHILDRENS CUTLERY DOLLY GIRL          4   \n",
       "1067368  581587     23255      CHILDRENS CUTLERY CIRCUS PARADE         4   \n",
       "1067369  581587     22138        BAKING SET 9 PIECE RETROSPOT          3   \n",
       "1067370  581587      POST                              POSTAGE         1   \n",
       "\n",
       "                 InvoiceDate  Price  Customer ID         Country  \n",
       "0        2009-12-01 07:45:00   6.95      13085.0  United Kingdom  \n",
       "1        2009-12-01 07:45:00   6.75      13085.0  United Kingdom  \n",
       "2        2009-12-01 07:45:00   6.75      13085.0  United Kingdom  \n",
       "3        2009-12-01 07:45:00   2.10      13085.0  United Kingdom  \n",
       "4        2009-12-01 07:45:00   1.25      13085.0  United Kingdom  \n",
       "...                      ...    ...          ...             ...  \n",
       "1067366  2011-12-09 12:50:00   2.10      12680.0          France  \n",
       "1067367  2011-12-09 12:50:00   4.15      12680.0          France  \n",
       "1067368  2011-12-09 12:50:00   4.15      12680.0          France  \n",
       "1067369  2011-12-09 12:50:00   4.95      12680.0          France  \n",
       "1067370  2011-12-09 12:50:00  18.00      12680.0          France  \n",
       "\n",
       "[1067371 rows x 8 columns]"
      ]
     },
     "execution_count": 3,
     "metadata": {},
     "output_type": "execute_result"
    }
   ],
   "source": [
    "df"
   ]
  },
  {
   "cell_type": "markdown",
   "id": "aeae2652",
   "metadata": {},
   "source": [
    "## Step 3: Data Preprocessing\n",
    "Clean the data by removing NaN values from the Description field and dropping rows that don't have an invoice number. Also, remove return orders - the ones with a negative quantity"
   ]
  },
  {
   "cell_type": "code",
   "execution_count": 4,
   "id": "3ae6217c",
   "metadata": {},
   "outputs": [
    {
     "name": "stderr",
     "output_type": "stream",
     "text": [
      "C:\\Users\\omidreza\\AppData\\Local\\Temp\\ipykernel_21384\\719720315.py:2: SettingWithCopyWarning: \n",
      "A value is trying to be set on a copy of a slice from a DataFrame\n",
      "\n",
      "See the caveats in the documentation: https://pandas.pydata.org/pandas-docs/stable/user_guide/indexing.html#returning-a-view-versus-a-copy\n",
      "  df.dropna(axis=0, subset=['Invoice'], inplace=True)\n"
     ]
    }
   ],
   "source": [
    "df = df.dropna(subset=['Description'])\n",
    "df.dropna(axis=0, subset=['Invoice'], inplace=True)\n",
    "df = df[df['Quantity'] > 0]"
   ]
  },
  {
   "cell_type": "markdown",
   "id": "31d4a45d",
   "metadata": {},
   "source": [
    "## Step 4: Build the Basket\n",
    "Create a basket which is a representation of all products that are bought together. Since the dataset is too large, we might want to filter it for computation reasons. Let's filter it to 'Germany' for this example. It also makes sense because customers usually have different purchase behaviour in different countries."
   ]
  },
  {
   "cell_type": "code",
   "execution_count": 5,
   "id": "545c2995",
   "metadata": {},
   "outputs": [],
   "source": [
    "basket = (df[df['Country'] ==\"Germany\"]\n",
    "          .groupby(['Invoice', 'Description'])['Quantity']\n",
    "          .sum().unstack().reset_index().fillna(0)\n",
    "          .set_index('Invoice'))"
   ]
  },
  {
   "cell_type": "markdown",
   "id": "8807a4b8",
   "metadata": {},
   "source": [
    "## Step 5: Encode the Data\n",
    "We need to encode the data in a way that if a product is bought its value should be True and False if it's not bought."
   ]
  },
  {
   "cell_type": "code",
   "execution_count": 6,
   "id": "28867a70",
   "metadata": {},
   "outputs": [],
   "source": [
    "def encode_units(x):\n",
    "    if x <= 0:\n",
    "        return False\n",
    "    if x >= 1:\n",
    "        return True\n",
    "\n",
    "basket_sets = basket.applymap(encode_units)"
   ]
  },
  {
   "cell_type": "markdown",
   "id": "e1b202ba",
   "metadata": {},
   "source": [
    "## Step 6: Generate Frequent Itemsets\n",
    "Next, we generate frequent itemsets using the Apriori algorithm. A typical value for the min_support parameter is within 0.05 to 0.25. then the final step is to generate the rules with their corresponding support, confidence and lift."
   ]
  },
  {
   "cell_type": "code",
   "execution_count": 7,
   "id": "26e2d830",
   "metadata": {},
   "outputs": [],
   "source": [
    "frequent_itemsets = apriori(basket_sets, min_support=0.07, use_colnames=True)"
   ]
  },
  {
   "cell_type": "code",
   "execution_count": 8,
   "id": "92d57143",
   "metadata": {},
   "outputs": [],
   "source": [
    "rules = association_rules(frequent_itemsets, metric=\"lift\", min_threshold=1)"
   ]
  },
  {
   "cell_type": "code",
   "execution_count": 9,
   "id": "a27e6c71",
   "metadata": {},
   "outputs": [
    {
     "data": {
      "text/html": [
       "<div>\n",
       "<style scoped>\n",
       "    .dataframe tbody tr th:only-of-type {\n",
       "        vertical-align: middle;\n",
       "    }\n",
       "\n",
       "    .dataframe tbody tr th {\n",
       "        vertical-align: top;\n",
       "    }\n",
       "\n",
       "    .dataframe thead th {\n",
       "        text-align: right;\n",
       "    }\n",
       "</style>\n",
       "<table border=\"1\" class=\"dataframe\">\n",
       "  <thead>\n",
       "    <tr style=\"text-align: right;\">\n",
       "      <th></th>\n",
       "      <th>antecedents</th>\n",
       "      <th>consequents</th>\n",
       "      <th>antecedent support</th>\n",
       "      <th>consequent support</th>\n",
       "      <th>support</th>\n",
       "      <th>confidence</th>\n",
       "      <th>lift</th>\n",
       "      <th>leverage</th>\n",
       "      <th>conviction</th>\n",
       "      <th>zhangs_metric</th>\n",
       "    </tr>\n",
       "  </thead>\n",
       "  <tbody>\n",
       "    <tr>\n",
       "      <th>0</th>\n",
       "      <td>(6 RIBBONS RUSTIC CHARM)</td>\n",
       "      <td>(POSTAGE)</td>\n",
       "      <td>0.106464</td>\n",
       "      <td>0.798479</td>\n",
       "      <td>0.091255</td>\n",
       "      <td>0.857143</td>\n",
       "      <td>1.073469</td>\n",
       "      <td>0.006246</td>\n",
       "      <td>1.410646</td>\n",
       "      <td>0.076596</td>\n",
       "    </tr>\n",
       "    <tr>\n",
       "      <th>1</th>\n",
       "      <td>(POSTAGE)</td>\n",
       "      <td>(6 RIBBONS RUSTIC CHARM)</td>\n",
       "      <td>0.798479</td>\n",
       "      <td>0.106464</td>\n",
       "      <td>0.091255</td>\n",
       "      <td>0.114286</td>\n",
       "      <td>1.073469</td>\n",
       "      <td>0.006246</td>\n",
       "      <td>1.008831</td>\n",
       "      <td>0.339623</td>\n",
       "    </tr>\n",
       "    <tr>\n",
       "      <th>2</th>\n",
       "      <td>(JUMBO BAG WOODLAND ANIMALS)</td>\n",
       "      <td>(POSTAGE)</td>\n",
       "      <td>0.093790</td>\n",
       "      <td>0.798479</td>\n",
       "      <td>0.083650</td>\n",
       "      <td>0.891892</td>\n",
       "      <td>1.116988</td>\n",
       "      <td>0.008761</td>\n",
       "      <td>1.864068</td>\n",
       "      <td>0.115575</td>\n",
       "    </tr>\n",
       "    <tr>\n",
       "      <th>3</th>\n",
       "      <td>(POSTAGE)</td>\n",
       "      <td>(JUMBO BAG WOODLAND ANIMALS)</td>\n",
       "      <td>0.798479</td>\n",
       "      <td>0.093790</td>\n",
       "      <td>0.083650</td>\n",
       "      <td>0.104762</td>\n",
       "      <td>1.116988</td>\n",
       "      <td>0.008761</td>\n",
       "      <td>1.012256</td>\n",
       "      <td>0.519726</td>\n",
       "    </tr>\n",
       "    <tr>\n",
       "      <th>4</th>\n",
       "      <td>(LUNCH BAG WOODLAND)</td>\n",
       "      <td>(POSTAGE)</td>\n",
       "      <td>0.082383</td>\n",
       "      <td>0.798479</td>\n",
       "      <td>0.072243</td>\n",
       "      <td>0.876923</td>\n",
       "      <td>1.098242</td>\n",
       "      <td>0.006462</td>\n",
       "      <td>1.637357</td>\n",
       "      <td>0.097485</td>\n",
       "    </tr>\n",
       "  </tbody>\n",
       "</table>\n",
       "</div>"
      ],
      "text/plain": [
       "                    antecedents                   consequents  \\\n",
       "0      (6 RIBBONS RUSTIC CHARM)                     (POSTAGE)   \n",
       "1                     (POSTAGE)      (6 RIBBONS RUSTIC CHARM)   \n",
       "2  (JUMBO BAG WOODLAND ANIMALS)                     (POSTAGE)   \n",
       "3                     (POSTAGE)  (JUMBO BAG WOODLAND ANIMALS)   \n",
       "4          (LUNCH BAG WOODLAND)                     (POSTAGE)   \n",
       "\n",
       "   antecedent support  consequent support   support  confidence      lift  \\\n",
       "0            0.106464            0.798479  0.091255    0.857143  1.073469   \n",
       "1            0.798479            0.106464  0.091255    0.114286  1.073469   \n",
       "2            0.093790            0.798479  0.083650    0.891892  1.116988   \n",
       "3            0.798479            0.093790  0.083650    0.104762  1.116988   \n",
       "4            0.082383            0.798479  0.072243    0.876923  1.098242   \n",
       "\n",
       "   leverage  conviction  zhangs_metric  \n",
       "0  0.006246    1.410646       0.076596  \n",
       "1  0.006246    1.008831       0.339623  \n",
       "2  0.008761    1.864068       0.115575  \n",
       "3  0.008761    1.012256       0.519726  \n",
       "4  0.006462    1.637357       0.097485  "
      ]
     },
     "execution_count": 9,
     "metadata": {},
     "output_type": "execute_result"
    }
   ],
   "source": [
    "rules.head()"
   ]
  },
  {
   "cell_type": "markdown",
   "id": "f1f166d6",
   "metadata": {},
   "source": [
    "The results show the association rules generated from the market basket analysis. Let's understand what each column represents:\n",
    "\n",
    "antecedents and consequents: These columns represent the sets of items involved in each rule. The antecedents are the items that appear in the left-hand side of the rule, and the consequents are the items that appear in the right-hand side of the rule.\n",
    "\n",
    "antecedent support and consequent support: These columns show the support values for the antecedent and consequent sets, respectively. Support is the proportion of transactions that contain a specific itemset.\n",
    "\n",
    "support: This column represents the support of the rule, which is the proportion of transactions that contain both the antecedent and consequent sets.\n",
    "\n",
    "confidence: Confidence indicates the conditional probability of the consequent given the antecedent. It measures the reliability or strength of the rule.\n",
    "\n",
    "lift: Lift is the ratio of the observed support to the expected support if the antecedent and consequent were independent. It indicates the strength of association between the antecedent and consequent.\n",
    "\n",
    "leverage: Leverage measures the difference between the observed frequency of the antecedent and consequent appearing together and the frequency that would be expected if they were independent.\n",
    "\n",
    "conviction: Conviction is a measure of how much the rule's consequent relies on the antecedent. It compares the expected confidence with the observed confidence under independence assumption.\n",
    "\n",
    "zhangs_metric: Zhang's metric is a measure that combines the lift and conviction values. It is used to assess the quality of association rules.\n",
    "\n",
    "By analyzing these metrics, we can gain insights into the relationships between products and understand which products tend to be purchased together. For example, in the first rule, the antecedent POSTAGE and the consequent 6 RIBBONS RUSTIC CHARM have a support of 0.091255, confidence of 0.114286, and a lift of 1.073469. This indicates that customers who purchase POSTAGE are 1.073469 times more likely to also purchase 6 RIBBONS RUSTIC CHARM compared to the average likelihood.\n",
    "\n",
    "We can use these metrics to identify meaningful associations between products and make recommendations for cross-selling or product placement strategies."
   ]
  },
  {
   "cell_type": "markdown",
   "id": "6ceeaa27",
   "metadata": {},
   "source": [
    "Then we can specify the item for which we want to find possible items in the basket and using the rules calculated before, make suggestions based on which items will land in the basket."
   ]
  },
  {
   "cell_type": "code",
   "execution_count": 10,
   "id": "aad2df12",
   "metadata": {},
   "outputs": [
    {
     "name": "stdout",
     "output_type": "stream",
     "text": [
      "10                                POSTAGE\n",
      "13    ROUND SNACK BOXES SET OF4 WOODLAND \n",
      "Name: consequents, dtype: object\n"
     ]
    }
   ],
   "source": [
    "# Specify the item for which you want to find possible items in the basket\n",
    "item_name = \"PLASTERS IN TIN WOODLAND ANIMALS\"\n",
    "\n",
    "filtered_rules = rules[rules['antecedents'].apply(lambda x: item_name in x)]\n",
    "possible_items = filtered_rules['consequents'].apply(lambda x: list(x)[0])\n",
    "\n",
    "# Print the list of possible items\n",
    "print(possible_items)"
   ]
  },
  {
   "cell_type": "code",
   "execution_count": null,
   "id": "4d9087e9",
   "metadata": {},
   "outputs": [],
   "source": []
  }
 ],
 "metadata": {
  "kernelspec": {
   "display_name": "Python 3 (ipykernel)",
   "language": "python",
   "name": "python3"
  },
  "language_info": {
   "codemirror_mode": {
    "name": "ipython",
    "version": 3
   },
   "file_extension": ".py",
   "mimetype": "text/x-python",
   "name": "python",
   "nbconvert_exporter": "python",
   "pygments_lexer": "ipython3",
   "version": "3.11.3"
  }
 },
 "nbformat": 4,
 "nbformat_minor": 5
}
